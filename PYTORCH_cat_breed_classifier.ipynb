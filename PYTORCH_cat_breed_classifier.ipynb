{
 "cells": [
  {
   "cell_type": "code",
   "execution_count": 0,
   "metadata": {
    "colab": {},
    "colab_type": "code",
    "id": "TOJw26rzxvQ0"
   },
   "outputs": [],
   "source": [
    "import pandas as pd\n",
    "import numpy as np\n",
    "import matplotlib.pyplot as plt\n",
    "import seaborn as sns\n",
    "\n",
    "import torch\n",
    "import torchvision\n",
    "from torchvision import datasets, models, transforms\n",
    "\n",
    "import os\n",
    "import shutil\n",
    "\n",
    "%matplotlib inline"
   ]
  },
  {
   "cell_type": "code",
   "execution_count": 0,
   "metadata": {
    "colab": {},
    "colab_type": "code",
    "id": "VSN_aiQy75Gl"
   },
   "outputs": [],
   "source": [
    "seed = 128\n",
    "rng = np.random.RandomState(seed)"
   ]
  },
  {
   "cell_type": "code",
   "execution_count": 0,
   "metadata": {
    "colab": {
     "base_uri": "https://localhost:8080/",
     "height": 34
    },
    "colab_type": "code",
    "id": "Aq4HYKFdmvzo",
    "outputId": "4872f9d1-1e1e-4714-bfdb-30a05e12e168"
   },
   "outputs": [
    {
     "name": "stdout",
     "output_type": "stream",
     "text": [
      "CUDA is available! Training on GPU...\n"
     ]
    }
   ],
   "source": [
    "# check if CUDA GPU is available\n",
    "train_on_gpu = torch.cuda.is_available()\n",
    "\n",
    "if not train_on_gpu:\n",
    "  print(\"CUDA is NOT available. Training on CPU...\")\n",
    "else:\n",
    "  print(\"CUDA is available! Training on GPU...\")"
   ]
  },
  {
   "cell_type": "markdown",
   "metadata": {
    "colab_type": "text",
    "id": "zQWbqrE7nGVy"
   },
   "source": [
    "# Download, Split and Transform our Data\n",
    "\n",
    "After downloading the data, split the training data into a training and validation set. Then create DataLoaders for each of these sets of data."
   ]
  },
  {
   "cell_type": "code",
   "execution_count": 0,
   "metadata": {
    "colab": {
     "base_uri": "https://localhost:8080/",
     "height": 68
    },
    "colab_type": "code",
    "id": "bMrjajOCDTay",
    "outputId": "e68c7233-1ff9-454c-965b-c3f5db841eba"
   },
   "outputs": [
    {
     "name": "stdout",
     "output_type": "stream",
     "text": [
      "Downloading cat-breeds-dataset.zip to /content\n",
      " 99% 1.91G/1.93G [00:22<00:00, 93.3MB/s]\n",
      "100% 1.93G/1.93G [00:22<00:00, 91.9MB/s]\n"
     ]
    }
   ],
   "source": [
    "os.environ['KAGGLE_USERNAME'] = \"###\" # username from the json file\n",
    "os.environ['KAGGLE_KEY'] = \"###\" # key from the json file\n",
    "!kaggle datasets download -d ma7555/cat-breeds-dataset\n"
   ]
  },
  {
   "cell_type": "code",
   "execution_count": 0,
   "metadata": {
    "colab": {},
    "colab_type": "code",
    "id": "tG5peF76DytU"
   },
   "outputs": [],
   "source": [
    "import zipfile\n",
    "\n",
    "local_zip = '/content/cat-breeds-dataset.zip'\n",
    "\n",
    "zip_ref = zipfile.ZipFile(local_zip, 'r')\n",
    "\n",
    "zip_ref.extractall('/content/cats')\n",
    "zip_ref.close()"
   ]
  },
  {
   "cell_type": "code",
   "execution_count": 0,
   "metadata": {
    "colab": {},
    "colab_type": "code",
    "id": "E4hCFt79n64p"
   },
   "outputs": [],
   "source": [
    "home_dir = os.getcwd()"
   ]
  },
  {
   "cell_type": "code",
   "execution_count": 0,
   "metadata": {
    "colab": {
     "base_uri": "https://localhost:8080/",
     "height": 34
    },
    "colab_type": "code",
    "id": "8Zi8aDEizWlf",
    "outputId": "a6c0c645-70d9-42ee-8162-7ab6d4bde6e7"
   },
   "outputs": [
    {
     "data": {
      "text/plain": [
       "67"
      ]
     },
     "execution_count": 7,
     "metadata": {
      "tags": []
     },
     "output_type": "execute_result"
    }
   ],
   "source": [
    "# get the number of breeds saved as folders in the image dataset\n",
    "num_breed_folders = len(os.listdir(os.path.join(home_dir, 'cats/images')))\n",
    "num_breed_folders"
   ]
  },
  {
   "cell_type": "code",
   "execution_count": 0,
   "metadata": {
    "colab": {
     "base_uri": "https://localhost:8080/",
     "height": 204
    },
    "colab_type": "code",
    "id": "iECC8d1tp7uK",
    "outputId": "bd982f8e-a7b7-4bb1-a22d-f0c57b6774cc"
   },
   "outputs": [
    {
     "data": {
      "text/html": [
       "<div>\n",
       "<style scoped>\n",
       "    .dataframe tbody tr th:only-of-type {\n",
       "        vertical-align: middle;\n",
       "    }\n",
       "\n",
       "    .dataframe tbody tr th {\n",
       "        vertical-align: top;\n",
       "    }\n",
       "\n",
       "    .dataframe thead th {\n",
       "        text-align: right;\n",
       "    }\n",
       "</style>\n",
       "<table border=\"1\" class=\"dataframe\">\n",
       "  <thead>\n",
       "    <tr style=\"text-align: right;\">\n",
       "      <th></th>\n",
       "      <th>id</th>\n",
       "      <th>url</th>\n",
       "      <th>type</th>\n",
       "      <th>age</th>\n",
       "      <th>gender</th>\n",
       "      <th>size</th>\n",
       "      <th>coat</th>\n",
       "      <th>breed</th>\n",
       "      <th>photos</th>\n",
       "      <th>med_photos</th>\n",
       "    </tr>\n",
       "  </thead>\n",
       "  <tbody>\n",
       "    <tr>\n",
       "      <th>0</th>\n",
       "      <td>46744842</td>\n",
       "      <td>https://www.petfinder.com/cat/arianna-46744842...</td>\n",
       "      <td>Cat</td>\n",
       "      <td>Adult</td>\n",
       "      <td>Female</td>\n",
       "      <td>Medium</td>\n",
       "      <td>NaN</td>\n",
       "      <td>Abyssinian</td>\n",
       "      <td>[{'small': 'https://dl5zpyw5k3jeb.cloudfront.n...</td>\n",
       "      <td>['https://dl5zpyw5k3jeb.cloudfront.net/photos/...</td>\n",
       "    </tr>\n",
       "    <tr>\n",
       "      <th>1</th>\n",
       "      <td>46717321</td>\n",
       "      <td>https://www.petfinder.com/cat/ozzy-46717321/oh...</td>\n",
       "      <td>Cat</td>\n",
       "      <td>Adult</td>\n",
       "      <td>Male</td>\n",
       "      <td>Extra Large</td>\n",
       "      <td>NaN</td>\n",
       "      <td>Abyssinian</td>\n",
       "      <td>[{'small': 'https://dl5zpyw5k3jeb.cloudfront.n...</td>\n",
       "      <td>['https://dl5zpyw5k3jeb.cloudfront.net/photos/...</td>\n",
       "    </tr>\n",
       "    <tr>\n",
       "      <th>2</th>\n",
       "      <td>46626338</td>\n",
       "      <td>https://www.petfinder.com/cat/zena-46626338/ca...</td>\n",
       "      <td>Cat</td>\n",
       "      <td>Senior</td>\n",
       "      <td>Female</td>\n",
       "      <td>Medium</td>\n",
       "      <td>NaN</td>\n",
       "      <td>Abyssinian</td>\n",
       "      <td>[{'small': 'https://dl5zpyw5k3jeb.cloudfront.n...</td>\n",
       "      <td>['https://dl5zpyw5k3jeb.cloudfront.net/photos/...</td>\n",
       "    </tr>\n",
       "    <tr>\n",
       "      <th>3</th>\n",
       "      <td>46620170</td>\n",
       "      <td>https://www.petfinder.com/cat/mika-46620170/ca...</td>\n",
       "      <td>Cat</td>\n",
       "      <td>Baby</td>\n",
       "      <td>Female</td>\n",
       "      <td>Small</td>\n",
       "      <td>Short</td>\n",
       "      <td>Abyssinian</td>\n",
       "      <td>[{'small': 'https://dl5zpyw5k3jeb.cloudfront.n...</td>\n",
       "      <td>['https://dl5zpyw5k3jeb.cloudfront.net/photos/...</td>\n",
       "    </tr>\n",
       "    <tr>\n",
       "      <th>4</th>\n",
       "      <td>46582751</td>\n",
       "      <td>https://www.petfinder.com/cat/ruby-46582751/fl...</td>\n",
       "      <td>Cat</td>\n",
       "      <td>Young</td>\n",
       "      <td>Female</td>\n",
       "      <td>Medium</td>\n",
       "      <td>NaN</td>\n",
       "      <td>Abyssinian</td>\n",
       "      <td>[{'small': 'https://dl5zpyw5k3jeb.cloudfront.n...</td>\n",
       "      <td>['https://dl5zpyw5k3jeb.cloudfront.net/photos/...</td>\n",
       "    </tr>\n",
       "  </tbody>\n",
       "</table>\n",
       "</div>"
      ],
      "text/plain": [
       "         id  ...                                         med_photos\n",
       "0  46744842  ...  ['https://dl5zpyw5k3jeb.cloudfront.net/photos/...\n",
       "1  46717321  ...  ['https://dl5zpyw5k3jeb.cloudfront.net/photos/...\n",
       "2  46626338  ...  ['https://dl5zpyw5k3jeb.cloudfront.net/photos/...\n",
       "3  46620170  ...  ['https://dl5zpyw5k3jeb.cloudfront.net/photos/...\n",
       "4  46582751  ...  ['https://dl5zpyw5k3jeb.cloudfront.net/photos/...\n",
       "\n",
       "[5 rows x 10 columns]"
      ]
     },
     "execution_count": 8,
     "metadata": {
      "tags": []
     },
     "output_type": "execute_result"
    }
   ],
   "source": [
    "# inspect CSV data\n",
    "cats_df = pd.read_csv(os.path.join(home_dir, 'cats/data/cats.csv'))\n",
    "# remove 'Unnamed: 0' column\n",
    "cats_df.drop(['Unnamed: 0'], axis=1, inplace=True)\n",
    "cats_df.head()"
   ]
  },
  {
   "cell_type": "code",
   "execution_count": 0,
   "metadata": {
    "colab": {
     "base_uri": "https://localhost:8080/",
     "height": 34
    },
    "colab_type": "code",
    "id": "AfGJWzdpzWvt",
    "outputId": "507632d4-8acb-4ce7-b901-2cec8ac6ee9b"
   },
   "outputs": [
    {
     "data": {
      "text/plain": [
       "126607"
      ]
     },
     "execution_count": 9,
     "metadata": {
      "tags": []
     },
     "output_type": "execute_result"
    }
   ],
   "source": [
    "# get the total number of image files\n",
    "num_images = sum(len(f) for r, d, f in os.walk(os.path.join(home_dir, 'cats/images')))\n",
    "num_images"
   ]
  },
  {
   "cell_type": "code",
   "execution_count": 0,
   "metadata": {
    "colab": {
     "base_uri": "https://localhost:8080/",
     "height": 1000
    },
    "colab_type": "code",
    "id": "nxY9eHrRzW9x",
    "outputId": "af6aa0f9-812e-4a84-f7a3-6c35bd411922"
   },
   "outputs": [
    {
     "name": "stdout",
     "output_type": "stream",
     "text": [
      "/content/cats/images 0\n",
      "/content/cats/images/Sphynx - Hairless Cat 209\n",
      "/content/cats/images/Tiger 2256\n",
      "/content/cats/images/Dilute Tortoiseshell 3152\n",
      "/content/cats/images/Silver 94\n",
      "/content/cats/images/Chausie 24\n",
      "/content/cats/images/Somali 36\n",
      "/content/cats/images/Canadian Hairless 4\n",
      "/content/cats/images/Norwegian Forest Cat 580\n",
      "/content/cats/images/Selkirk Rex 77\n",
      "/content/cats/images/American Curl 149\n",
      "/content/cats/images/Applehead Siamese 135\n",
      "/content/cats/images/Javanese 25\n",
      "/content/cats/images/Chartreux 84\n",
      "/content/cats/images/Balinese 254\n",
      "/content/cats/images/LaPerm 17\n",
      "/content/cats/images/Himalayan 1301\n",
      "/content/cats/images/Scottish Fold 380\n",
      "/content/cats/images/Singapura 22\n",
      "/content/cats/images/Snowshoe 1625\n",
      "/content/cats/images/Oriental Tabby 101\n",
      "/content/cats/images/Ragdoll 2669\n",
      "/content/cats/images/Tuxedo 3181\n",
      "/content/cats/images/Cymric 17\n",
      "/content/cats/images/Siberian 189\n",
      "/content/cats/images/Manx 2059\n",
      "/content/cats/images/Turkish Angora 750\n",
      "/content/cats/images/Turkish Van 815\n",
      "/content/cats/images/Korat 68\n",
      "/content/cats/images/British Shorthair 567\n",
      "/content/cats/images/Domestic Long Hair 4499\n",
      "/content/cats/images/York Chocolate 1\n",
      "/content/cats/images/Bombay 1835\n",
      "/content/cats/images/Havana 184\n",
      "/content/cats/images/Persian 4018\n",
      "/content/cats/images/Domestic Short Hair 53027\n",
      "/content/cats/images/Birman 227\n",
      "/content/cats/images/Cornish Rex 171\n",
      "/content/cats/images/Maine Coon 1418\n",
      "/content/cats/images/Japanese Bobtail 127\n",
      "/content/cats/images/Siamese 2888\n",
      "/content/cats/images/Burmilla 8\n",
      "/content/cats/images/Munchkin 181\n",
      "/content/cats/images/Nebelung 148\n",
      "/content/cats/images/Abyssinian 255\n",
      "/content/cats/images/Chinchilla 3\n",
      "/content/cats/images/Tortoiseshell 3963\n",
      "/content/cats/images/Exotic Shorthair 471\n",
      "/content/cats/images/Ragamuffin 134\n",
      "/content/cats/images/Dilute Calico 3230\n",
      "/content/cats/images/Burmese 344\n",
      "/content/cats/images/Extra-Toes Cat - Hemingway Polydactyl 1184\n",
      "/content/cats/images/Calico 3468\n",
      "/content/cats/images/American Wirehair 19\n",
      "/content/cats/images/Torbie 3396\n",
      "/content/cats/images/Tabby 3012\n",
      "/content/cats/images/Bengal 2477\n",
      "/content/cats/images/Domestic Medium Hair 5482\n",
      "/content/cats/images/Devon Rex 119\n",
      "/content/cats/images/Tonkinese 260\n",
      "/content/cats/images/Pixiebob 111\n",
      "/content/cats/images/Oriental Short Hair 491\n",
      "/content/cats/images/American Bobtail 991\n",
      "/content/cats/images/Russian Blue 1870\n",
      "/content/cats/images/American Shorthair 5295\n",
      "/content/cats/images/Oriental Long Hair 37\n",
      "/content/cats/images/Egyptian Mau 305\n",
      "/content/cats/images/Ocicat 118\n"
     ]
    }
   ],
   "source": [
    "# check the total number of images \n",
    "for r, d, f in os.walk(os.path.join(home_dir, 'cats/images')):\n",
    "  print(f'{r}', len(f))"
   ]
  },
  {
   "cell_type": "markdown",
   "metadata": {
    "colab_type": "text",
    "id": "cGGpnTUmCZf2"
   },
   "source": [
    "## Split into Train and Test sets"
   ]
  },
  {
   "cell_type": "code",
   "execution_count": 0,
   "metadata": {
    "colab": {},
    "colab_type": "code",
    "id": "dv_BZZAszXE9"
   },
   "outputs": [],
   "source": [
    "if os.path.exists(os.path.join(home_dir, 'cats_data')):\n",
    "  shutil.rmtree(os.path.join(home_dir, 'cats_data'))\n",
    "\n",
    "# make directories for train and test\n",
    "root_dir = os.path.join(home_dir, 'cats_data')\n",
    "os.makedirs(root_dir)\n",
    "\n",
    "# make train and test dirs\n",
    "train_dir = os.path.join(root_dir, 'train')\n",
    "test_dir = os.path.join(root_dir, 'test')\n",
    "\n",
    "os.makedirs(train_dir)\n",
    "os.makedirs(test_dir)\n",
    "\n",
    "# make folders representing each breed in each train and test dir\n",
    "for label in cats_df['breed'].unique():\n",
    "  os.makedirs(os.path.join(train_dir, label))\n",
    "  os.makedirs(os.path.join(test_dir, label))"
   ]
  },
  {
   "cell_type": "code",
   "execution_count": 0,
   "metadata": {
    "colab": {
     "base_uri": "https://localhost:8080/",
     "height": 139
    },
    "colab_type": "code",
    "id": "6scOiO1trbJg",
    "outputId": "417669fe-fd3f-4775-bb0d-2ec36de77733"
   },
   "outputs": [
    {
     "name": "stdout",
     "output_type": "stream",
     "text": [
      "/content/cats/images []\n",
      "/content/cats/images/Sphynx - Hairless Cat ['35382968_115.jpg', '41166063_65.jpg', '30442925_185.jpg', '38589548_85.jpg', '25949037_223.jpg', '18332395_299.jpg', '37768883_95.jpg', '44154257_26.jpg', '24657373_237.jpg', '31736281_171.jpg', '32674679_156.jpg', '20193474_273.jpg', '35965177_109.jpg', '20044566_278.jpg', '20193489_272.jpg', '34410063_124.jpg', '39013001_78.jpg', '44504562_22.jpg', '42540142_52.jpg', '42014207_55.jpg', '18610319_296.jpg', '26327808_216.jpg', '41980654_57.jpg', '24661358_236.jpg', '35585753_112.jpg', '26726596_209.jpg', '19808435_286.jpg', '33227074_146.jpg', '18332348_298.jpg', '43003417_42.jpg', '26833178_207.jpg', '42588797_53.jpg', '39103128_76.jpg', '22992252_251.jpg', '43102068_37.jpg', '39871977_72.jpg', '33242958_142.jpg', '32750890_155.jpg', '24741780_234.jpg', '23166056_249.jpg', '43231715_34.jpg', '41494396_63.jpg', '25397312_227.jpg', '20044586_276.jpg', '38024287_90.jpg', '33187075_148.jpg', '30591905_183.jpg', '45219485_16.jpg', '33496530_139.jpg', '26327493_219.jpg', '30443005_184.jpg', '32010769_162.jpg', '39103118_77.jpg', '41554908_62.jpg', '31403090_175.jpg', '26713292_210.jpg', '34226559_130.jpg', '46407607_34249.jpg', '40568875_68.jpg', '22788985_252.jpg', '24080510_243.jpg', '43145381_35.jpg', '18778434_293.jpg', '41598705_58.jpg', '21539348_264.jpg', '30722597_180.jpg', '23718616_244.jpg', '24728330_235.jpg', '37143216_103.jpg', '34996018_118.jpg', '34687348_121.jpg', '35123614_117.jpg', '33881676_137.jpg', '37951370_92.jpg', '18332454_298.jpg', '24971326_233.jpg', '20344026_268.jpg', '24516628_238.jpg', '21748994_262.jpg', '20320113_270.jpg', '32010317_164.jpg', '37155067_102.jpg', '28876991_195.jpg', '46355209_39319.jpg', '33227092_145.jpg', '34899955_119.jpg', '31183581_178.jpg', '27921262_203.jpg', '18776014_294.jpg', '20301678_271.jpg', '28113937_200.jpg', '19304305_289.jpg', '43102050_39.jpg', '30722575_181.jpg', '34776897_120.jpg', '35702065_111.jpg', '38171074_89.jpg', '26409607_215.jpg', '28372568_199.jpg', '34088122_132.jpg', '37833250_93.jpg', '34226805_129.jpg', '25948935_224.jpg', '25302810_229.jpg', '43102062_38.jpg', '39466540_74.jpg', '30375989_187.jpg', '43296402_33.jpg', '37963711_91.jpg', '43102072_36.jpg', '26439810_214.jpg', '38899046_81.jpg', '38760371_83.jpg', '31275252_176.jpg', '31965015_165.jpg', '41980709_56.jpg', '42758926_50.jpg', '37600020_97.jpg', '32612016_157.jpg', '41576774_61.jpg', '31223841_177.jpg', '19997478_282.jpg', '26763007_208.jpg', '26327730_218.jpg', '46353437_39538.jpg', '37209418_101.jpg', '20193409_275.jpg', '46176787_54835.jpg', '18332339_299.jpg', '27921270_202.jpg', '18616270_295.jpg', '42634014_51.jpg', '44492568_23.jpg', '24298993_241.jpg', '41598701_60.jpg', '31885703_167.jpg', '32010773_161.jpg', '30693962_182.jpg', '26473417_213.jpg', '33283323_141.jpg', '28899737_194.jpg', '25227058_230.jpg', '45196387_18.jpg', '27844256_204.jpg', '18375601_297.jpg', '22351044_254.jpg', '41598703_59.jpg', '32010764_163.jpg', '21748990_263.jpg', '25397339_226.jpg', '43408171_32.jpg', '29398383_190.jpg', '31857845_168.jpg', '44159854_25.jpg', '34372965_126.jpg', '26327201_221.jpg', '33911679_135.jpg', '21028856_265.jpg', '26327773_217.jpg', '35177047_116.jpg', '42893093_46.jpg', '21919229_260.jpg', '23363345_246.jpg', '44852566_21.jpg', '33496541_138.jpg', '31798390_169.jpg', '46176788_54834.jpg', '43689309_29.jpg', '39466613_73.jpg', '41442396_64.jpg', '19530094_287.jpg', '38808161_82.jpg', '38511613_86.jpg', '38265645_88.jpg', '39382478_75.jpg', '43797598_28.jpg', '19818179_285.jpg', '27927883_201.jpg', '45221377_15.jpg', '26327300_220.jpg', '40100885_69.jpg', '40099284_70.jpg', '26476015_212.jpg', '43539196_31.jpg', '24971381_232.jpg', '36757204_105.jpg', '20193452_274.jpg', '42343735_54.jpg', '31758642_170.jpg', '43973495_27.jpg', '33187166_147.jpg', '38665079_84.jpg', '24299870_240.jpg', '42893068_47.jpg', '28899822_193.jpg', '37768901_94.jpg', '27677192_205.jpg', '25315083_228.jpg', '24370618_239.jpg', '33107435_150.jpg', '31555380_174.jpg', '19304318_288.jpg', '21881666_261.jpg', '37413748_98.jpg', '31662644_172.jpg', '28625831_196.jpg', '33446667_140.jpg', '39992315_71.jpg', '22584781_253.jpg']\n",
      "/content/cats/images/Tiger ['44059103_2681.jpg', '38511621_9065.jpg', '43123867_3737.jpg', '45682501_969.jpg', '45237723_1463.jpg', '41754987_5585.jpg', '41842391_5483.jpg', '40277391_6906.jpg', '44943707_1835.jpg', '38241658_9262.jpg', '43093979_3774.jpg', '42000705_5255.jpg', '41051182_6299.jpg', '43019799_3892.jpg', '37866608_9742.jpg', '42313910_4853.jpg', '42136629_5077.jpg', '37989422_9601.jpg', '43689321_3093.jpg', '41750725_5601.jpg', '37939663_9665.jpg', '41960721_5305.jpg', '37684954_9935.jpg', '44159593_2571.jpg', '44240145_2497.jpg', '44385981_2366.jpg', '44087721_2642.jpg', '42466174_4649.jpg', '37850678_9770.jpg', '45935429_719.jpg', '37954265_9650.jpg', '42105752_5134.jpg', '40891036_6420.jpg', '39534862_7767.jpg', '42857207_4096.jpg', '45628342_1016.jpg', '39993741_7155.jpg', '41754979_5587.jpg', '43583047_3217.jpg', '44916183_1866.jpg', '46009705_664.jpg', '46709278_80.jpg', '38061625_9517.jpg', '45340122_1320.jpg', '41905547_5385.jpg', '43086426_3776.jpg', '42466478_4640.jpg', '42466349_4644.jpg', '46104226_576.jpg', '38141160_9400.jpg', '42136677_5075.jpg', '39733847_7495.jpg', '44615079_2164.jpg', '41075246_6275.jpg', '43343196_3502.jpg', '38768906_8676.jpg', '46538534_20046.jpg', '40095665_7029.jpg', '39549508_7732.jpg', '42334528_4826.jpg', '46446497_30212.jpg', '43957879_2791.jpg', '39510498_7787.jpg', '37845513_9774.jpg', '43399375_3435.jpg', '45494796_1153.jpg', '41149691_6205.jpg', '37775353_9841.jpg', '45361352_1286.jpg', '45894487_767.jpg', '39179851_8174.jpg', '45710565_938.jpg', '42973092_3943.jpg', '42105782_5133.jpg', '39929220_7234.jpg', '45210253_1513.jpg', '41728374_5633.jpg', '45821257_840.jpg', '43239377_3601.jpg', '44921845_1858.jpg', '40562598_6781.jpg', '45155165_1604.jpg', '44750460_2036.jpg', '41216955_6143.jpg', '37794882_9827.jpg', '42578369_4466.jpg', '40626924_6669.jpg', '45662575_990.jpg', '42986685_3922.jpg', '38368222_9191.jpg', '42491303_4586.jpg', '38180609_9344.jpg', '43244948_3594.jpg', '37688587_9931.jpg', '41754976_5588.jpg', '45041052_1736.jpg', '39526737_7778.jpg', '38241602_9263.jpg', '41755018_5583.jpg', '37913528_9707.jpg', '41956165_5306.jpg', '43199336_3666.jpg', '42382416_4761.jpg', '41655625_5702.jpg', '39089698_8275.jpg', '43281398_3567.jpg', '45296453_1374.jpg', '41105057_6247.jpg', '37935737_9673.jpg', '45696884_952.jpg', '39993707_7157.jpg', '41987627_5272.jpg', '46601425_11952.jpg', '40896970_6419.jpg', '44417158_2331.jpg', '45296439_1375.jpg', '43991460_2738.jpg', '46541622_19601.jpg', '45415008_1193.jpg', '41932428_5353.jpg', '42600275_4421.jpg', '45897028_764.jpg', '43223119_3619.jpg', '44780246_1996.jpg', '41477912_5889.jpg', '40898015_6415.jpg', '45347956_1312.jpg', '45475984_1156.jpg', '39264688_8071.jpg', '39994402_7154.jpg', '42520284_4545.jpg', '40011394_7126.jpg', '43396882_3444.jpg', '39467569_7850.jpg', '39775253_7440.jpg', '45499217_1145.jpg', '46498716_24701.jpg', '41686358_5674.jpg', '45821286_838.jpg', '41008089_6332.jpg', '44679427_2113.jpg', '39088015_8280.jpg', '37754893_9861.jpg', '45471312_1162.jpg', '42520377_4544.jpg', '41610717_5753.jpg', '43221460_3626.jpg', '41669722_5684.jpg', '42245398_4935.jpg', '39024428_8335.jpg', '43419724_3418.jpg', '40103304_7022.jpg', '38642587_8894.jpg', '38239543_9269.jpg', '39007413_8367.jpg', '39004933_8375.jpg', '42496769_4577.jpg', '42138767_5062.jpg', '38598046_8955.jpg', '38873284_8559.jpg', '40866577_6458.jpg', '43183141_3681.jpg', '45847600_813.jpg', '38004312_9577.jpg', '37970430_9625.jpg', '44665392_2117.jpg', '39853873_7325.jpg', '43961997_2790.jpg', '40609071_6723.jpg', '46415327_33474.jpg', '41823883_5509.jpg', '39238614_8113.jpg', '37713237_9907.jpg', '42859677_4090.jpg', '37721962_9900.jpg', '40525130_6804.jpg', '39269652_8059.jpg', '46121686_566.jpg', '44492794_2263.jpg', '37720939_9901.jpg', '38540703_9043.jpg', '40129202_6983.jpg', '37965437_9632.jpg', '41534547_5825.jpg', '43319224_3537.jpg', '45410978_1213.jpg', '41477788_5890.jpg', '45501715_1140.jpg', '45743179_903.jpg', '43747000_3014.jpg', '40496799_6844.jpg', '41932503_5350.jpg', '42467016_4632.jpg', '37954408_9646.jpg', '46611238_10552.jpg', '39067770_8299.jpg', '43103909_3757.jpg', '43079813_3798.jpg', '38194189_9312.jpg', '45878446_786.jpg', '39843901_7337.jpg', '43568886_3234.jpg', '43801227_2973.jpg', '38624805_8915.jpg', '41643455_5714.jpg', '38133044_9407.jpg', '43378814_3473.jpg', '42852816_4105.jpg', '46140529_57817.jpg', '39368139_7957.jpg', '46603706_11583.jpg', '39149956_8220.jpg', '42992375_3917.jpg', '42436619_4685.jpg', '46070390_601.jpg', '39862094_7315.jpg', '37822714_9797.jpg', '39638252_7622.jpg', '37929559_9686.jpg', '40719676_6609.jpg', '44931458_1848.jpg', '45022923_1742.jpg', '38729904_8738.jpg', '37999037_9588.jpg', '39872824_7307.jpg', '42014004_5223.jpg', '44416106_2332.jpg', '43511123_3307.jpg', '42520191_4546.jpg', '42389857_4758.jpg', '43835315_2936.jpg', '44944469_1824.jpg', '44606084_2179.jpg', '45985590_684.jpg', '42067246_5167.jpg', '39368828_7955.jpg', '39981628_7171.jpg', '39123527_8252.jpg', '43560478_3249.jpg', '39509197_7788.jpg', '41356687_6040.jpg', '39615351_7656.jpg', '41669701_5685.jpg', '43544766_3271.jpg', '42540995_4510.jpg', '37865674_9746.jpg', '43101309_3770.jpg', '45329573_1336.jpg', '46611312_10549.jpg', '39656885_7607.jpg', '44140185_2589.jpg', '43123870_3736.jpg', '38035426_9544.jpg', '39189392_8163.jpg', '42612922_4417.jpg', '40610254_6722.jpg', '39667506_7583.jpg', '40082289_7050.jpg', '41228222_6132.jpg', '43986594_2750.jpg', '38629764_8908.jpg', '42973170_3942.jpg', '38816035_8612.jpg', '40405481_6858.jpg', '38439949_9146.jpg', '44059553_2680.jpg', '41812982_5518.jpg', '37939647_9667.jpg', '42245349_4936.jpg', '45662371_993.jpg', '46611429_10529.jpg', '40889169_6430.jpg', '37684996_9934.jpg', '38630233_8905.jpg', '44032320_2705.jpg', '38642504_8895.jpg', '42436646_4684.jpg', '40778426_6544.jpg', '41643451_5715.jpg', '44846190_1934.jpg', '44522541_2238.jpg', '39544826_7744.jpg', '41107880_6239.jpg', '44770492_2005.jpg', '42197958_4986.jpg', '37640948_9981.jpg', '45691524_962.jpg', '39879181_7302.jpg', '43347739_3497.jpg', '44070092_2668.jpg', '38583168_8987.jpg', '41801726_5541.jpg', '43916694_2828.jpg', '43297107_3553.jpg', '42120084_5104.jpg', '46077655_600.jpg', '40656730_6672.jpg', '39076790_8289.jpg', '45310843_1366.jpg', '37775369_9840.jpg', '43079810_3799.jpg', '39952271_7198.jpg', '44519177_2246.jpg', '45340066_1321.jpg', '42370893_4790.jpg', '45263251_1438.jpg', '43253901_3587.jpg', '39010566_8362.jpg', '45330863_1335.jpg', '39816425_7380.jpg', '40661483_6668.jpg', '41813757_5513.jpg', '46121788_565.jpg', '46563683_17063.jpg', '44139454_2593.jpg', '42189513_5003.jpg', '38937674_8443.jpg', '39891082_7296.jpg', '43169309_3695.jpg', '38356101_9211.jpg', '39258606_8086.jpg', '41635226_5723.jpg', '39892941_7292.jpg', '40014963_7122.jpg', '43577187_3222.jpg', '43937550_2765.jpg', '42470604_4620.jpg', '42261990_4920.jpg', '40134032_6978.jpg', '43602958_3178.jpg', '38576282_8999.jpg', '41669404_5687.jpg', '43947634_2805.jpg', '37659282_9958.jpg', '41390007_5989.jpg', '42352321_4815.jpg', '40019978_7113.jpg', '46278061_46208.jpg', '43113901_3745.jpg', '43203717_3660.jpg', '40978092_6347.jpg', '43542991_3276.jpg', '42746648_4252.jpg', '45226886_1488.jpg', '43986816_2749.jpg', '45072815_1682.jpg', '42726115_4279.jpg', '42370890_4791.jpg', '37626291_9999.jpg', '40708176_6618.jpg', '45741245_907.jpg', '43592070_3203.jpg', '43364264_3492.jpg', '42691340_4336.jpg', '43707137_3075.jpg', '42767686_4233.jpg', '40948376_6381.jpg', '40387491_6866.jpg', '39296848_8036.jpg', '40103314_7021.jpg', '43540380_3277.jpg', '41046239_6308.jpg', '42042550_5196.jpg', '38576250_9002.jpg', '43169325_3694.jpg', '38692139_8815.jpg', '42756590_4244.jpg', '43976464_2772.jpg', '38884924_8542.jpg', '42841905_4111.jpg', '40121226_6989.jpg', '46299029_44303.jpg', '42950148_3999.jpg', '38912374_8502.jpg', '43910889_2839.jpg', '44099402_2630.jpg', '45528573_1119.jpg', '45910810_744.jpg', '41262615_6104.jpg', '42950204_3997.jpg', '38932217_8465.jpg', '38661226_8862.jpg', '42927488_4016.jpg', '39300719_8032.jpg', '42167725_5026.jpg', '41857318_5467.jpg', '41708777_5642.jpg', '42381616_4768.jpg', '39546788_7740.jpg', '39292894_8042.jpg', '45500903_1142.jpg', '38116115_9453.jpg', '38532037_9052.jpg', '39077373_8282.jpg', '37840887_9781.jpg', '43417983_3422.jpg', '38106204_9463.jpg', '42957730_3985.jpg', '38992472_8381.jpg', '39441917_7869.jpg', '43594329_3199.jpg', '43031266_3854.jpg', '42746624_4253.jpg', '42408204_4715.jpg', '42717126_4307.jpg', '46053404_630.jpg', '42877881_4078.jpg', '42975369_3938.jpg', '43688716_3097.jpg', '43274147_3574.jpg', '42303703_4338.jpg', '43230089_3609.jpg', '42678890_4349.jpg', '45572979_1088.jpg', '42726728_4270.jpg', '39487113_7814.jpg', '40337916_6880.jpg', '44770506_2004.jpg', '40073182_7069.jpg', '43826361_2954.jpg', '39751211_7472.jpg', '38536958_9045.jpg', '41995061_5267.jpg', '38170729_9352.jpg', '39479591_7831.jpg', '46756860_13.jpg', '43141201_3724.jpg', '45380691_1263.jpg', '38727319_8743.jpg', '46283942_45732.jpg', '38922987_8485.jpg', '43154015_3709.jpg', '40998434_6339.jpg', '37960771_9638.jpg', '41753525_5591.jpg', '39547038_7739.jpg', '41912761_5381.jpg', '40770055_6547.jpg', '40590751_6745.jpg', '43123474_3742.jpg', '37960070_9642.jpg', '41070110_6277.jpg', '40882486_6435.jpg', '42005414_5240.jpg', '39197904_8150.jpg', '42726123_4278.jpg', '39189433_8161.jpg', '38673038_8837.jpg', '44617132_2161.jpg', '41775604_5567.jpg', '42152483_5029.jpg', '42136615_5078.jpg', '39692218_7558.jpg', '45632791_1011.jpg', '43878404_2889.jpg', '42160128_5033.jpg', '39903374_7273.jpg', '41212479_6155.jpg', '44809776_1974.jpg', '39431392_7886.jpg', '44606097_2178.jpg', '38221653_9287.jpg', '43573363_3229.jpg', '43390622_3449.jpg', '45451052_1184.jpg', '39494794_7802.jpg', '40661503_6667.jpg', '40588779_6746.jpg', '43643278_3146.jpg', '42073280_5166.jpg', '41066290_6285.jpg', '44916190_1865.jpg', '39903335_7274.jpg', '43568967_3233.jpg', '45286878_1395.jpg', '40125891_6988.jpg', '40916979_6406.jpg', '39848698_7334.jpg', '38660493_8864.jpg', '44679442_2112.jpg', '40031612_7103.jpg', '43347630_3499.jpg', '45421085_1190.jpg', '43047266_3826.jpg', '38582244_8989.jpg', '45092507_1672.jpg', '46401737_34828.jpg', '38015936_9563.jpg', '42138702_5064.jpg', '39369127_7954.jpg', '45772259_880.jpg', '43544754_3273.jpg', '42664165_4389.jpg', '40980223_6344.jpg', '44290548_2449.jpg', '45691548_961.jpg', '42354522_4809.jpg', '37929565_9684.jpg', '40758279_6568.jpg', '46710506_78.jpg', '43710454_3066.jpg', '38239570_9268.jpg', '38356148_9209.jpg', '46526866_21406.jpg', '38358432_9207.jpg', '46494132_25282.jpg', '38008109_9572.jpg', '45210241_1514.jpg', '40344237_6869.jpg', '39343426_7987.jpg', '38804930_8640.jpg', '39981528_7172.jpg', '39615339_7657.jpg', '42055473_5185.jpg', '38241100_9267.jpg', '40092245_7032.jpg', '40843804_6487.jpg', '44240151_2496.jpg', '42167731_5024.jpg', '44070348_2665.jpg', '38957758_8415.jpg', '43378603_3474.jpg', '45197510_1541.jpg', '45924062_726.jpg', '38203251_9307.jpg', '39903529_7270.jpg', '41147334_6209.jpg', '40188971_6941.jpg', '43203725_3658.jpg', '45326995_1346.jpg', '44846158_1932.jpg', '40008355_7131.jpg', '40839250_6490.jpg', '41117523_6232.jpg', '41100288_6258.jpg', '40090145_7035.jpg', '45196864_1543.jpg', '42261602_4923.jpg', '45023558_1741.jpg', '46088846_586.jpg', '38968703_8388.jpg', '44247973_2489.jpg', '43065762_3814.jpg', '39313447_8010.jpg', '42300964_4872.jpg', '46609857_10727.jpg', '40177891_6958.jpg', '39656957_7606.jpg', '43900093_2851.jpg', '43801224_2974.jpg', '37939673_9664.jpg', '41457539_5923.jpg', '37737958_9871.jpg', '38556738_9025.jpg', '44252659_2488.jpg', '37852237_9769.jpg', '38676777_8832.jpg', '41534471_5826.jpg', '43228536_3614.jpg', '38227133_9278.jpg', '38810398_8620.jpg', '38957827_8410.jpg', '39571779_7709.jpg', '40867164_6456.jpg', '38374220_9181.jpg', '37845188_9778.jpg', '44275647_2458.jpg', '39468036_7848.jpg', '38697079_8812.jpg', '38460872_9120.jpg', '40588362_6748.jpg', '43123856_3738.jpg', '41356773_6039.jpg', '42466448_4642.jpg', '42787837_4212.jpg', '39156761_8215.jpg', '43398894_3442.jpg', '44378070_2375.jpg', '40131813_6982.jpg', '39313424_8012.jpg', '40697948_6627.jpg', '39263070_8078.jpg', '45776941_875.jpg', '38713083_8789.jpg', '40338552_6879.jpg', '41250196_6116.jpg', '38354864_9212.jpg', '39529693_7774.jpg', '43555890_3264.jpg', '37930062_9683.jpg', '44951535_1820.jpg', '37974561_9618.jpg', '43511072_3308.jpg', '45207990_1520.jpg', '41630414_5741.jpg', '39623002_7647.jpg', '39903723_7268.jpg', '46711977_71.jpg', '42329443_4835.jpg', '38401026_9172.jpg', '43688713_3098.jpg', '39751156_7473.jpg', '39589298_7692.jpg', '38955389_8422.jpg', '42950687_3993.jpg', '43400286_3431.jpg', '45536345_1110.jpg', '42812938_4163.jpg', '46105160_575.jpg', '46736723_37.jpg', '39076906_8288.jpg', '40705492_6620.jpg', '45286858_1396.jpg', '44944738_1823.jpg', '39394517_7934.jpg', '43501518_3336.jpg', '39278978_8049.jpg', '46559337_17673.jpg', '38730873_8732.jpg', '41844192_5481.jpg', '45050552_1723.jpg', '41250146_6118.jpg', '45260066_1443.jpg', '37913507_9709.jpg', '39472333_7842.jpg', '37708273_9915.jpg', '42835962_4129.jpg', '40897420_6418.jpg', '42725160_4285.jpg', '42823423_4157.jpg', '44597080_2184.jpg', '44053815_2683.jpg', '46178478_54626.jpg', '42223923_4958.jpg', '39649654_7617.jpg', '42000775_5254.jpg', '37846105_9773.jpg', '37939637_9668.jpg', '42408456_4714.jpg', '43602942_3179.jpg', '43222049_3623.jpg', '39010554_8364.jpg', '37965461_9630.jpg', '45696909_951.jpg', '45397594_1239.jpg', '46153553_56727.jpg', '37954400_9647.jpg', '45568760_1089.jpg', '43937450_2810.jpg', '38951703_8429.jpg', '44944298_1827.jpg', '46400525_34932.jpg', '38576275_9000.jpg', '44106429_2624.jpg', '37865680_9745.jpg', '39575201_7704.jpg', '39662692_7599.jpg', '45662591_989.jpg', '43543086_3275.jpg', '43183287_3589.jpg', '42190967_4997.jpg', '44307211_2429.jpg', '46333064_41308.jpg', '38109489_9460.jpg', '39631546_7629.jpg', '39640613_7621.jpg', '39891461_7294.jpg', '43957865_2792.jpg', '45735450_912.jpg', '41594956_5762.jpg', '43731565_3038.jpg', '37909361_9711.jpg', '42370877_4793.jpg', '41647722_5710.jpg', '42023235_5212.jpg', '43862214_2905.jpg', '41149375_6206.jpg', '45326775_1350.jpg', '39313409_8013.jpg', '45086979_1675.jpg', '42613407_4416.jpg', '38992479_8380.jpg', '45203452_1522.jpg', '42757806_4243.jpg', '38660777_8863.jpg', '38643830_8890.jpg', '42641328_4404.jpg', '45640430_1003.jpg', '38492265_9087.jpg', '39002302_8376.jpg', '37939656_9666.jpg', '45942072_716.jpg', '43660763_3131.jpg', '46292220_44928.jpg', '39394524_7932.jpg', '43400261_3432.jpg', '41673961_5681.jpg', '42168208_5020.jpg', '43113599_3746.jpg', '40926027_6400.jpg', '42458614_4660.jpg', '42520596_4543.jpg', '41823911_5508.jpg', '37657425_9961.jpg', '45326980_1348.jpg', '46248314_48782.jpg', '38816169_8609.jpg', '39719211_7514.jpg', '41891433_5417.jpg', '38929955_8472.jpg', '39021509_8340.jpg', '40013677_7123.jpg', '39921312_7241.jpg', '39068362_8298.jpg', '39621476_7648.jpg', '39632100_7627.jpg', '39992687_7158.jpg', '44493322_2262.jpg', '45221492_1491.jpg', '38245278_9258.jpg', '44303787_2433.jpg', '44600383_2181.jpg', '44049031_2688.jpg', '38241173_9265.jpg', '41602400_5758.jpg', '43101992_3768.jpg', '38477570_9095.jpg', '43123851_3739.jpg', '46244534_49163.jpg', '44168259_2555.jpg', '39966551_7184.jpg', '38756548_8696.jpg', '41282336_6090.jpg', '42524877_4534.jpg', '41051205_6298.jpg', '39146622_8222.jpg', '43766215_3003.jpg', '38806881_8631.jpg', '45009847_1770.jpg', '40105946_7013.jpg', '46173628_55157.jpg', '43443453_3396.jpg', '39444324_7866.jpg', '37966312_9629.jpg', '45219994_1500.jpg', '38945739_8438.jpg', '45237744_1461.jpg', '39596950_7685.jpg', '43399303_3437.jpg', '44214149_2524.jpg', '37903454_9718.jpg', '40050324_7097.jpg', '40590846_6744.jpg', '45009463_1776.jpg', '45888205_771.jpg', '42634413_4406.jpg', '37822727_9796.jpg', '46244391_49176.jpg', '38962732_8395.jpg', '39672018_7574.jpg', '39798333_7411.jpg', '43253489_3588.jpg', '39362112_7962.jpg', '41469088_5911.jpg', '43965057_2779.jpg', '37960405_9641.jpg', '45421093_1189.jpg', '43957843_2793.jpg', '42081325_5159.jpg', '43132444_3733.jpg', '43101295_3771.jpg', '43366787_3490.jpg', '39733874_7494.jpg', '45230208_1476.jpg', '38241147_9266.jpg', '46140452_57823.jpg', '39040527_8323.jpg', '39011261_8361.jpg', '40913097_6407.jpg', '38058359_9528.jpg', '43400158_3430.jpg', '41212496_6154.jpg', '46526846_21408.jpg', '43598062_3188.jpg', '43789415_2980.jpg', '45169549_1591.jpg', '39505957_7789.jpg', '46649285_4320.jpg', '45149392_1609.jpg', '42798757_4182.jpg', '43625919_3166.jpg', '38937559_8444.jpg', '39929225_7232.jpg', '38929903_8474.jpg', '43123831_3741.jpg', '39189054_8164.jpg', '41921537_5361.jpg', '42123833_5094.jpg', '43418000_3421.jpg', '38471280_9098.jpg', '43326961_3531.jpg', '44230214_2508.jpg', '45827124_830.jpg', '41250185_6117.jpg', '39608878_7665.jpg', '42913730_4034.jpg', '44359352_2384.jpg', '39601750_7677.jpg', '38501443_9068.jpg', '43506027_3327.jpg', '37655885_9965.jpg', '42966315_3953.jpg', '44220772_2516.jpg', '44545682_2227.jpg', '39720325_7513.jpg', '39339508_7991.jpg', '44049016_2689.jpg', '46363142_38484.jpg', '39467717_7849.jpg', '38402769_9170.jpg', '42189720_5000.jpg', '42973231_3941.jpg', '45286840_1397.jpg', '40221363_6921.jpg', '38781386_8668.jpg', '37634506_9994.jpg', '37989220_9602.jpg', '40973550_6354.jpg', '45577991_1082.jpg', '40744208_6585.jpg', '45777050_874.jpg', '43671332_3124.jpg', '38692082_8816.jpg', '45203464_1521.jpg', '44295551_2445.jpg', '45962812_694.jpg', '42726101_4280.jpg', '41635309_5722.jpg', '42452694_4667.jpg', '45611011_1042.jpg', '37862090_9756.jpg', '43923059_2823.jpg', '46538616_20035.jpg', '38145649_9386.jpg', '41894199_5401.jpg', '39801340_7403.jpg', '40108849_7007.jpg', '39824460_7371.jpg', '42382385_4762.jpg', '39431517_7885.jpg', '41044939_6314.jpg', '39621039_7650.jpg', '45645849_1002.jpg', '44477537_2282.jpg', '46278070_46206.jpg', '42000650_5256.jpg', '42220186_4959.jpg', '43593757_3201.jpg', '38000406_9586.jpg', '38589379_8977.jpg', '46673239_27.jpg', '39330096_8002.jpg', '43826376_2953.jpg', '45413744_1202.jpg', '42664364_4384.jpg', '45826639_833.jpg', '43769899_2996.jpg', '45662524_992.jpg', '39077297_8283.jpg', '40052750_7086.jpg', '43766254_3002.jpg', '43372030_3481.jpg', '41655633_5701.jpg', '43023111_3891.jpg', '43063704_3823.jpg', '42950155_3998.jpg', '42451390_4677.jpg', '38427847_9155.jpg', '46535287_20412.jpg', '41793923_5546.jpg', '46637156_6453.jpg', '39262235_8082.jpg', '43169220_3696.jpg', '46153656_56717.jpg', '44140182_2590.jpg', '39770783_7445.jpg', '42623948_4411.jpg', '42055673_5183.jpg', '43086393_3777.jpg', '38576120_9004.jpg', '42488709_4593.jpg', '41634918_5724.jpg', '45295308_1383.jpg', '38692040_8817.jpg', '38505253_9067.jpg', '38058421_9526.jpg', '42371970_4785.jpg', '42957485_3986.jpg', '38121000_9446.jpg', '40809660_6511.jpg', '45682359_972.jpg', '42354591_4808.jpg', '42767040_4239.jpg', '42081337_5158.jpg', '44032309_2706.jpg', '38744411_8708.jpg', '46121650_567.jpg', '42767124_4238.jpg', '38667979_8846.jpg', '38806889_8630.jpg', '42267080_4915.jpg', '43707043_3076.jpg', '46691676_6.jpg', '42488462_4595.jpg', '39228013_8130.jpg', '43184777_3673.jpg', '41250141_6119.jpg', '42002081_5245.jpg', '45957972_699.jpg', '45015151_1766.jpg', '42167715_5027.jpg', '39690306_7561.jpg', '44803409_1979.jpg', '38150614_9373.jpg', '38106234_9462.jpg', '46652401_3604.jpg', '42994433_3907.jpg', '45809072_852.jpg', '44310995_2427.jpg', '38589186_8978.jpg', '46407191_34271.jpg', '44906641_1849.jpg', '41325827_6059.jpg', '39992675_7159.jpg', '39626623_7635.jpg', '38374152_9183.jpg', '38935435_8457.jpg', '39176190_8179.jpg', '43169367_3693.jpg', '41405451_5974.jpg', '40074731_7068.jpg', '43573520_3228.jpg', '40133699_6980.jpg', '39977350_7175.jpg', '43080026_3797.jpg', '46264592_47392.jpg', '40519290_6811.jpg', '41075560_6273.jpg', '42117791_5107.jpg', '45617430_1028.jpg', '42704727_4329.jpg', '42625557_4407.jpg', '42842193_4110.jpg', '46407220_34267.jpg', '38018222_9559.jpg', '44561746_2219.jpg', '40051137_7089.jpg', '45228137_1484.jpg', '44070378_2664.jpg', '38194014_9313.jpg', '41955872_5309.jpg', '37757636_9860.jpg', '39612838_7661.jpg', '38447872_9127.jpg', '45519635_1125.jpg', '38714891_8786.jpg', '45628331_1017.jpg', '44148423_2586.jpg', '43703936_3078.jpg', '42352324_4814.jpg', '38576186_9003.jpg', '46053393_629.jpg', '41818530_5511.jpg', '44846156_1933.jpg', '39656983_7605.jpg', '44514026_2250.jpg', '38144696_9390.jpg', '37909363_9710.jpg', '43032738_3852.jpg', '41573300_5792.jpg', '42117938_5106.jpg', '38499820_9070.jpg', '43693876_3086.jpg', '43799806_2975.jpg', '44818549_1961.jpg', '44264612_2470.jpg', '45320381_1364.jpg', '38957253_8420.jpg', '44168270_2554.jpg', '39949498_7202.jpg', '43964866_2780.jpg', '44417169_2330.jpg', '39903400_7271.jpg', '40519414_6810.jpg', '44087780_2640.jpg', '38903203_8514.jpg', '46608933_10911.jpg', '38471175_9099.jpg', '45512528_1128.jpg', '39747186_7476.jpg', '38447748_9128.jpg', '42329379_4837.jpg', '44984736_1793.jpg', '43544512_3274.jpg', '42055537_5184.jpg', '41227776_6133.jpg', '38716862_8769.jpg', '44077190_2656.jpg', '42717111_4308.jpg', '41728505_5631.jpg', '38935509_8454.jpg', '41708774_5643.jpg', '42381664_4767.jpg', '37659805_9956.jpg', '39560625_7722.jpg', '41996475_5260.jpg', '45894824_765.jpg', '44403342_2351.jpg', '38696567_8813.jpg', '38697224_8809.jpg', '43244487_3597.jpg', '45828623_829.jpg', '42726734_4268.jpg', '45528830_1118.jpg', '42726087_4281.jpg', '44039407_2697.jpg', '40744220_6584.jpg', '45695123_958.jpg', '39940615_7210.jpg', '41326069_6057.jpg', '41013348_6327.jpg', '41092806_6262.jpg', '43544760_3272.jpg', '42905464_4037.jpg', '43192385_3667.jpg', '44867780_1918.jpg', '42370889_4792.jpg', '39479780_7830.jpg', '39212365_8140.jpg', '45092905_1671.jpg', '37805675_9815.jpg', '43643198_3149.jpg', '38691995_8819.jpg', '38227160_9276.jpg', '38150663_9372.jpg', '37845381_9776.jpg', '38002468_9578.jpg', '37778168_9836.jpg', '39429596_7887.jpg', '44874406_1912.jpg', '45776903_876.jpg', '39599111_7682.jpg', '39763325_7460.jpg', '38628414_8914.jpg', '38841431_8589.jpg', '41857542_5466.jpg', '40893979_6421.jpg', '43419733_3417.jpg', '38193856_9314.jpg', '45899045_761.jpg', '39581833_7698.jpg', '40661381_6670.jpg', '39929222_7233.jpg', '45615845_1029.jpg', '42381692_4766.jpg', '37954268_9649.jpg', '40582776_6759.jpg', '45629809_1015.jpg', '39892912_7293.jpg', '37848708_9772.jpg', '38152981_9370.jpg', '43988176_2747.jpg', '43383153_3468.jpg', '38122785_9435.jpg', '38443263_9141.jpg', '42540749_4514.jpg', '37895089_9720.jpg', '43647115_3144.jpg', '45821238_846.jpg', '37930132_9682.jpg', '39950127_7201.jpg', '44487808_2266.jpg', '43024742_3872.jpg', '37661112_9954.jpg', '38734342_8727.jpg', '38091576_9480.jpg', '37880917_9734.jpg', '42381765_4765.jpg', '41844273_5479.jpg', '43905175_2849.jpg', '41652604_5705.jpg', '46278064_46207.jpg', '45464933_1169.jpg', '42103183_5137.jpg', '42976752_3936.jpg', '41655254_5703.jpg', '42470349_4622.jpg', '39088146_8279.jpg', '46059380_627.jpg', '38141191_9399.jpg', '42568025_4480.jpg', '42774185_4229.jpg', '39995206_7153.jpg', '38432923_9153.jpg', '45821291_839.jpg', '43616906_3170.jpg', '38161014_9364.jpg', '37794662_9828.jpg', '38065334_9515.jpg', '44165380_2563.jpg', '44972147_1803.jpg', '40603642_6727.jpg', '42344242_4818.jpg', '39993716_7156.jpg', '40669432_6655.jpg', '41333370_6051.jpg', '43530286_3290.jpg', '40708209_6617.jpg', '41562747_5804.jpg', '41703003_5652.jpg', '43625935_3165.jpg', '44962155_1814.jpg', '37935467_9674.jpg', '46381712_36731.jpg', '42103771_5136.jpg', '42007418_5227.jpg', '43203701_3661.jpg', '38937279_8446.jpg', '38876228_8554.jpg', '40880717_6436.jpg', '46710705_74.jpg', '41928298_5355.jpg', '43577191_3221.jpg', '42015423_5222.jpg', '38930051_8468.jpg', '43399280_3438.jpg', '42724805_4287.jpg', '41573315_5789.jpg', '39008382_8366.jpg', '42913745_4033.jpg', '43947772_2804.jpg', '39451882_7862.jpg', '46427411_32245.jpg', '43731573_3037.jpg', '45465746_1166.jpg', '42466186_4648.jpg', '45632672_1012.jpg', '43367875_3489.jpg', '46670397_401.jpg', '46440085_30845.jpg', '39850884_7328.jpg', '39488723_7811.jpg', '38373845_9186.jpg', '44354807_2390.jpg', '40763233_6561.jpg', '40738566_6599.jpg', '38463393_9107.jpg', '38010668_9569.jpg', '40723984_6606.jpg', '42540814_4512.jpg', '39624132_7638.jpg', '38719179_8766.jpg', '45131550_1639.jpg', '42812977_4161.jpg', '41674007_5680.jpg', '39977384_7174.jpg', '39611250_7664.jpg', '46231026_50265.jpg', '41059815_6288.jpg', '41665382_5688.jpg', '40177889_6959.jpg', '39054310_8311.jpg', '44260106_2472.jpg', '46429134_32042.jpg', '37865289_9747.jpg', '39116403_8257.jpg', '43539756_3278.jpg', '45930485_724.jpg', '39870924_7312.jpg', '46357075_39101.jpg', '38635531_8902.jpg', '42520607_4542.jpg', '41279673_6093.jpg', '43648527_3142.jpg', '39123537_8251.jpg', '39910252_7260.jpg', '38246044_9256.jpg', '38221630_9289.jpg', '39389497_7938.jpg', '44827506_1957.jpg', '38910978_8505.jpg', '40952942_6372.jpg', '40733681_6603.jpg', '39656303_7612.jpg', '41708782_5641.jpg', '42957467_3987.jpg', '39510804_7786.jpg', '45604934_1051.jpg', '42168185_5022.jpg', '44943272_1838.jpg', '40050976_7094.jpg', '40170682_6967.jpg', '41386491_5993.jpg', '44962506_1813.jpg', '39713429_7525.jpg', '45413799_1201.jpg', '40734577_6602.jpg', '44882770_1900.jpg', '42958868_3980.jpg', '39089577_8276.jpg', '40642109_6685.jpg', '39794266_7414.jpg', '43327341_3527.jpg', '39228620_8128.jpg', '43384412_3462.jpg', '45818358_849.jpg', '39848705_7333.jpg', '44735348_2051.jpg', '42588040_4441.jpg', '45452858_1182.jpg', '40657650_6671.jpg', '43845528_2917.jpg', '46653100_3516.jpg', '44410281_2344.jpg', '46611342_10547.jpg', '45744459_902.jpg', '38472005_9096.jpg', '45259068_1444.jpg', '40710818_6615.jpg', '42492239_4585.jpg', '40705510_6619.jpg', '38911103_8504.jpg', '40641762_6686.jpg', '42136634_5076.jpg', '39733840_7496.jpg', '41750705_5604.jpg', '39740395_7481.jpg', '39440929_7870.jpg', '45326754_1351.jpg', '38577086_8996.jpg', '39378945_7947.jpg', '39618238_7651.jpg', '42941267_4008.jpg', '40096019_7027.jpg', '44114824_2618.jpg', '45824943_836.jpg', '39400155_7925.jpg', '38856402_8565.jpg', '44952296_1819.jpg', '42842660_4108.jpg', '43657862_3136.jpg', '45176462_1576.jpg', '39360887_7964.jpg', '42842639_4109.jpg', '40918605_6404.jpg', '40035070_7101.jpg', '42429968_4690.jpg', '44906505_1873.jpg', '39394518_7933.jpg', '38457818_9122.jpg', '37965454_9631.jpg', '40921438_6402.jpg', '38768214_8677.jpg', '39467016_7852.jpg', '41594797_5763.jpg', '41610217_5755.jpg', '37879801_9735.jpg', '39704267_7535.jpg', '39822438_7374.jpg', '37640945_9982.jpg', '38126816_9427.jpg', '42115053_5112.jpg', '42382336_4763.jpg', '45465613_1168.jpg', '39848710_7332.jpg', '43560569_3248.jpg', '37636906_9993.jpg', '42430079_4689.jpg', '41595866_5760.jpg', '43318276_3538.jpg', '44092898_2637.jpg', '44290560_2448.jpg', '39842946_7342.jpg', '39670124_7578.jpg', '42890395_4067.jpg', '38697201_8811.jpg', '44569479_2218.jpg', '44718575_2076.jpg', '38597971_8956.jpg', '38616241_8923.jpg', '38140849_9402.jpg', '43327400_3526.jpg', '38929957_8471.jpg', '40942226_6388.jpg', '38757302_8693.jpg', '40008336_7132.jpg', '39904205_7267.jpg', '43041166_3842.jpg', '44105560_2625.jpg', '40907948_6411.jpg', '44874558_1910.jpg', '37767824_9849.jpg', '46232696_50136.jpg', '43964111_2785.jpg', '42281940_4901.jpg', '39549051_7734.jpg', '42540838_4511.jpg', '42197243_4987.jpg', '42749159_4246.jpg', '39909444_7261.jpg', '43688704_3099.jpg', '41733255_5622.jpg', '38180179_9345.jpg', '46526853_21407.jpg', '40095797_7028.jpg', '40763817_6559.jpg', '38639945_8897.jpg', '39560592_7723.jpg', '41987569_5274.jpg', '41573297_5793.jpg', '44231746_2501.jpg', '42282610_4900.jpg', '40581333_6761.jpg', '38716549_8771.jpg', '39311019_8021.jpg', '46674584_26.jpg', '41573307_5790.jpg', '38370114_9190.jpg', '45894651_766.jpg', '39169816_8195.jpg', '42704698_4330.jpg', '41669740_5683.jpg', '43927695_2820.jpg', '40632766_6691.jpg', '37866602_9743.jpg', '38033522_9546.jpg', '42623784_4412.jpg', '46293266_44786.jpg', '46351386_39732.jpg', '42274893_4911.jpg', '44587715_2195.jpg', '39042902_8322.jpg', '46599412_12224.jpg', '39010558_8363.jpg', '42189590_5002.jpg', '38658691_8867.jpg', '45268920_1426.jpg', '40697847_6628.jpg', '45743153_904.jpg', '39662668_7600.jpg', '41522896_5832.jpg', '44569601_2216.jpg', '37800846_9819.jpg', '42955603_3990.jpg', '42314264_4851.jpg', '45662559_991.jpg', '46449319_29959.jpg', '43594314_3200.jpg', '38730827_8733.jpg', '45194072_1548.jpg', '38935478_8455.jpg', '38541916_9042.jpg', '39505804_7791.jpg', '40748279_6581.jpg', '44122607_2610.jpg', '39260463_8084.jpg', '44874749_1907.jpg', '39296862_8035.jpg', '44087740_2641.jpg', '46710531_76.jpg', '38808727_8625.jpg', '42950320_3996.jpg', '39526831_7776.jpg', '42994687_3906.jpg', '39764609_7458.jpg', '39483729_7816.jpg', '38639941_8898.jpg', '45623070_1020.jpg', '42138923_5061.jpg', '46581628_14688.jpg', '42553803_4482.jpg', '39510828_7785.jpg', '37777680_9838.jpg', '38528446_9054.jpg', '38607112_8944.jpg', '42680320_4345.jpg', '42215864_4962.jpg', '39329987_8003.jpg', '42429907_4691.jpg', '37777783_9837.jpg', '44059618_2679.jpg', '42613900_4415.jpg', '41357946_6035.jpg', '45031252_1737.jpg', '39537800_7759.jpg', '46332282_41339.jpg', '41942534_5330.jpg', '37708353_9914.jpg', '40676078_6645.jpg', '40952912_6374.jpg', '41955892_5307.jpg', '45072782_1684.jpg', '41891541_5412.jpg', '45169543_1592.jpg', '39960793_7191.jpg', '39004949_8374.jpg', '43319711_3536.jpg', '39837003_7364.jpg', '43931912_2818.jpg', '43216611_3628.jpg', '38576057_9005.jpg', '38227145_9277.jpg', '41749019_5606.jpg', '38933797_8462.jpg', '41067042_6283.jpg', '40935890_6390.jpg', '39295261_8040.jpg', '38388780_9178.jpg', '40096479_7026.jpg', '43443172_3399.jpg', '41610691_5754.jpg', '45421200_1187.jpg', '46670569_341.jpg', '38671010_8839.jpg', '37643570_9977.jpg', '44328430_2409.jpg', '45321207_1361.jpg', '38133029_9409.jpg', '40003230_7137.jpg', '37701619_9919.jpg', '39549703_7731.jpg', '41282328_6091.jpg', '41543316_5816.jpg', '45326714_1352.jpg', '42825056_4152.jpg', '41857548_5465.jpg', '37762970_9855.jpg', '38592565_8967.jpg', '38805017_8638.jpg', '39618095_7652.jpg', '38805309_8635.jpg', '43538789_3281.jpg', '40676074_6646.jpg', '44385604_2368.jpg', '42540390_4515.jpg', '43806459_2964.jpg', '44140172_2591.jpg', '38536928_9046.jpg', '45131473_1641.jpg', '39561488_7718.jpg', '37657639_9959.jpg', '37956329_9644.jpg', '41693123_5656.jpg', '45335879_1327.jpg', '41643467_5712.jpg', '42540794_4513.jpg', '42329431_4836.jpg', '43030907_3859.jpg', '39692923_7557.jpg', '46603717_11581.jpg', '37845360_9777.jpg', '44569610_2215.jpg', '40152417_6968.jpg', '41942536_5329.jpg', '44874575_1909.jpg', '39122312_8254.jpg', '46063396_623.jpg', '44204707_2530.jpg', '39549772_7730.jpg', '39704391_7534.jpg', '43953948_2798.jpg', '42322517_4843.jpg', '39254661_8090.jpg', '43154060_3706.jpg', '42470284_4623.jpg', '42509675_4549.jpg', '45237738_1462.jpg', '39938640_7217.jpg', '44505517_2253.jpg', '41750723_5602.jpg', '40932557_6391.jpg', '38856463_8564.jpg', '39921258_7242.jpg', '39020992_8341.jpg', '41320451_6061.jpg', '41187975_6173.jpg', '40861779_6469.jpg', '44125068_2602.jpg', '43033199_3851.jpg', '46725652_54.jpg', '46603426_11629.jpg', '45326989_1347.jpg', '37692330_9930.jpg', '42355065_4805.jpg', '45208175_1519.jpg', '38448434_9126.jpg', '44943234_1839.jpg', '45606234_1047.jpg', '42504290_4558.jpg', '39801229_7404.jpg', '41256588_6111.jpg', '40631719_6693.jpg', '43941364_2807.jpg', '39265998_8068.jpg', '39465681_7853.jpg', '39589959_7691.jpg', '40189550_6933.jpg', '38757474_8692.jpg', '40785328_6538.jpg', '38697212_8810.jpg', '38085956_9485.jpg', '43422588_3415.jpg', '44863021_1923.jpg', '38499889_9069.jpg', '42510925_4548.jpg', '44812530_1972.jpg', '44679621_2110.jpg', '41995653_5263.jpg', '46526880_21403.jpg', '41750710_5603.jpg', '42267072_4916.jpg', '39670098_7579.jpg', '41886345_5422.jpg', '37913517_9708.jpg', '38495229_9083.jpg', '43064006_3821.jpg', '41655643_5699.jpg', '43079803_3800.jpg', '42950144_4000.jpg', '38793182_8653.jpg', '40321560_6891.jpg', '42371940_4786.jpg', '41643456_5713.jpg', '42382330_4764.jpg', '43273833_3576.jpg', '39844008_7336.jpg', '46194147_53398.jpg', '44867705_1919.jpg', '42552814_4486.jpg', '45326965_1349.jpg', '45348166_1311.jpg', '41834956_5497.jpg', '43510894_3310.jpg', '43228743_3612.jpg', '43851638_2912.jpg', '38922964_8486.jpg', '44943193_1840.jpg', '46083174_593.jpg', '41780706_5564.jpg', '40837442_6491.jpg', '39400380_7924.jpg', '38141206_9397.jpg', '42245418_4934.jpg', '43442920_3401.jpg', '45131547_1640.jpg', '40641748_6687.jpg', '45296468_1373.jpg', '39753522_7466.jpg', '41045464_6311.jpg', '40697146_6629.jpg', '39275976_8054.jpg', '42854490_4101.jpg', '38542329_9041.jpg', '42724804_4288.jpg', '43123882_3735.jpg', '44175803_2544.jpg', '39948067_7204.jpg', '44323618_2412.jpg', '41051425_6294.jpg', '43986575_2751.jpg', '42584143_4463.jpg', '38661655_8856.jpg', '38793347_8650.jpg', '46018508_654.jpg', '38728016_8742.jpg', '40952983_6371.jpg', '39030020_8332.jpg', '43386008_3455.jpg', '41478701_5888.jpg', '39537234_7764.jpg', '42966426_3949.jpg', '38184456_9339.jpg', '44315381_2419.jpg', '45617625_1027.jpg', '39296834_8037.jpg', '39686627_7566.jpg', '42406519_4718.jpg', '39161652_8211.jpg', '45938121_718.jpg', '38937293_8445.jpg', '39918834_7253.jpg', '38806894_8629.jpg', '45077964_1679.jpg', '42726710_4274.jpg', '37762967_9856.jpg', '39368786_7956.jpg', '43857906_2909.jpg', '42812971_4162.jpg', '46232695_50135.jpg', '43806498_2963.jpg', '43243916_3598.jpg', '42132532_5081.jpg', '45015129_1767.jpg', '45471410_1159.jpg', '38884524_8546.jpg', '38661535_8858.jpg', '38730031_8737.jpg', '41972970_5289.jpg', '44852869_1930.jpg', '43494669_3339.jpg', '40405063_6859.jpg', '45615441_1030.jpg', '41515360_5848.jpg', '39468660_7845.jpg', '40343387_6871.jpg', '38128484_9422.jpg', '37840843_9782.jpg', '39389537_7937.jpg', '41754982_5586.jpg', '44921870_1857.jpg', '44906385_1874.jpg', '39878504_7303.jpg', '45764253_887.jpg', '44378266_2374.jpg', '39537424_7763.jpg', '40583653_6756.jpg', '44231030_2503.jpg', '46661768_2147.jpg', '43296398_3555.jpg', '40867024_6457.jpg', '43647460_3143.jpg', '37845441_9775.jpg', '42399181_4737.jpg', '42724809_4286.jpg', '45528243_1121.jpg', '45149822_1607.jpg', '43399363_3436.jpg', '38058410_9527.jpg', '42776244_4224.jpg', '38816138_8610.jpg', '38311334_9235.jpg', '45695133_956.jpg', '46564697_16967.jpg', '43868765_2903.jpg', '45744486_901.jpg', '43383184_3467.jpg', '43983168_2757.jpg', '43660749_3132.jpg', '41420443_5951.jpg', '43876378_2893.jpg', '41577750_5779.jpg', '40610262_6721.jpg', '43585015_3213.jpg', '37990770_9596.jpg', '42032400_5208.jpg', '45397484_1244.jpg', '39858206_7322.jpg', '38689837_8821.jpg', '45009095_1777.jpg', '41894540_5400.jpg', '43537725_3286.jpg', '45956970_701.jpg', '39537772_7761.jpg', '45397573_1241.jpg', '42890389_4068.jpg', '41193472_6171.jpg', '38630027_8907.jpg', '39194875_8155.jpg', '45863270_795.jpg', '46428074_32192.jpg', '42274887_4912.jpg', '39662657_7601.jpg', '41905350_5386.jpg', '43244940_3595.jpg', '42726721_4269.jpg', '44300354_2444.jpg', '37702335_9918.jpg', '42436141_4686.jpg', '46351380_39734.jpg', '39292726_8044.jpg', '45944045_709.jpg', '46351299_39735.jpg', '39343349_7988.jpg', '42105759_5132.jpg', '39733889_7493.jpg', '43347637_3498.jpg', '38810391_8621.jpg', '38113115_9456.jpg', '42768015_4232.jpg', '44371904_2376.jpg', '43731590_3036.jpg', '45335943_1325.jpg', '39940594_7211.jpg', '43063286_3825.jpg', '43651686_3141.jpg', '39577798_7701.jpg', '44751993_2035.jpg', '41669694_5686.jpg', '38118478_9450.jpg', '42835849_4130.jpg', '38730061_8736.jpg', '40341093_6878.jpg', '39156809_8214.jpg', '43899410_2853.jpg', '43228476_3617.jpg', '42986562_3930.jpg', '38935820_8448.jpg', '45818447_850.jpg', '41067061_6282.jpg', '43753208_3013.jpg', '42809352_4174.jpg', '43443449_3397.jpg', '38646451_8882.jpg', '38059644_9524.jpg', '42136691_5074.jpg', '38793403_8649.jpg', '38576285_8998.jpg', '37814072_9808.jpg', '37718738_9902.jpg', '44809754_1976.jpg', '38046632_9536.jpg', '38373971_9184.jpg', '38085937_9487.jpg', '41008371_6330.jpg', '40341283_6877.jpg', '42878713_4075.jpg', '46457241_29037.jpg', '38890426_8532.jpg', '38559595_9020.jpg', '42466467_4641.jpg', '43476706_3350.jpg', '42725816_4283.jpg', '45412872_1206.jpg', '41674197_5679.jpg', '39137649_8240.jpg', '45398166_1229.jpg', '41396291_5986.jpg', '44809765_1975.jpg', '39362962_7960.jpg', '43577182_3223.jpg', '42994409_3909.jpg', '39433267_7882.jpg', '45899124_760.jpg', '41891264_5418.jpg', '42504590_4556.jpg', '44016620_2713.jpg', '43954320_2796.jpg', '41932453_5352.jpg', '39561472_7719.jpg', '39534858_7768.jpg', '41844319_5478.jpg', '39473357_7838.jpg', '42253360_4931.jpg', '41008306_6331.jpg', '42986384_3932.jpg', '40841543_6489.jpg', '39537753_7762.jpg', '41468999_5912.jpg', '41319398_6063.jpg', '39957870_7196.jpg', '42717141_4306.jpg', '46599590_12200.jpg', '39329414_8004.jpg', '44643190_2137.jpg', '45072797_1683.jpg', '42994696_3905.jpg', '37700309_9921.jpg', '42393797_4755.jpg', '40175950_6964.jpg', '38374190_9182.jpg', '38628416_8913.jpg', '38085946_9486.jpg', '44492780_2264.jpg', '42842699_4107.jpg', '45695128_957.jpg', '39909316_7262.jpg', '46626160_8260.jpg', '38935558_8450.jpg', '39503057_7797.jpg', '46709256_81.jpg', '40843246_6488.jpg', '42726724_4271.jpg', '45740531_908.jpg', '39465638_7854.jpg', '44522534_2239.jpg', '42913722_4035.jpg', '42465983_4650.jpg', '46401174_34888.jpg', '40090371_7034.jpg', '40036599_7098.jpg', '43476337_3351.jpg', '39313435_8011.jpg', '44943730_1834.jpg', '39534854_7769.jpg', '43883513_2874.jpg', '42767255_4236.jpg', '40670070_6651.jpg', '39292740_8043.jpg', '44944310_1826.jpg', '42427938_4692.jpg', '39621095_7649.jpg', '43826228_2955.jpg', '42488688_4594.jpg', '46351398_39728.jpg', '40010310_7128.jpg', '41995063_5266.jpg', '38607345_8942.jpg', '41922682_5360.jpg', '38106102_9465.jpg', '38813613_8616.jpg', '40949772_6379.jpg', '39246486_8102.jpg', '40788869_6536.jpg', '38061383_9518.jpg', '45131569_1638.jpg', '43399396_3434.jpg', '41050716_6302.jpg', '42994425_3908.jpg', '38930033_8469.jpg', '37970454_9624.jpg', '41652620_5704.jpg', '38824074_8606.jpg', '41160869_6197.jpg', '39799831_7410.jpg', '43447639_3380.jpg', '37906039_9712.jpg', '44569593_2217.jpg', '37866627_9741.jpg', '42726147_4276.jpg', '43608938_3176.jpg', '44315409_2418.jpg', '43399277_3439.jpg', '39640647_7620.jpg', '43688725_3096.jpg', '38711733_8791.jpg', '41987611_5273.jpg', '41805014_5535.jpg', '42007422_5226.jpg', '45559517_1096.jpg', '37929563_9685.jpg', '37657353_9962.jpg', '40897531_6417.jpg', '38781513_8667.jpg', '41754973_5589.jpg', '39063938_8306.jpg', '44231782_2499.jpg', '39615395_7655.jpg', '46601353_11968.jpg', '43101386_3769.jpg', '43154055_3707.jpg', '46032696_645.jpg', '43863999_2904.jpg', '39416444_7894.jpg', '45827081_831.jpg', '40519273_6812.jpg', '43839511_2928.jpg', '46538668_20020.jpg', '40546591_6792.jpg', '40708224_6616.jpg', '39709393_7532.jpg', '38929906_8473.jpg', '41712431_5639.jpg', '44874811_1906.jpg', '43514042_3301.jpg', '38660478_8865.jpg', '42167728_5025.jpg', '37923889_9691.jpg', '44764106_2011.jpg', '41829236_5503.jpg', '39904381_7265.jpg', '44165384_2562.jpg', '45939651_717.jpg', '42372372_4783.jpg', '46652397_3605.jpg', '38717067_8768.jpg', '43835331_2935.jpg', '45169555_1590.jpg', '43154022_3708.jpg', '39667544_7582.jpg', '37954383_9648.jpg', '45001224_1788.jpg', '38816078_8611.jpg', '41801761_5540.jpg', '41871047_5447.jpg', '42470476_4621.jpg', '44315599_2387.jpg', '44582815_2200.jpg', '37881232_9732.jpg', '44953007_1817.jpg', '44417188_2328.jpg', '39623735_7642.jpg', '43671107_3126.jpg', '40897993_6416.jpg', '41708764_5644.jpg', '43207935_3654.jpg', '37657310_9963.jpg', '39266022_8067.jpg', '39942145_7207.jpg', '45071338_1694.jpg', '39903382_7272.jpg', '38323188_9232.jpg', '43064158_3816.jpg', '41390265_5988.jpg', '40668706_6657.jpg', '40631674_6694.jpg', '39420304_7891.jpg', '38112963_9457.jpg', '45528329_1120.jpg', '42940127_4009.jpg', '40562070_6783.jpg', '45573036_1087.jpg', '42114152_5113.jpg', '38241573_9264.jpg', '42006394_5229.jpg', '45606238_1046.jpg', '42780822_4221.jpg', '41793816_5547.jpg', '41465642_5913.jpg', '38616801_8920.jpg', '41568400_5799.jpg', '41238753_6127.jpg', '45623341_1019.jpg', '37866360_9744.jpg', '43560456_3250.jpg', '40798151_6528.jpg', '42801028_4177.jpg', '46563720_17061.jpg', '39212481_8138.jpg', '42244916_4937.jpg', '40512315_6826.jpg', '43523721_3298.jpg', '38940253_8441.jpg', '39615321_7659.jpg', '42992394_3916.jpg', '42928215_4013.jpg', '40055410_7078.jpg', '37754838_9862.jpg', '45646022_1001.jpg', '46737168_36.jpg', '43452154_3376.jpg', '38697292_8808.jpg', '38795720_8648.jpg', '44417182_2329.jpg', '45008469_1778.jpg', '44582788_2201.jpg', '38992516_8379.jpg', '42403160_4719.jpg', '46436456_31215.jpg', '46577361_15297.jpg', '41733244_5623.jpg', '42236634_4939.jpg', '38672728_8838.jpg', '43584971_3214.jpg', '42680844_4344.jpg', '40699961_6626.jpg', '46248394_48773.jpg', '38676741_8833.jpg', '39259646_8085.jpg', '44606182_2176.jpg', '41079812_6267.jpg', '39444272_7867.jpg', '46363084_38496.jpg', '44614745_2165.jpg', '45176424_1577.jpg', '39109270_8268.jpg', '45096476_1665.jpg', '45294852_1384.jpg', '38855253_8566.jpg', '39263093_8077.jpg', '40952890_6375.jpg', '39129100_8247.jpg', '46126306_557.jpg', '45149560_1608.jpg', '46609392_10798.jpg', '39206327_8146.jpg', '46017991_655.jpg', '41635999_5721.jpg', '38388401_9179.jpg', '43707023_3077.jpg', '38607502_8941.jpg', '38642873_8893.jpg', '43911094_2838.jpg', '44415777_2333.jpg', '37972508_9620.jpg', '39254620_8091.jpg', '41475899_5891.jpg', '44944275_1828.jpg', '45334733_1333.jpg', '43927639_2821.jpg', '40731649_6604.jpg', '40133694_6981.jpg', '41842348_5484.jpg', '40035106_7100.jpg', '46626200_8256.jpg', '41045493_6310.jpg', '37995262_9590.jpg', '37820546_9803.jpg', '42568598_4479.jpg', '39738489_7483.jpg', '45885463_856.jpg', '41547322_5813.jpg', '44679562_2111.jpg', '39262369_8080.jpg', '45340543_1319.jpg', '43805451_2968.jpg', '42727065_4264.jpg', '45219421_1507.jpg', '42496962_4576.jpg', '44140763_2588.jpg', '43237115_3603.jpg', '42466499_4639.jpg', '42122538_5103.jpg', '38756752_8695.jpg', '38535342_9051.jpg', '39647745_7618.jpg', '43900073_2852.jpg', '45340568_1317.jpg', '43123834_3740.jpg', '43750931_3016.jpg', '44078237_2655.jpg', '44628910_2149.jpg', '41334829_6050.jpg', '41883310_5424.jpg', '42197233_4988.jpg', '39637420_7623.jpg', '38586473_8983.jpg', '42157409_5044.jpg', '46601433_11950.jpg', '42458642_4659.jpg', '39505858_7790.jpg', '43390237_3452.jpg', '38804981_8639.jpg', '42206395_4975.jpg', '45506630_1132.jpg', '39793797_7415.jpg', '42175301_5016.jpg', '43538972_3255.jpg', '42599745_4424.jpg', '39615259_7660.jpg', '46033172_644.jpg', '41728792_5630.jpg', '42966338_3951.jpg', '42835993_4128.jpg', '45187244_1561.jpg', '46195622_53251.jpg', '46407175_34277.jpg', '43617357_3168.jpg', '42774870_4226.jpg', '46451032_29695.jpg', '40562750_6780.jpg', '38145642_9387.jpg', '46142456_57648.jpg', '39561848_7717.jpg', '43883498_2875.jpg', '42355013_4806.jpg', '46091770_582.jpg', '45471395_1160.jpg', '42986589_3929.jpg', '39861995_7316.jpg', '45274609_1409.jpg', '44369295_2377.jpg', '39235347_8115.jpg', '40632147_6692.jpg', '38373884_9185.jpg', '38142894_9394.jpg', '40727887_6605.jpg', '42466335_4645.jpg', '37960956_9637.jpg', '39311058_8020.jpg', '39597616_7684.jpg', '38133036_9408.jpg', '45382633_1262.jpg', '38700338_8804.jpg', '43312422_3539.jpg', '45691505_963.jpg', '40000763_7140.jpg', '43709993_3067.jpg', '40276521_6907.jpg', '43694074_3084.jpg', '43888166_2870.jpg', '39412505_7909.jpg', '39700033_7539.jpg', '45821227_844.jpg', '38616236_8924.jpg', '42139964_5059.jpg', '37775347_9842.jpg', '45015390_1765.jpg', '44355328_2389.jpg', '43228522_3615.jpg', '43576955_3226.jpg', '45465724_1167.jpg', '45272309_1411.jpg', '39930200_7230.jpg', '41045321_6312.jpg', '45389251_1250.jpg', '41262672_6103.jpg', '41431298_5939.jpg', '42427698_4694.jpg', '39487060_7815.jpg', '45397552_1242.jpg', '46567869_16582.jpg', '38008511_9571.jpg', '38511707_9064.jpg', '38873259_8560.jpg', '41193456_6172.jpg', '44780262_1995.jpg', '41212583_6153.jpg', '40343370_6872.jpg', '43544775_3270.jpg', '46710528_77.jpg', '39403264_7922.jpg', '39164024_8208.jpg', '46428145_32181.jpg', '44770489_2006.jpg', '43326908_3533.jpg', '38432912_9154.jpg', '42488349_4596.jpg', '42774684_4228.jpg', '39904219_7266.jpg', '38141200_9398.jpg', '39631555_7628.jpg', '46678839_19.jpg', '43270818_3579.jpg', '40110367_7005.jpg', '38935556_8451.jpg', '39690256_7562.jpg', '43199485_3665.jpg', '45189898_1559.jpg', '46016069_656.jpg', '40573621_6767.jpg', '41728403_5632.jpg', '42276379_4908.jpg', '40190639_6930.jpg', '41746571_5608.jpg', '46012814_662.jpg', '42539885_4516.jpg', '38495274_9082.jpg', '40948377_6380.jpg', '45373747_1200.jpg', '39122782_8253.jpg', '40656334_6673.jpg', '45277074_1404.jpg', '43141156_3725.jpg', '38059434_9525.jpg', '39580262_7700.jpg', '38637877_8901.jpg', '44730961_2065.jpg', '40525144_6803.jpg', '40761163_6564.jpg', '38373770_9187.jpg', '38531100_9053.jpg', '45413496_1203.jpg', '46710703_75.jpg', '37829769_9790.jpg', '40573690_6766.jpg', '42986404_3931.jpg', '42966385_3950.jpg', '45631884_1014.jpg', '37794544_9829.jpg', '46691647_7.jpg', '39410972_7913.jpg', '39179913_8173.jpg', '41697924_5654.jpg', '41320453_6060.jpg', '43539198_3280.jpg', '46427377_32252.jpg', '39374963_7949.jpg', '38739306_8716.jpg', '41051274_6297.jpg', '38853152_8571.jpg', '43876382_2892.jpg', '42261550_4924.jpg', '38001818_9581.jpg', '39534867_7766.jpg', '44778295_2000.jpg', '43030377_3861.jpg', '43326919_3532.jpg', '41075264_6274.jpg', '42076348_5162.jpg', '45973966_691.jpg', '39998358_7148.jpg', '45277071_1405.jpg', '45646030_1000.jpg', '44224089_2511.jpg', '40089280_7038.jpg', '45813196_851.jpg', '38661240_8861.jpg', '46558019_17806.jpg', '41995071_5265.jpg', '42084657_5156.jpg', '45539077_1109.jpg', '43239365_3602.jpg', '43539202_3279.jpg', '39892968_7291.jpg', '38903512_8512.jpg', '42337890_4821.jpg', '45335445_1332.jpg', '41535334_5822.jpg', '40082393_7049.jpg', '39112318_8266.jpg', '43203722_3659.jpg', '42389969_4757.jpg', '43339348_3505.jpg', '45697248_950.jpg', '40050970_7096.jpg', '38118877_9448.jpg', '42568627_4478.jpg', '44252662_2487.jpg', '41844342_5477.jpg', '37629593_9996.jpg', '46721597_57.jpg', '40780815_6540.jpg', '39114684_8264.jpg', '46545741_19153.jpg', '41742266_5614.jpg', '45573098_1085.jpg', '41775622_5566.jpg', '43591174_3205.jpg', '43576967_3225.jpg', '39467464_7851.jpg', '39671505_7577.jpg', '39123561_8250.jpg', '42175234_5017.jpg', '39891434_7295.jpg', '44516641_2248.jpg', '41754988_5584.jpg', '45154997_1605.jpg', '39168607_8205.jpg', '43228736_3613.jpg', '43486747_3343.jpg', '44191970_2534.jpg', '41524220_5830.jpg', '41149312_6207.jpg', '39314508_8009.jpg', '41655637_5700.jpg', '46365965_38248.jpg', '41664867_5689.jpg', '43297137_3551.jpg', '41417195_5967.jpg', '38221640_9288.jpg', '39594048_7686.jpg', '45821222_843.jpg', '39526697_7779.jpg', '43987957_2748.jpg', '44630103_1931.jpg', '42664104_4390.jpg', '38630038_8906.jpg', '38726736_8747.jpg', '38929961_8470.jpg', '40827476_6497.jpg', '39537786_7760.jpg', '41995641_5264.jpg', '45573055_1086.jpg', '39752144_7469.jpg', '38757000_8694.jpg', '44315392_2416.jpg']\n",
      "/content/cats/images/Dilute Tortoiseshell ['43143895_1601.jpg', '40507927_2608.jpg', '35549719_4671.jpg', '35777955_4555.jpg', '43409061_1481.jpg', '30701258_6998.jpg', '36315059_4289.jpg', '30412010_7152.jpg', '40108988_2669.jpg', '29873210_7396.jpg', '33326001_5719.jpg', '35439890_4714.jpg', '41048629_2410.jpg', '37366347_3794.jpg', '31001026_6797.jpg', '42737718_1778.jpg', '30927421_6852.jpg', '38802625_3243.jpg', '37513349_3730.jpg', '44504501_1097.jpg', '36632608_4136.jpg', '38443515_3404.jpg', '45625616_531.jpg', '30970778_6818.jpg', '31866357_6355.jpg', '30982937_6808.jpg', '43476387_1444.jpg', '39843350_2791.jpg', '40688390_2531.jpg', '45522930_581.jpg', '34312021_5213.jpg', '46386225_36401.jpg', '33054849_5843.jpg', '42992124_1680.jpg', '37909378_3589.jpg', '39369710_3003.jpg', '30377941_7166.jpg', '43589423_1397.jpg', '32491266_6123.jpg', '34963108_4927.jpg', '35538722_4676.jpg', '40855949_2463.jpg', '39857980_2784.jpg', '33069465_5837.jpg', '37408816_3780.jpg', '42477426_1863.jpg', '42000528_2039.jpg', '35702288_4587.jpg', '39364873_3005.jpg', '45743921_475.jpg', '45022641_882.jpg', '33734207_5518.jpg', '43078712_1626.jpg', '44301199_1150.jpg', '37666535_3675.jpg', '45219945_781.jpg', '36568697_4171.jpg', '35684820_4601.jpg', '45724437_483.jpg', '31393605_6578.jpg', '37477642_3752.jpg', '31715325_6422.jpg', '45105813_845.jpg', '45336548_674.jpg', '39829725_2798.jpg', '42217815_1954.jpg', '39450860_2973.jpg', '33482411_5640.jpg', '42053645_2016.jpg', '39264547_3037.jpg', '44457673_1103.jpg', '38931272_3189.jpg', '32895256_5920.jpg', '33926063_5407.jpg', '31826418_6372.jpg', '43672243_1360.jpg', '41535354_2236.jpg', '38195023_3468.jpg', '37431909_3770.jpg', '30010546_7322.jpg', '42336662_1911.jpg', '38943290_3177.jpg', '39493080_2950.jpg', '38814242_3237.jpg', '38739490_3275.jpg', '42091954_2006.jpg', '34456460_5144.jpg', '31634711_6457.jpg', '31233798_6666.jpg', '30973369_6815.jpg', '37693971_3665.jpg', '37200343_3876.jpg', '29732537_7467.jpg', '30930932_6847.jpg', '40470380_2618.jpg', '41250855_2328.jpg', '45855741_426.jpg', '37976232_3578.jpg', '45239186_769.jpg', '36897036_4007.jpg', '29852168_7415.jpg', '45163174_807.jpg', '41455105_2269.jpg', '31290808_6625.jpg', '36192109_4343.jpg', '35307495_4772.jpg', '32196236_6234.jpg', '45484048_602.jpg', '43567183_1407.jpg', '32565069_6090.jpg', '39114695_3115.jpg', '45251650_755.jpg', '36817706_4042.jpg', '39012579_3147.jpg', '33191400_5774.jpg', '38497734_3377.jpg', '43113072_1612.jpg', '39348813_3008.jpg', '30457410_7131.jpg', '32293473_6202.jpg', '46011746_355.jpg', '46081976_318.jpg', '30976656_6813.jpg', '29925533_7369.jpg', '35116781_4866.jpg', '35020479_4905.jpg', '33325339_5721.jpg', '29861640_7408.jpg', '30289592_7200.jpg', '31169849_6699.jpg', '35405836_4735.jpg', '31111538_6733.jpg', '38793546_3249.jpg', '30840357_6915.jpg', '30096435_7288.jpg', '37511779_3731.jpg', '32719188_6003.jpg', '38934735_3188.jpg', '38943285_3178.jpg', '37837339_3616.jpg', '43823088_1306.jpg', '34108132_5313.jpg', '37301128_3825.jpg', '45486950_599.jpg', '43064200_1633.jpg', '42664573_1805.jpg', '32998015_5875.jpg', '38063902_3538.jpg', '36130490_4379.jpg', '32978296_5886.jpg', '34460029_5142.jpg', '31568603_6491.jpg', '37559454_3708.jpg', '33569648_5590.jpg', '30527121_7094.jpg', '46497401_24877.jpg', '30471748_7125.jpg', '41130982_2376.jpg', '30897185_6878.jpg', '44700671_1030.jpg', '29905318_7380.jpg', '39828092_2801.jpg', '32941477_5904.jpg', '34599377_5080.jpg', '31586145_6480.jpg', '42253758_1941.jpg', '43122860_1608.jpg', '29951565_7352.jpg', '30057195_7303.jpg', '33499008_5633.jpg', '39933033_2756.jpg', '32331129_6182.jpg', '29913817_7378.jpg', '46213505_51743.jpg', '36325038_4278.jpg', '37825324_3619.jpg', '36254777_4314.jpg', '44043292_1232.jpg', '30959711_6825.jpg', '30078715_7295.jpg', '32040729_6297.jpg', '45765499_464.jpg', '38041027_3546.jpg', '44927009_928.jpg', '40857964_2462.jpg', '33916141_5414.jpg', '33159626_5785.jpg', '38746413_3273.jpg', '45026817_878.jpg', '45356093_659.jpg', '36703431_4097.jpg', '36584873_4163.jpg', '45277913_738.jpg', '34637373_5058.jpg', '46624446_8555.jpg', '40291775_2631.jpg', '37711960_3660.jpg', '34702862_5033.jpg', '38459958_3402.jpg', '32891571_5921.jpg', '39834995_2795.jpg', '41647240_2196.jpg', '31697224_6432.jpg', '31502118_6530.jpg', '38042165_3545.jpg', '36067148_4420.jpg', '37337247_3809.jpg', '37954287_3584.jpg', '30652356_7015.jpg', '45300089_689.jpg', '44286045_1154.jpg', '38937063_3183.jpg', '39974673_2728.jpg', '32408723_6158.jpg', '46112882_304.jpg', '33230640_5757.jpg', '30648355_7018.jpg', '38120582_3507.jpg', '45413681_620.jpg', '39201827_3081.jpg', '32723678_5997.jpg', '45155232_812.jpg', '43282753_1536.jpg', '41751574_2148.jpg', '42595826_1814.jpg', '32444940_6135.jpg', '45228430_777.jpg', '45882031_416.jpg', '33731040_5520.jpg', '32983060_5880.jpg', '32408771_6157.jpg', '41135029_2374.jpg', '35480557_4703.jpg', '45878944_419.jpg', '32515191_6113.jpg', '35815632_4544.jpg', '35892239_4509.jpg', '34455269_5145.jpg', '35719119_4583.jpg', '46257861_48028.jpg', '37488612_3745.jpg', '39755883_2832.jpg', '36099994_4402.jpg', '40898213_2445.jpg', '33506570_5627.jpg', '32632534_6057.jpg', '31409335_6571.jpg', '37022510_3951.jpg', '30630245_7028.jpg', '34198252_5271.jpg', '38416002_3411.jpg', '36137886_4375.jpg', '39531536_2933.jpg', '43594341_1396.jpg', '42474142_1866.jpg', '30046470_7307.jpg', '45413153_621.jpg', '32547400_6099.jpg', '43637154_1374.jpg', '38464900_3401.jpg', '46134672_58323.jpg', '31518074_6522.jpg', '37142510_3899.jpg', '37095030_3928.jpg', '36515562_4195.jpg', '31148816_6713.jpg', '46745081_2.jpg', '30607503_7046.jpg', '32080933_6285.jpg', '29961479_7344.jpg', '33754558_5496.jpg', '29805501_7427.jpg', '41682053_2182.jpg', '30395228_7159.jpg', '34477430_5138.jpg', '30169470_7265.jpg', '31016909_6785.jpg', '35049491_4894.jpg', '34184259_5278.jpg', '35412362_4732.jpg', '34717531_5028.jpg', '40798206_2490.jpg', '40804180_2485.jpg', '43637170_1373.jpg', '42123088_1993.jpg', '43945320_1263.jpg', '37644963_3681.jpg', '39898714_2769.jpg', '36837745_4031.jpg', '32796869_5959.jpg', '44204650_1179.jpg', '34531970_5115.jpg', '45547029_573.jpg', '34810710_4990.jpg', '46249535_48698.jpg', '41870450_2088.jpg', '32738279_5985.jpg', '44676305_1036.jpg', '30710355_6986.jpg', '34689147_5042.jpg', '37984643_3575.jpg', '36240860_4321.jpg', '35861449_4519.jpg', '36439417_4229.jpg', '36582505_4165.jpg', '29766831_7447.jpg', '40574043_2579.jpg', '44519187_1089.jpg', '35510220_4688.jpg', '39818998_2806.jpg', '33782412_5484.jpg', '37607586_3696.jpg', '35564022_4665.jpg', '37555491_3713.jpg', '32136077_6260.jpg', '45296952_709.jpg', '35382245_4744.jpg', '38842888_3227.jpg', '38576068_3349.jpg', '45073805_856.jpg', '30537357_7087.jpg', '30818833_6930.jpg', '30656768_7012.jpg', '45132440_829.jpg', '30854527_6905.jpg', '30328856_7177.jpg', '37544926_3722.jpg', '36698543_4100.jpg', '30920286_6857.jpg', '40922545_2435.jpg', '35588961_4645.jpg', '31899516_6343.jpg', '33013763_5869.jpg', '37361625_3800.jpg', '37365719_3796.jpg', '37563724_3705.jpg', '37102443_3915.jpg', '37460269_3762.jpg', '30757567_6965.jpg', '39119181_3112.jpg', '43430395_1467.jpg', '44873486_960.jpg', '30958570_6827.jpg', '30619310_7033.jpg', '40173014_2653.jpg', '38480435_3389.jpg', '35611996_4640.jpg', '40861350_2461.jpg', '33865475_5439.jpg', '37312447_3817.jpg', '32246350_6220.jpg', '39474187_2959.jpg', '36309888_4291.jpg', '30051763_7305.jpg', '40725894_2514.jpg', '46436255_31276.jpg', '30413474_7151.jpg', '45697243_494.jpg', '41171202_2362.jpg', '30482432_7117.jpg', '44569437_1067.jpg', '31212471_6677.jpg', '39346352_3010.jpg', '35660070_4612.jpg', '36796667_4048.jpg', '32255221_6216.jpg', '34431011_5154.jpg', '35259471_4795.jpg', '29944781_7358.jpg', '31020792_6782.jpg', '36703203_4098.jpg', '45613295_536.jpg', '33398298_5678.jpg', '31157386_6706.jpg', '35578813_4653.jpg', '36223189_4328.jpg', '34253729_5249.jpg', '39971288_2733.jpg', '39165215_3100.jpg', '41107232_2383.jpg', '43577029_1402.jpg', '37481817_3748.jpg', '36207144_4332.jpg', '41942039_2070.jpg', '44258000_1163.jpg', '34727521_5017.jpg', '38359191_3431.jpg', '39814287_2811.jpg', '32911533_5914.jpg', '29950772_7354.jpg', '45124443_834.jpg', '34875219_4954.jpg', '42756858_1775.jpg', '35098351_4874.jpg', '30348674_7173.jpg', '31025752_6777.jpg', '44467139_1100.jpg', '35750347_4574.jpg', '29771513_7442.jpg', '42715241_1789.jpg', '31108941_6735.jpg', '39013348_3145.jpg', '38047720_3543.jpg', '30631024_7027.jpg', '39185344_3092.jpg', '37989771_3572.jpg', '37083677_3932.jpg', '33310219_5727.jpg', '30190253_7251.jpg', '29667899_7492.jpg', '43767345_1326.jpg', '39249657_3051.jpg', '34776963_5000.jpg', '31298826_6621.jpg', '38147684_3497.jpg', '31773359_6398.jpg', '43500279_1438.jpg', '36460228_4217.jpg', '30452445_7134.jpg', '41570044_2223.jpg', '30936853_6840.jpg', '37875829_3599.jpg', '33970623_5389.jpg', '45023035_881.jpg', '31202100_6685.jpg', '36669571_4107.jpg', '40183262_2649.jpg', '34590658_5084.jpg', '45144238_821.jpg', '33106661_5815.jpg', '34459279_5143.jpg', '31271479_6640.jpg', '31032363_6773.jpg', '38241069_3449.jpg', '39591763_2916.jpg', '38037484_3548.jpg', '45139759_823.jpg', '44981806_897.jpg', '31829707_6370.jpg', '44791983_994.jpg', '42507748_1853.jpg', '44862247_967.jpg', '34923326_4943.jpg', '32440826_6136.jpg', '34558442_5105.jpg', '42355006_1906.jpg', '29738121_7463.jpg', '37643072_3682.jpg', '38106768_3514.jpg', '35117751_4865.jpg', '31037500_6766.jpg', '40852040_2467.jpg', '32126735_6265.jpg', '33263238_5746.jpg', '37819770_3620.jpg', '41697230_2172.jpg', '34053427_5345.jpg', '41733751_2162.jpg', '39289642_3026.jpg', '46527120_21361.jpg', '40171634_2655.jpg', '35387756_4742.jpg', '31276611_6636.jpg', '39871621_2779.jpg', '33968944_5391.jpg', '44908334_937.jpg', '34376485_5177.jpg', '34314206_5211.jpg', '36290754_4300.jpg', '31320465_6612.jpg', '45147599_817.jpg', '32331062_6183.jpg', '34685626_5044.jpg', '39134483_3107.jpg', '32721437_6000.jpg', '34698678_5037.jpg', '33670635_5556.jpg', '31265886_6644.jpg', '30450253_7138.jpg', '29764957_7452.jpg', '45173211_802.jpg', '39296849_3021.jpg', '38370722_3427.jpg', '41746986_2151.jpg', '32100516_6278.jpg', '30553920_7081.jpg', '34691848_5040.jpg', '43169075_1591.jpg', '36929296_3993.jpg', '40155537_2659.jpg', '35770553_4559.jpg', '43492061_1441.jpg', '36380426_4257.jpg', '30987371_6805.jpg', '33751731_5504.jpg', '34823073_4978.jpg', '30284494_7206.jpg', '37660428_3678.jpg', '33632105_5567.jpg', '31736966_6413.jpg', '34573137_5091.jpg', '41272889_2322.jpg', '33866356_5438.jpg', '33655224_5558.jpg', '46609812_10735.jpg', '37341269_3807.jpg', '37517796_3729.jpg', '31669950_6442.jpg', '43408497_1485.jpg', '40022058_2702.jpg', '33621131_5575.jpg', '35366499_4753.jpg', '37314143_3816.jpg', '43655672_1369.jpg', '43001508_1668.jpg', '43663754_1365.jpg', '31507407_6528.jpg', '33708454_5535.jpg', '30319880_7184.jpg', '41155488_2369.jpg', '35038351_4898.jpg', '36936338_3988.jpg', '36167251_4360.jpg', '36827546_4039.jpg', '31003787_6793.jpg', '35858653_4521.jpg', '44551971_1074.jpg', '44361932_1135.jpg', '37879845_3598.jpg', '36321450_4282.jpg', '31875903_6354.jpg', '39861871_2782.jpg', '31364453_6594.jpg', '30849877_6906.jpg', '37330451_3812.jpg', '46511956_23203.jpg', '31701794_6429.jpg', '40053836_2685.jpg', '33104657_5816.jpg', '38106212_3515.jpg', '33767730_5492.jpg', '41924139_2072.jpg', '30608662_7043.jpg', '41837034_2107.jpg', '42408691_1887.jpg', '33040382_5848.jpg', '31493021_6533.jpg', '44971367_907.jpg', '32475728_6129.jpg', '35908974_4501.jpg', '42491132_1860.jpg', '36353371_4266.jpg', '45979923_367.jpg', '40024432_2699.jpg', '45150166_816.jpg', '35502734_4695.jpg', '45686815_504.jpg', '41418482_2278.jpg', '40191087_2640.jpg', '34193798_5273.jpg', '36389452_4250.jpg', '45298341_705.jpg', '32205173_6230.jpg', '44187301_1183.jpg', '34068442_5335.jpg', '36322844_4280.jpg', '32676847_6025.jpg', '32721431_6001.jpg', '30130134_7274.jpg', '38025256_3553.jpg', '35150880_4855.jpg', '31223604_6673.jpg', '37146221_3897.jpg', '44921916_931.jpg', '45743940_474.jpg', '42635841_1810.jpg', '36316105_4288.jpg', '32412000_6156.jpg', '32746305_5981.jpg', '30094873_7289.jpg', '43222810_1559.jpg', '34653030_5052.jpg', '41687562_2181.jpg', '30226717_7235.jpg', '38809389_3240.jpg', '39525453_2939.jpg', '31474351_6542.jpg', '37324730_3814.jpg', '41535538_2235.jpg', '32251451_6218.jpg', '32672292_6027.jpg', '34920566_4944.jpg', '31091245_6744.jpg', '37352579_3801.jpg', '40877098_2457.jpg', '46292799_44844.jpg', '31776872_6396.jpg', '32974533_5887.jpg', '38596136_3336.jpg', '44853560_970.jpg', '35965592_4472.jpg', '40888102_2450.jpg', '36438047_4230.jpg', '30568615_7068.jpg', '42553542_1835.jpg', '36152567_4365.jpg', '35252347_4801.jpg', '36018417_4438.jpg', '37818017_3621.jpg', '36193102_4342.jpg', '37460574_3761.jpg', '30951164_6832.jpg', '46225916_50724.jpg', '31206039_6681.jpg', '34239351_5252.jpg', '45396679_633.jpg', '30820342_6929.jpg', '34319052_5208.jpg', '38230816_3452.jpg', '39885725_2776.jpg', '40538136_2592.jpg', '30227460_7233.jpg', '30841871_6912.jpg', '29754965_7455.jpg', '32190678_6237.jpg', '34044700_5354.jpg', '46663062_1718.jpg', '30350613_7171.jpg', '31568606_6490.jpg', '40751774_2505.jpg', '43445200_1460.jpg', '38940285_3179.jpg', '35615773_4637.jpg', '37137494_3901.jpg', '44743690_1012.jpg', '30804107_6936.jpg', '39623556_2903.jpg', '45967423_372.jpg', '34333986_5204.jpg', '33099982_5818.jpg', '32174307_6245.jpg', '31885138_6349.jpg', '35224659_4816.jpg', '43242926_1552.jpg', '41092509_2390.jpg', '31365581_6591.jpg', '38123374_3504.jpg', '44921909_932.jpg', '30418527_7145.jpg', '45710688_488.jpg', '34896454_4948.jpg', '31297391_6622.jpg', '41753722_2147.jpg', '35311369_4769.jpg', '35556111_4669.jpg', '32629278_6062.jpg', '36997026_3964.jpg', '36067170_4419.jpg', '35949095_4480.jpg', '33308629_5728.jpg', '32728895_5992.jpg', '36515565_4194.jpg', '43625242_1378.jpg', '31566262_6492.jpg', '44884706_951.jpg', '33434903_5657.jpg', '36098001_4405.jpg', '42364817_1903.jpg', '39724944_2853.jpg', '31688950_6436.jpg', '30065145_7299.jpg', '33554729_5603.jpg', '45902007_408.jpg', '34828663_4973.jpg', '34435850_5152.jpg', '39250000_3050.jpg', '36301937_4294.jpg', '44000423_1242.jpg', '42879659_1731.jpg', '45748525_469.jpg', '46201527_52739.jpg', '46352794_39598.jpg', '42724170_1784.jpg', '45009315_887.jpg', '30575860_7065.jpg', '30908723_6867.jpg', '38664025_3304.jpg', '35246458_4802.jpg', '43922409_1274.jpg', '40683005_2533.jpg', '29997126_7326.jpg', '31940216_6329.jpg', '44122812_1203.jpg', '38591668_3338.jpg', '36997843_3963.jpg', '46643186_5373.jpg', '32098654_6280.jpg', '42436114_1880.jpg', '38192668_3470.jpg', '40612585_2560.jpg', '37118600_3908.jpg', '35376598_4750.jpg', '29872984_7397.jpg', '33150412_5791.jpg', '34067099_5336.jpg', '30716965_6982.jpg', '37987624_3573.jpg', '38650713_3309.jpg', '31373111_6588.jpg', '45041142_873.jpg', '39706393_2862.jpg', '36018096_4439.jpg', '40884652_2453.jpg', '39473403_2961.jpg', '39373922_2996.jpg', '36685905_4105.jpg', '32005085_6304.jpg', '36578413_4168.jpg', '41955766_2063.jpg', '39726829_2852.jpg', '44691189_1032.jpg', '35570370_4660.jpg', '31149811_6712.jpg', '35278484_4788.jpg', '32439277_6138.jpg', '31713911_6423.jpg', '33418617_5667.jpg', '45821265_445.jpg', '32199438_6233.jpg', '42444253_1872.jpg', '39414241_2984.jpg', '43028225_1650.jpg', '39658304_2891.jpg', '30755784_6967.jpg', '43587556_1399.jpg', '40911340_2439.jpg', '37025167_3950.jpg', '30561096_7076.jpg', '31427266_6565.jpg', '45567821_556.jpg', '39254155_3046.jpg', '34583614_5087.jpg', '37107589_3911.jpg', '33402526_5671.jpg', '39226372_3070.jpg', '39941394_2748.jpg', '46606561_11251.jpg', '34095036_5321.jpg', '36447079_4220.jpg', '35504024_4694.jpg', '42801160_1762.jpg', '33845661_5454.jpg', '33459283_5645.jpg', '38366106_3430.jpg', '40691449_2527.jpg', '43167847_1592.jpg', '46497260_24880.jpg', '31628133_6461.jpg', '31956689_6322.jpg', '32317793_6187.jpg', '29839293_7418.jpg', '34811663_4989.jpg', '31953235_6325.jpg', '43672228_1361.jpg', '38037253_3549.jpg', '36492293_4205.jpg', '37564437_3704.jpg', '45199521_787.jpg', '38798280_3248.jpg', '32792533_5961.jpg', '30380609_7165.jpg', '45107561_840.jpg', '32422530_6149.jpg', '42151989_1982.jpg', '33441847_5652.jpg', '38088439_3523.jpg', '33456483_5646.jpg', '46682444_13.jpg', '37352525_3802.jpg', '32979766_5882.jpg', '46556595_17972.jpg', '45579028_376.jpg', '46465101_28285.jpg', '31449475_6554.jpg', '43954490_1261.jpg', '38483254_3387.jpg', '42137142_1987.jpg', '43523124_1429.jpg', '35496775_4698.jpg', '42418507_1885.jpg', '33325688_5720.jpg', '30916668_6861.jpg', '31206141_6680.jpg', '31677195_6437.jpg', '31050742_6754.jpg', '31773443_6397.jpg', '32420243_6151.jpg', '46461181_28724.jpg', '46256140_48165.jpg', '33052366_5845.jpg', '41842455_2103.jpg', '39243940_3055.jpg', '34450143_5146.jpg', '33685879_5549.jpg', '33069538_5836.jpg', '32643417_6046.jpg', '33596810_5578.jpg', '39493484_2949.jpg', '33738115_5514.jpg', '34871528_4957.jpg', '41870692_2087.jpg', '44516753_1091.jpg', '31391162_6579.jpg', '36427958_4231.jpg', '32631329_6059.jpg', '42044740_2021.jpg', '30110452_7283.jpg', '43304434_1528.jpg', '29765447_7450.jpg', '44961428_913.jpg', '42499844_1856.jpg', '39778972_2824.jpg', '35997707_4450.jpg', '29795823_7430.jpg', '46131456_297.jpg', '30304162_7190.jpg', '34802419_4994.jpg', '35867923_4518.jpg', '34287813_5230.jpg', '36124524_4386.jpg', '33229895_5758.jpg', '42992138_1679.jpg', '32476272_6127.jpg', '43545923_1415.jpg', '42635787_1811.jpg', '38856611_3220.jpg', '38714489_3285.jpg', '33430885_5660.jpg', '30789696_6942.jpg', '36973604_3976.jpg', '34540380_5112.jpg', '34363582_5186.jpg', '42949318_1695.jpg', '43364243_1507.jpg', '40705714_2517.jpg', '38650754_3307.jpg', '34796402_4995.jpg', '35810853_4546.jpg', '35696874_4594.jpg', '46647936_4536.jpg', '38403695_3419.jpg', '31856764_6358.jpg', '33202036_5771.jpg', '39726878_2851.jpg', '46216993_51478.jpg', '41277830_2320.jpg', '45424040_615.jpg', '36861333_4016.jpg', '33016795_5865.jpg', '44055457_1228.jpg', '32717126_6005.jpg', '35559365_4667.jpg', '42110221_1996.jpg', '42809208_1759.jpg', '37843979_3609.jpg', '41113319_2381.jpg', '44186767_1184.jpg', '42965476_1690.jpg', '30267614_7213.jpg', '30039852_7311.jpg', '31263028_6647.jpg', '39348945_3007.jpg', '32785524_5964.jpg', '30994253_6803.jpg', '40175625_2651.jpg', '37202052_3873.jpg', '31026795_6776.jpg', '41741007_2157.jpg', '35072578_4882.jpg', '46290970_45017.jpg', '30759804_6963.jpg', '43683887_1357.jpg', '30893558_6881.jpg', '35835949_4532.jpg', '39694028_2868.jpg', '36175213_4354.jpg', '32501560_6118.jpg', '37507810_3734.jpg', '45396526_634.jpg', '34770456_5006.jpg', '33558585_5597.jpg', '35765699_4564.jpg', '33038076_5850.jpg', '46206783_52340.jpg', '43365972_1506.jpg', '33551005_5607.jpg', '29995624_7329.jpg', '37306099_3822.jpg', '39955604_2743.jpg', '45299720_693.jpg', '46500449_24518.jpg', '34813661_4987.jpg', '46635826_6665.jpg', '30476623_7121.jpg', '34073020_5331.jpg', '45219912_780.jpg', '32517609_6111.jpg', '30799783_6939.jpg', '46227627_50585.jpg', '35659884_4614.jpg', '35253658_4798.jpg', '32629356_6060.jpg', '41425848_2276.jpg', '41592855_2217.jpg', '40680034_2534.jpg', '36118169_4387.jpg', '41629849_2203.jpg', '44804073_989.jpg', '34973146_4925.jpg', '44070453_1216.jpg', '34062966_5338.jpg', '32632742_6056.jpg', '32811424_5947.jpg', '36376141_4261.jpg', '33119152_5806.jpg', '43927337_1273.jpg', '38426668_3408.jpg', '37553225_3714.jpg', '40506971_2609.jpg', '39712513_2860.jpg', '39194950_3084.jpg', '32137140_6259.jpg', '34627021_5066.jpg', '46042067_348.jpg', '36282238_4305.jpg', '32423757_6148.jpg', '41802003_2120.jpg', '30227136_7234.jpg', '34885078_4951.jpg', '33363384_5694.jpg', '32836410_5940.jpg', '40172795_2654.jpg', '43402522_1489.jpg', '30421803_7142.jpg', '41066452_2401.jpg', '45454653_612.jpg', '36622499_4143.jpg', '33726006_5528.jpg', '45284824_733.jpg', '33918777_5408.jpg', '35502708_4696.jpg', '43642564_1371.jpg', '37001766_3960.jpg', '41681424_2186.jpg', '30583569_7060.jpg', '35822322_4540.jpg', '32130909_6261.jpg', '45424271_613.jpg', '46306857_43587.jpg', '41032979_2413.jpg', '32601810_6074.jpg', '40696284_2521.jpg', '39371889_2998.jpg', '30472177_7124.jpg', '33516488_5618.jpg', '39960441_2739.jpg', '43972388_1256.jpg', '37101270_3918.jpg', '40527358_2599.jpg', '30090155_7291.jpg', '44546424_1076.jpg', '32395881_6161.jpg', '34257003_5247.jpg', '37732531_3653.jpg', '31111506_6734.jpg', '33960128_5393.jpg', '38202895_3465.jpg', '41462946_2264.jpg', '36223197_4327.jpg', '33357790_5705.jpg', '30522677_7099.jpg', '30600956_7050.jpg', '31258641_6649.jpg', '36447076_4221.jpg', '32292260_6203.jpg', '41764880_2138.jpg', '44168500_1189.jpg', '46716649_18.jpg', '38471770_3399.jpg', '43879818_1289.jpg', '29706568_7482.jpg', '37995878_3570.jpg', '39461062_2968.jpg', '32949609_5899.jpg', '41708419_2167.jpg', '46148750_57142.jpg', '34693696_5039.jpg', '46553400_18342.jpg', '30619217_7034.jpg', '44944776_919.jpg', '39727219_2850.jpg', '37623508_3686.jpg', '36040015_4429.jpg', '38985309_3161.jpg', '36116830_4390.jpg', '35157528_4851.jpg', '33161286_5783.jpg', '32291288_6205.jpg', '45340781_671.jpg', '35170402_4844.jpg', '34490357_5133.jpg', '38960084_3169.jpg', '35245595_4803.jpg', '33308336_5729.jpg', '35452128_4711.jpg', '31723102_6418.jpg', '39295950_3022.jpg', '33279625_5735.jpg', '45537824_576.jpg', '31521351_6521.jpg', '36024682_4435.jpg', '31878867_6351.jpg', '40477602_2615.jpg', '43239513_1554.jpg', '41475970_2261.jpg', '41070827_2397.jpg', '39562915_2926.jpg', '38007435_3563.jpg', '34215946_5263.jpg', '33856073_5444.jpg', '37363654_3798.jpg', '31538142_6508.jpg', '36861279_4017.jpg', '37309482_3818.jpg', '31324948_6610.jpg', '36664133_4111.jpg', '40696256_2523.jpg', '37306707_3819.jpg', '45383987_643.jpg', '34219642_5261.jpg', '32452156_6134.jpg', '40855867_2464.jpg', '38147700_3496.jpg', '30602715_7048.jpg', '41252671_2327.jpg', '31128262_6720.jpg', '40998568_2423.jpg', '37462760_3757.jpg', '37378036_3789.jpg', '43113818_1610.jpg', '35861099_4520.jpg', '30685548_7001.jpg', '35430408_4724.jpg', '42488145_1862.jpg', '46218186_51398.jpg', '30772131_6954.jpg', '31612871_6466.jpg', '34050529_5350.jpg', '39684062_2879.jpg', '39984921_2720.jpg', '40662564_2546.jpg', '46156926_56474.jpg', '30502996_7111.jpg', '36633705_4134.jpg', '35575121_4658.jpg', '37393218_3784.jpg', '33153721_5789.jpg', '39964056_2737.jpg', '44165162_1192.jpg', '31303723_6620.jpg', '35264147_4793.jpg', '46146362_57346.jpg', '36985192_3971.jpg', '36443167_4223.jpg', '32105497_6275.jpg', '43417897_1480.jpg', '42806401_1760.jpg', '35294991_4778.jpg', '39175665_3095.jpg', '38564152_3355.jpg', '41117293_2379.jpg', '45738355_476.jpg', '38446242_3403.jpg', '45507492_590.jpg', '31001114_6796.jpg', '36100505_4399.jpg', '35682627_4604.jpg', '31748304_6407.jpg', '31440694_6558.jpg', '30189790_7253.jpg', '38471290_3400.jpg', '33631049_5568.jpg', '43175474_1589.jpg', '34192165_5274.jpg', '33417322_5668.jpg', '31812711_6377.jpg', '46195203_53287.jpg', '46664401_1387.jpg', '31364464_6593.jpg', '46555972_18042.jpg', '43207481_1572.jpg', '30841512_6914.jpg', '45004074_890.jpg', '38757493_3269.jpg', '35294311_4780.jpg', '37306665_3820.jpg', '35316732_4765.jpg', '38090185_3521.jpg', '45373153_651.jpg', '42897295_1721.jpg', '42811508_1756.jpg', '31126256_6721.jpg', '44176322_1187.jpg', '34748141_5010.jpg', '30609350_7040.jpg', '35128045_4862.jpg', '30285735_7205.jpg', '30146761_7269.jpg', '42452768_1870.jpg', '43597374_1393.jpg', '38527619_3368.jpg', '32849640_5935.jpg', '39537656_2931.jpg', '39621779_2904.jpg', '39783640_2821.jpg', '33099266_5819.jpg', '35985651_4465.jpg', '31474317_6543.jpg', '46370589_37774.jpg', '39481325_2953.jpg', '36132407_4377.jpg', '39673084_2883.jpg', '42157293_1978.jpg', '45752407_468.jpg', '35116774_4867.jpg', '36654742_4123.jpg', '36829347_4037.jpg', '30973671_6814.jpg', '41175482_2360.jpg', '39773474_2826.jpg', '42437710_1877.jpg', '33000747_5874.jpg', '33633845_5564.jpg', '31475177_6541.jpg', '34573092_5092.jpg', '29995742_7328.jpg', '38162595_3486.jpg', '44371695_1130.jpg', '33908001_5419.jpg', '39766447_2828.jpg', '30559709_7078.jpg', '38241542_3446.jpg', '37407218_3782.jpg', '41243190_2334.jpg', '46550888_18609.jpg', '37744620_3649.jpg', '37455449_3763.jpg', '40022033_2703.jpg', '45675762_509.jpg', '29782271_7438.jpg', '37266086_3843.jpg', '31016903_6786.jpg', '36504781_4199.jpg', '33577077_5589.jpg', '39007210_3151.jpg', '38218004_3455.jpg', '31324709_6611.jpg', '30717868_6980.jpg', '44896724_941.jpg', '44323219_1143.jpg', '36827816_4038.jpg', '43698779_1349.jpg', '37287635_3832.jpg', '43529107_1423.jpg', '40697931_2518.jpg', '38577846_3345.jpg', '36153576_4363.jpg', '36072481_4415.jpg', '39964066_2736.jpg', '33561105_5594.jpg', '41798000_2124.jpg', '36839314_4027.jpg', '30510164_7109.jpg', '33557871_5599.jpg', '34808075_4991.jpg', '33064708_5842.jpg', '32292242_6204.jpg', '39982396_2722.jpg', '45299721_691.jpg', '33067479_5841.jpg', '41536010_2234.jpg', '32241300_6224.jpg', '33313569_5726.jpg', '45673249_514.jpg', '43066431_1632.jpg', '35001752_4915.jpg', '34292282_5225.jpg', '30742396_6972.jpg', '41798058_2123.jpg', '40077780_2676.jpg', '32856393_5934.jpg', '36282168_4306.jpg', '36653263_4125.jpg', '38032230_3551.jpg', '46018505_351.jpg', '32759308_5976.jpg', '29719706_7476.jpg', '37334737_3810.jpg', '33633332_5565.jpg', '33903946_5421.jpg', '38806460_3242.jpg', '32258588_6214.jpg', '31664066_6446.jpg', '29901084_7381.jpg', '42634531_1813.jpg', '45893922_411.jpg', '41067430_2399.jpg', '33493287_5634.jpg', '35199380_4830.jpg', '36441125_4227.jpg', '45666777_517.jpg', '30521132_7102.jpg', '36666857_4108.jpg', '44756314_1009.jpg', '29730117_7469.jpg', '35757973_4570.jpg', '36117535_4389.jpg', '45613401_535.jpg', '38210363_3461.jpg', '44545797_1077.jpg', '30326523_7181.jpg', '39816304_2808.jpg', '36153536_4364.jpg', '35311710_4768.jpg', '34591978_5081.jpg', '30623851_7032.jpg', '33994571_5373.jpg', '43767387_1325.jpg', '43554124_1414.jpg', '39301880_3019.jpg', '31336111_6605.jpg', '31044062_6758.jpg', '42509020_1852.jpg', '44622495_1047.jpg', '44809548_984.jpg', '29861648_7407.jpg', '35801377_4550.jpg', '42915960_1704.jpg', '36424037_4234.jpg', '36932521_3991.jpg', '42012136_2031.jpg', '41297425_2315.jpg', '39346092_3011.jpg', '45350018_664.jpg', '32287570_6206.jpg', '44220501_1174.jpg', '39705344_2863.jpg', '32424782_6147.jpg', '46372331_37622.jpg', '36798526_4046.jpg', '32903299_5918.jpg', '46217141_51468.jpg', '35226793_4813.jpg', '43353092_1510.jpg', '39511058_2943.jpg', '45932947_395.jpg', '39594952_2915.jpg', '32120758_6269.jpg', '38354496_3432.jpg', '40131141_2664.jpg', '42993389_1676.jpg', '42865922_1736.jpg', '45821259_446.jpg', '34674485_5046.jpg', '32186467_6240.jpg', '36466741_4215.jpg', '30527010_7095.jpg', '32637032_6050.jpg', '45125447_833.jpg', '43394062_1494.jpg', '30788809_6943.jpg', '32780730_5968.jpg', '32149218_6254.jpg', '33502168_5630.jpg', '34290873_5227.jpg', '46027345_349.jpg', '44626048_1045.jpg', '43443452_1462.jpg', '38890066_3205.jpg', '41971330_2052.jpg', '33898057_5426.jpg', '35750775_4571.jpg', '35963781_4473.jpg', '42044748_2020.jpg', '41733714_2163.jpg', '32477015_6125.jpg', '36379189_4259.jpg', '37104321_3913.jpg', '41681682_2185.jpg', '35175028_4838.jpg', '31450272_6551.jpg', '40593999_2568.jpg', '37772906_3640.jpg', '46267566_47134.jpg', '38689476_3298.jpg', '36359594_4265.jpg', '46021400_350.jpg', '45519674_585.jpg', '39238714_3057.jpg', '34621355_5071.jpg', '45072235_858.jpg', '39560772_2928.jpg', '36984534_3973.jpg', '42913499_1711.jpg', '30316908_7187.jpg', '41912530_2076.jpg', '39410794_2985.jpg', '33792824_5476.jpg', '34527334_5117.jpg', '36711892_4094.jpg', '37463435_3756.jpg', '33419038_5666.jpg', '33648164_5560.jpg', '29814859_7425.jpg', '39130021_3109.jpg', '43642186_1372.jpg', '36712779_4093.jpg', '46193654_53492.jpg', '31810002_6380.jpg', '46007901_357.jpg', '40733315_2512.jpg', '31121068_6728.jpg', '44161777_1193.jpg', '33819141_5468.jpg', '35815944_4543.jpg', '39014917_3142.jpg', '46336468_40912.jpg', '45785121_451.jpg', '39047773_3135.jpg', '36622539_4142.jpg', '36537006_4183.jpg', '35304307_4773.jpg', '41099978_2387.jpg', '42199907_1963.jpg', '36294645_4298.jpg', '35801664_4549.jpg', '31960563_6319.jpg', '35987479_4461.jpg', '38556336_3358.jpg', '32060393_6292.jpg', '33381021_5682.jpg', '41919089_2074.jpg', '30624256_7030.jpg', '37490995_3744.jpg', '40116459_2668.jpg', '33113836_5810.jpg', '33140245_5800.jpg', '37162770_3892.jpg', '30892633_6882.jpg', '33848004_5452.jpg', '45373083_652.jpg', '29893645_7384.jpg', '30745264_6970.jpg', '43270003_1541.jpg', '38647143_3310.jpg', '34089782_5323.jpg', '39232553_3063.jpg', '29914082_7377.jpg', '32772287_5973.jpg', '30481829_7118.jpg', '38881666_3210.jpg', '46573628_15610.jpg', '33472816_5642.jpg', '42518162_1850.jpg', '41124145_2378.jpg', '32906418_5917.jpg', '39226611_3069.jpg', '36117705_4388.jpg', '33729211_5524.jpg', '31016137_6787.jpg', '36616408_4147.jpg', '43010628_1665.jpg', '32430051_6146.jpg', '34112444_5309.jpg', '31296622_6623.jpg', '45955628_375.jpg', '41512052_2245.jpg', '32678660_6024.jpg', '31530027_6514.jpg', '34379644_5173.jpg', '32712338_6010.jpg', '42782169_1767.jpg', '41269639_2324.jpg', '42053053_2017.jpg', '37028652_3948.jpg', '41484224_2254.jpg', '34179023_5281.jpg', '30225213_7237.jpg', '43063522_1635.jpg', '42555061_1833.jpg', '42521420_1847.jpg', '35205565_4824.jpg', '39920076_2761.jpg', '38598153_3334.jpg', '46386226_36402.jpg', '34694364_5038.jpg', '35046613_4896.jpg', '35001087_4917.jpg', '33102009_5817.jpg', '40527355_2600.jpg', '42033587_2025.jpg', '46639796_6077.jpg', '30526096_7097.jpg', '36526443_4189.jpg', '30163109_7266.jpg', '34892138_4949.jpg', '32453022_6132.jpg', '33940027_5401.jpg', '40019085_2707.jpg', '46323737_42127.jpg', '39168091_3098.jpg', '35352573_4758.jpg', '34322543_5206.jpg', '42570497_1830.jpg', '33592654_5580.jpg', '45072971_857.jpg', '45324603_627.jpg', '39226726_3068.jpg', '33069753_5835.jpg', '31535614_6511.jpg', '43828992_1303.jpg', '45321635_679.jpg', '42060820_2015.jpg', '44719076_1024.jpg', '37995978_3569.jpg', '43177083_1585.jpg', '31697504_6431.jpg', '46515939_22600.jpg', '35491291_4699.jpg', '41000930_2421.jpg', '40053084_2689.jpg', '33784137_5480.jpg', '46229576_50431.jpg', '40761085_2503.jpg', '41185005_2359.jpg', '29977755_7341.jpg', '38799412_3247.jpg', '46724070_14.jpg', '31031634_6774.jpg', '31919561_6337.jpg', '34565078_5099.jpg', '46464271_28385.jpg', '44712946_1027.jpg', '36650110_4126.jpg', '31647286_6453.jpg', '34952097_4932.jpg', '30542614_7085.jpg', '45269470_744.jpg', '33850341_5450.jpg', '30251608_7220.jpg', '37129115_3904.jpg', '31341927_6601.jpg', '44731125_1022.jpg', '41760110_2143.jpg', '37209350_3871.jpg', '31720856_6419.jpg', '44972800_904.jpg', '41751332_2149.jpg', '34770474_5005.jpg', '30424356_7141.jpg', '34557042_5106.jpg', '42520673_1848.jpg', '34734477_5015.jpg', '41956097_2062.jpg', '37537656_3723.jpg', '33903857_5422.jpg', '35242741_4805.jpg', '34222128_5259.jpg', '42767528_1769.jpg', '30403885_7157.jpg', '45615291_534.jpg', '35410808_4733.jpg', '33691829_5545.jpg', '30939295_6838.jpg', '39200968_3082.jpg', '44253487_1165.jpg', '46227750_50579.jpg', '37439099_3769.jpg', '35206382_4823.jpg', '32053320_6293.jpg', '42061229_2013.jpg', '42721536_1741.jpg', '38091125_3519.jpg', '33692107_5543.jpg', '32744912_5982.jpg', '39568477_2922.jpg', '43556381_1411.jpg', '32587847_6080.jpg', '46208371_52158.jpg', '46233188_50089.jpg', '46060058_338.jpg', '44049142_1229.jpg', '46579510_14960.jpg', '31309941_6617.jpg', '33272930_5740.jpg', '42418650_1884.jpg', '40842753_2470.jpg', '40503608_2612.jpg', '42858924_1737.jpg', '42726765_1780.jpg', '39723135_2855.jpg', '33108326_5814.jpg', '43094389_1618.jpg', '39691142_2870.jpg', '34726227_5018.jpg', '36380014_4258.jpg', '35922722_4492.jpg', '43706766_1346.jpg', '40823769_2480.jpg', '35577631_4655.jpg', '36713848_4091.jpg', '43086364_1620.jpg', '46634292_6856.jpg', '35176443_4835.jpg', '37968093_3579.jpg', '34537640_5113.jpg', '36724293_4082.jpg', '41656438_2192.jpg', '42366021_1902.jpg', '43348727_1511.jpg', '35090095_4877.jpg', '37622242_3688.jpg', '40527361_2597.jpg', '37716982_3659.jpg', '38577862_3344.jpg', '38480421_3390.jpg', '46100042_311.jpg', '44526557_1086.jpg', '36632519_4137.jpg', '37101752_3917.jpg', '45079209_852.jpg', '31240711_6662.jpg', '30624863_7029.jpg', '38093058_3518.jpg', '39250157_3049.jpg', '42993833_1675.jpg', '43507940_1434.jpg', '46330859_41458.jpg', '39741323_2842.jpg', '30075671_7297.jpg', '33718122_5530.jpg', '33549627_5611.jpg', '36139975_4374.jpg', '43250738_1549.jpg', '31378799_6585.jpg', '36240146_4322.jpg', '35655178_4616.jpg', '31512325_6524.jpg', '31073977_6751.jpg', '36518234_4192.jpg', '29941126_7360.jpg', '35985657_4464.jpg', '39176369_3094.jpg', '42858759_1738.jpg', '31710057_6427.jpg', '32629292_6061.jpg', '45299340_697.jpg', '39501175_2945.jpg', '38186811_3475.jpg', '40049986_2694.jpg', '42024030_2027.jpg', '41593848_2214.jpg', '39018174_3140.jpg', '30033986_7317.jpg', '30704251_6989.jpg', '33786402_5479.jpg', '29883846_7391.jpg', '42399671_1889.jpg', '45547762_572.jpg', '30559717_7077.jpg', '32395456_6163.jpg', '30521535_7100.jpg', '46518713_22298.jpg', '34170270_5286.jpg', '33376513_5686.jpg', '43182849_1583.jpg', '33096343_5821.jpg', '34625145_5067.jpg', '36563125_4173.jpg', '43616546_1384.jpg', '34736848_5012.jpg', '36476598_4212.jpg', '43278289_1538.jpg', '29951821_7351.jpg', '33429010_5661.jpg', '37305593_3823.jpg', '38023550_3554.jpg', '33635695_5562.jpg', '40020459_2705.jpg', '38605493_3330.jpg', '45483203_603.jpg', '33879389_5434.jpg', '33345214_5710.jpg', '35879269_4516.jpg', '37216018_3868.jpg', '29755230_7454.jpg', '34616276_5073.jpg', '29928997_7366.jpg', '34430239_5155.jpg', '34042458_5355.jpg', '30779814_6951.jpg', '40619976_2556.jpg', '34566076_5097.jpg', '40544832_2589.jpg', '36418942_4235.jpg', '44569606_1066.jpg', '30039249_7312.jpg', '44932384_922.jpg', '30434611_7139.jpg', '37621503_3690.jpg', '29988760_7331.jpg', '39757626_2831.jpg', '33913998_5416.jpg', '34298404_5221.jpg', '32967664_5891.jpg', '44862864_966.jpg', '31184254_6696.jpg', '30780753_6948.jpg', '38090674_3520.jpg', '46476965_27098.jpg', '32786072_5963.jpg', '43398625_1492.jpg', '31511804_6525.jpg', '39615461_2908.jpg', '30820390_6928.jpg', '34411179_5163.jpg', '31878034_6352.jpg', '34290479_5228.jpg', '43282435_1537.jpg', '45168950_803.jpg', '41484247_2253.jpg', '45178871_799.jpg', '34005814_5370.jpg', '46062257_337.jpg', '42131447_1989.jpg', '38678357_3300.jpg', '36550295_4179.jpg', '31256327_6652.jpg', '31650441_6450.jpg', '34482315_5135.jpg', '30935693_6841.jpg', '37416495_3777.jpg', '46099105_312.jpg', '36656426_4120.jpg', '31275834_6637.jpg', '43011696_1663.jpg', '45288325_728.jpg', '35208577_4822.jpg', '44565717_1069.jpg', '38017112_3557.jpg', '39644390_2897.jpg', '34678504_5045.jpg', '41067329_2400.jpg', '40689199_2529.jpg', '38205740_3464.jpg', '40852915_2466.jpg', '41131038_2375.jpg', '36578472_4167.jpg', '33273412_5739.jpg', '36911646_4000.jpg', '32723030_5999.jpg', '29741956_7459.jpg', '34937496_4940.jpg', '34265237_5242.jpg', '39527407_2937.jpg', '44167127_1190.jpg', '44464648_1102.jpg', '36100025_4400.jpg', '36236037_4324.jpg', '30117266_7277.jpg', '35302356_4775.jpg', '39850715_2788.jpg', '37967264_3580.jpg', '42092570_2005.jpg', '45494366_596.jpg', '34110981_5311.jpg', '46113896_303.jpg', '41214036_2344.jpg', '35025396_4902.jpg', '38728603_3279.jpg', '34119072_5304.jpg', '40896800_2447.jpg', '39231048_3065.jpg', '34108156_5312.jpg', '36820016_4041.jpg', '38859165_3216.jpg', '46072679_326.jpg', '31434178_6562.jpg', '36288505_4301.jpg', '46499929_24580.jpg', '29739195_7461.jpg', '33500517_5632.jpg', '41292270_2317.jpg', '42518084_1851.jpg', '37553168_3715.jpg', '43713786_1344.jpg', '35835930_4533.jpg', '45609478_537.jpg', '41167979_2365.jpg', '30644029_7021.jpg', '33559943_5595.jpg', '36769468_4056.jpg', '41755306_2145.jpg', '36100571_4398.jpg', '30534681_7091.jpg', '44895412_942.jpg', '42994019_1674.jpg', '31952863_6326.jpg', '41647218_2197.jpg', '34544960_5111.jpg', '45372193_653.jpg', '45405266_626.jpg', '30918459_6860.jpg', '30236677_7229.jpg', '38883224_3209.jpg', '45250314_761.jpg', '38158532_3491.jpg', '44219844_1175.jpg', '31693451_6435.jpg', '35582984_4650.jpg', '42957334_1694.jpg', '34741393_5011.jpg', '45836859_437.jpg', '45521204_583.jpg', '42499102_1858.jpg', '44015384_1239.jpg', '40081441_2675.jpg', '46313330_43042.jpg', '45926581_397.jpg', '30520013_7104.jpg', '32600396_6076.jpg', '38125705_3503.jpg', '37792673_3633.jpg', '30526099_7096.jpg', '41080586_2394.jpg', '39690368_2874.jpg', '32842295_5938.jpg', '43671607_1362.jpg', '44093263_1212.jpg', '36488906_4208.jpg', '35187888_4832.jpg', '32830723_5942.jpg', '33851722_5448.jpg', '36415421_4238.jpg', '35898136_4504.jpg', '43011890_1662.jpg', '38177343_3479.jpg', '38801598_3245.jpg', '37098684_3926.jpg', '40190096_2642.jpg', '38399837_3420.jpg', '39262983_3039.jpg', '32127530_6263.jpg', '38255793_3442.jpg', '39389972_2993.jpg', '35700639_4590.jpg', '45745410_471.jpg', '35384871_4743.jpg', '39371849_2999.jpg', '41320715_2312.jpg', '39816365_2807.jpg', '31600269_6474.jpg', '43835273_1301.jpg', '34270925_5240.jpg', '46464312_28375.jpg', '37134090_3902.jpg', '38873363_3214.jpg', '33703352_5539.jpg', '38384585_3424.jpg', '30980925_6810.jpg', '38254100_3444.jpg', '31988704_6310.jpg', '41546296_2227.jpg', '32980061_5881.jpg', '34219260_5262.jpg', '39073231_3123.jpg', '34666920_5049.jpg', '30609512_7039.jpg', '33173845_5780.jpg', '41320730_2311.jpg', '45407807_623.jpg', '41734556_2160.jpg', '44276831_1158.jpg', '34189306_5276.jpg', '34824525_4976.jpg', '43469393_1446.jpg', '36634754_4133.jpg', '35971066_4468.jpg', '42015553_2028.jpg', '39341685_3013.jpg', '39159753_3103.jpg', '45104637_846.jpg', '36335639_4274.jpg', '35378094_4749.jpg', '45504479_592.jpg', '42355043_1905.jpg', '34871408_4958.jpg', '34572347_5093.jpg', '37655863_3679.jpg', '33685627_5550.jpg', '39704194_2865.jpg', '42892953_1722.jpg', '31549436_6498.jpg', '33360302_5700.jpg', '45516312_587.jpg', '44667719_1038.jpg', '38120078_3508.jpg', '30609296_7041.jpg', '38709917_3290.jpg', '34853155_4967.jpg', '38599959_3332.jpg', '33350739_5707.jpg', '33986654_5376.jpg', '35289212_4781.jpg', '30015021_7319.jpg', '43556106_1413.jpg', '29839253_7419.jpg', '46738937_5.jpg', '41621141_2206.jpg', '36316481_4287.jpg', '33599795_5577.jpg', '31047010_6756.jpg', '38919234_3194.jpg', '36641750_4130.jpg', '33363947_5693.jpg', '43452395_1457.jpg', '35986208_4463.jpg', '33017458_5864.jpg', '31623108_6463.jpg', '41358089_2301.jpg', '32307149_6193.jpg', '29873223_7395.jpg', '37672020_3672.jpg', '38545261_3361.jpg', '46126929_299.jpg', '35193063_4831.jpg', '46126438_300.jpg', '46596872_12538.jpg', '45228520_776.jpg', '31150998_6709.jpg', '30950258_6835.jpg', '45512253_588.jpg', '39621312_2907.jpg', '45745057_472.jpg', '31166428_6702.jpg', '38476974_3397.jpg', '35303353_4774.jpg', '37500522_3739.jpg', '37623148_3687.jpg', '35507077_4690.jpg', '39948742_2745.jpg', '37112347_3910.jpg', '33140857_5795.jpg', '30640382_7023.jpg', '37100701_3920.jpg', '33234494_5755.jpg', '35532076_4678.jpg', '43067234_1631.jpg', '38554222_3359.jpg', '38366275_3429.jpg', '38344383_3434.jpg', '33314357_5725.jpg', '41336536_2305.jpg', '30958559_6828.jpg', '37004171_3959.jpg', '33153596_5790.jpg', '33099127_5820.jpg', '31285195_6631.jpg', '42439054_1874.jpg', '36697438_4101.jpg', '40895217_2448.jpg', '44266221_1159.jpg', '34094628_5322.jpg', '35429776_4725.jpg', '32069337_6291.jpg', '39495915_2948.jpg', '42368927_1901.jpg', '39989362_2717.jpg', '45219785_782.jpg', '34298471_5220.jpg', '39802732_2815.jpg', '41526254_2238.jpg', '34352810_5194.jpg', '41046492_2411.jpg', '30639251_7024.jpg', '43082422_1623.jpg', '33078947_5828.jpg', '46075689_324.jpg', '38793514_3250.jpg', '40554702_2588.jpg', '34978336_4923.jpg', '44971647_906.jpg', '34362600_5188.jpg', '31477276_6540.jpg', '43347864_1513.jpg', '32870483_5932.jpg', '32849599_5936.jpg', '33140626_5798.jpg', '31112570_6730.jpg', '34176963_5282.jpg', '34521732_5119.jpg', '39044237_3137.jpg', '42336773_1910.jpg', '31336253_6604.jpg', '37552974_3717.jpg', '42967276_1687.jpg', '35062703_4889.jpg', '30781052_6947.jpg', '36209256_4331.jpg', '35987102_4462.jpg', '33979775_5378.jpg', '36277470_4308.jpg', '32609977_6071.jpg', '34414672_5160.jpg', '31533725_6513.jpg', '30593290_7052.jpg', '33747015_5509.jpg', '31237159_6664.jpg', '38715724_3284.jpg', '36753645_4063.jpg', '32369014_6171.jpg', '38594908_3337.jpg', '38915528_3197.jpg', '44874385_959.jpg', '37183399_3886.jpg', '31547562_6500.jpg', '45299458_695.jpg', '33879303_5435.jpg', '35772533_4558.jpg', '34627343_5065.jpg', '44354722_1137.jpg', '40689223_2528.jpg', '35522714_4681.jpg', '38189188_3473.jpg', '37238097_3860.jpg', '38584429_3341.jpg', '39977303_2725.jpg', '44359757_1136.jpg', '34633818_5062.jpg', '39481743_2952.jpg', '36793976_4050.jpg', '29941940_7359.jpg', '35734076_4579.jpg', '32260629_6213.jpg', '34212950_5265.jpg', '33506825_5626.jpg', '31251310_6654.jpg', '43319512_1519.jpg', '30919856_6858.jpg', '42304552_1927.jpg', '42569806_1831.jpg', '42206622_1961.jpg', '43693995_1350.jpg', '37247422_3856.jpg', '43899072_1280.jpg', '41080917_2393.jpg', '30172478_7263.jpg', '41490747_2252.jpg', '30175509_7260.jpg', '36043059_4427.jpg', '35506116_4692.jpg', '31029635_6775.jpg', '36657169_4118.jpg', '45766431_463.jpg', '42929112_1699.jpg', '39266628_3035.jpg', '35343763_4761.jpg', '41871934_2084.jpg', '46614990_10006.jpg', '39822434_2802.jpg', '30641888_7022.jpg', '35968123_4469.jpg', '43379026_1499.jpg', '30826183_6922.jpg', '44735073_1020.jpg', '38180541_3477.jpg', '32634976_6054.jpg', '43136496_1603.jpg', '45023874_880.jpg', '44417058_1112.jpg', '43769417_1324.jpg', '41507106_2249.jpg', '33270899_5742.jpg', '32108164_6272.jpg', '38650750_3308.jpg', '32200586_6231.jpg', '30879212_6890.jpg', '32209110_6228.jpg', '34194829_5272.jpg', '33137902_5802.jpg', '46215623_51553.jpg', '33567454_5591.jpg', '40927657_2433.jpg', '32021343_6301.jpg', '33818633_5470.jpg', '46672797_9.jpg', '31777416_6395.jpg', '37566668_3703.jpg', '33811989_5471.jpg', '33822257_5464.jpg', '41431807_2273.jpg', '37841515_3612.jpg', '40056658_2681.jpg', '39229112_3067.jpg', '35689303_4598.jpg', '43937932_1266.jpg', '35529966_4680.jpg', '31336771_6603.jpg', '42705178_1794.jpg', '29733825_7466.jpg', '40696276_2522.jpg', '43789792_1314.jpg', '39010931_3148.jpg', '38598616_3333.jpg', '32622548_6065.jpg', '44100553_1207.jpg', '34318795_5209.jpg', '34141262_5297.jpg', '38250481_3445.jpg', '34778804_4999.jpg', '32617661_6069.jpg', '30490470_7115.jpg', '45287832_729.jpg', '42949315_1696.jpg', '32331132_6181.jpg', '41029628_2417.jpg', '37280238_3836.jpg', '43199531_1574.jpg', '32951065_5896.jpg', '46466428_28176.jpg', '45710619_489.jpg', '35625530_4629.jpg', '39688241_2877.jpg', '30930304_6849.jpg', '40906753_2442.jpg', '36664580_4110.jpg', '44265999_1160.jpg', '43577708_1401.jpg', '46566578_16725.jpg', '44510265_1095.jpg', '30584810_7059.jpg', '43264813_1546.jpg', '32979461_5884.jpg', '41913003_2075.jpg', '42798489_1763.jpg', '33751892_5503.jpg', '36113288_4393.jpg', '34767351_5007.jpg', '33854098_5446.jpg', '43287266_1535.jpg', '35694017_4597.jpg', '38759303_3267.jpg', '35892362_4508.jpg', '35758199_4569.jpg', '33959900_5394.jpg', '36324930_4279.jpg', '37206887_3872.jpg', '44871371_961.jpg', '36100008_4401.jpg', '40672432_2538.jpg', '37261659_3846.jpg', '43577027_1403.jpg', '41250132_2329.jpg', '42439204_1873.jpg', '36951068_3983.jpg', '36510872_4196.jpg', '30473814_7123.jpg', '38241104_3447.jpg', '40342000_2626.jpg', '37098952_3924.jpg', '31879197_6350.jpg', '34313667_5212.jpg', '29862523_7406.jpg', '36831861_4035.jpg', '41415115_2283.jpg', '38214406_3458.jpg', '35307910_4771.jpg', '34818257_4981.jpg', '31340877_6602.jpg', '38699724_3295.jpg', '32108108_6273.jpg', '38857000_3219.jpg', '37217566_3867.jpg', '38800597_3246.jpg', '31602818_6472.jpg', '32550777_6098.jpg', '42266088_1940.jpg', '36069666_4418.jpg', '32872827_5931.jpg', '37365877_3795.jpg', '32081537_6284.jpg', '30563584_7074.jpg', '34701647_5034.jpg', '33858511_5442.jpg', '37551492_3718.jpg', '41512602_2244.jpg', '33864387_5440.jpg', '34079502_5328.jpg', '39658614_2890.jpg', '46500556_6858.jpg', '37462473_3758.jpg', '32157841_6252.jpg', '39369983_3002.jpg', '37700276_3663.jpg', '36427729_4232.jpg', '31433158_6563.jpg', '33415186_5670.jpg', '41609383_2212.jpg', '30781600_6946.jpg', '36496874_4202.jpg', '30191885_7249.jpg', '41673994_2188.jpg', '35093309_4875.jpg', '39686220_2878.jpg', '38168036_3485.jpg', '34014780_5366.jpg', '32716848_6006.jpg', '40727865_2513.jpg', '46624444_8554.jpg', '33648171_5559.jpg', '46575481_15507.jpg', '44771153_1005.jpg', '33585722_5583.jpg', '40973133_2427.jpg', '37190027_3879.jpg', '30376742_7167.jpg', '36083381_4409.jpg', '46007720_358.jpg', '40342523_2624.jpg', '31376128_6587.jpg', '42553665_1834.jpg', '35627933_4627.jpg', '31608709_6468.jpg', '33372407_5689.jpg', '31981914_6312.jpg', '38070393_3533.jpg', '33868835_5437.jpg', '42236702_1947.jpg', '37044898_3947.jpg', '34111832_5310.jpg', '30202109_7245.jpg', '30520981_7103.jpg', '34605132_5077.jpg', '36939716_3986.jpg', '41515829_2242.jpg', '36189417_4345.jpg', '43420498_1471.jpg', '36282254_4304.jpg', '36516641_4193.jpg', '34132755_5299.jpg', '33015701_5866.jpg', '39840387_2792.jpg', '33557263_5600.jpg', '34101779_5319.jpg', '29861121_7411.jpg', '45174509_801.jpg', '41197720_2354.jpg', '37289502_3828.jpg', '36558993_4177.jpg', '42006994_2032.jpg', '30716605_6983.jpg', '39194806_3085.jpg', '40980280_2426.jpg', '39738147_2844.jpg', '42911664_1714.jpg', '34570309_5094.jpg', '42766745_1770.jpg', '46489894_25782.jpg', '39637077_2898.jpg', '35933014_4487.jpg', '33273906_5738.jpg', '40229811_2634.jpg', '46221796_51081.jpg', '43749845_1336.jpg', '30567985_7069.jpg', '30252389_7218.jpg', '33515543_5620.jpg', '41546245_2228.jpg', '35851005_4526.jpg', '30115444_7279.jpg', '45299752_690.jpg', '37579818_3699.jpg', '40175632_2650.jpg', '32972287_5890.jpg', '34106662_5316.jpg', '29982825_7334.jpg', '42926941_1700.jpg', '39690849_2871.jpg', '43459370_1453.jpg', '30071021_7298.jpg', '33456216_5647.jpg', '35626954_4628.jpg', '37792772_3632.jpg', '34561262_5103.jpg', '37083459_3933.jpg', '30053204_7304.jpg', '36994485_3966.jpg', '37792832_3631.jpg', '46625922_8280.jpg', '37498292_3741.jpg', '30940213_6836.jpg', '29986691_7332.jpg', '37621560_3689.jpg', '44927657_925.jpg', '33565146_5592.jpg', '33333481_5716.jpg', '41946333_2068.jpg', '31539404_6506.jpg', '40503664_2611.jpg', '34236750_5255.jpg', '43845071_1298.jpg', '45058678_866.jpg', '43819713_1307.jpg', '44098813_1209.jpg', '30048466_7306.jpg', '43003038_1666.jpg', '38158522_3492.jpg', '35432702_4721.jpg', '30537754_7086.jpg', '32784058_5965.jpg', '43617892_1383.jpg', '34688517_5043.jpg', '30327152_7180.jpg', '41415102_2284.jpg', '29893656_7383.jpg', '29865042_7403.jpg', '44735279_1019.jpg', '38472358_3398.jpg', '31791672_6389.jpg', '44908737_935.jpg', '33554782_5602.jpg', '37801496_3629.jpg', '41084702_2391.jpg', '42176970_1971.jpg', '34948974_4934.jpg', '35578845_4652.jpg', '31912070_6342.jpg', '32730776_5990.jpg', '43419645_1472.jpg', '32440553_6137.jpg', '36715773_4089.jpg', '33503446_5629.jpg', '44222902_1173.jpg', '31289719_6627.jpg', '36301941_4293.jpg', '30711067_6985.jpg', '44537153_1080.jpg', '38770112_3265.jpg', '42334221_1913.jpg', '38646153_3311.jpg', '37137657_3900.jpg', '36439739_4228.jpg', '33826566_5460.jpg', '33851755_5447.jpg', '29951540_7353.jpg', '36116783_4391.jpg', '31761339_6401.jpg', '39835028_2794.jpg', '36168382_4359.jpg', '33581978_5586.jpg', '36153598_4362.jpg', '43766233_1330.jpg', '40056038_2682.jpg', '30844270_6908.jpg', '35946909_4481.jpg', '45867885_424.jpg', '29836245_7420.jpg', '41736332_2159.jpg', '45948925_383.jpg', '41626409_2205.jpg', '42892689_1724.jpg', '40714810_2516.jpg', '37839772_3614.jpg', '32143630_6256.jpg', '29722356_7471.jpg', '35505777_4693.jpg', '39670433_2885.jpg', '31915813_6339.jpg', '43303668_1529.jpg', '41836798_2108.jpg', '36267249_4311.jpg', '33977899_5382.jpg', '41862202_2094.jpg', '45709371_490.jpg', '35538783_4675.jpg', '30951936_6831.jpg', '36839071_4028.jpg', '37814332_3623.jpg', '31245479_6659.jpg', '37014773_3955.jpg', '31586545_6479.jpg', '36983294_3974.jpg', '39197729_3083.jpg', '38937297_3182.jpg', '34488209_5134.jpg', '35950892_4478.jpg', '42213482_1957.jpg', '41188643_2358.jpg', '37610395_3695.jpg', '39427811_2979.jpg', '29702573_7483.jpg', '35099223_4873.jpg', '38722012_3282.jpg', '30912134_6863.jpg', '36407308_4242.jpg', '34113665_5307.jpg', '43419026_1475.jpg', '35202989_4825.jpg', '44016619_1238.jpg', '30557245_7079.jpg', '32127848_6262.jpg', '36466752_4214.jpg', '36466549_4216.jpg', '40626820_2554.jpg', '43957675_1259.jpg', '36130478_4380.jpg', '35641389_4622.jpg', '38421189_3410.jpg', '45008548_888.jpg', '38142537_3499.jpg', '39476713_2958.jpg', '34977662_4924.jpg', '39259942_3043.jpg', '33436037_5655.jpg', '33140647_5797.jpg', '38192683_3469.jpg', '42409607_1886.jpg', '44544620_1078.jpg', '35853400_4523.jpg', '34362779_5187.jpg', '42891276_1726.jpg', '43265305_1544.jpg', '30317940_7185.jpg', '31047029_6755.jpg', '41543327_2230.jpg', '35732700_4580.jpg', '32719643_6002.jpg', '30972709_6816.jpg', '36442131_4225.jpg', '46396657_35361.jpg', '35826418_4539.jpg', '38790815_3256.jpg', '34636059_5059.jpg', '33532715_5614.jpg', '37882881_3597.jpg', '41107796_2382.jpg', '40507935_2607.jpg', '45710712_487.jpg', '33745584_5511.jpg', '37075410_3936.jpg', '37273200_3839.jpg', '41219655_2340.jpg', '38528353_3367.jpg', '33511957_5622.jpg', '45973894_369.jpg', '45840687_434.jpg', '33589735_5581.jpg', '45153035_815.jpg', '45627593_528.jpg', '42967843_1686.jpg', '40558362_2587.jpg', '43113272_1611.jpg', '32263637_6212.jpg', '37647349_3680.jpg', '44205629_1178.jpg', '36615793_4148.jpg', '31634919_6456.jpg', '34565517_5098.jpg', '42520666_1849.jpg', '35697122_4593.jpg', '40173020_2652.jpg', '40003666_2712.jpg', '35933022_4486.jpg', '45389244_639.jpg', '35615725_4638.jpg', '45276410_739.jpg', '33185863_5778.jpg', '36038097_4430.jpg', '29937607_7364.jpg', '30701268_6997.jpg', '43303202_1530.jpg', '41531110_2237.jpg', '31521560_6520.jpg', '40344373_2622.jpg', '39945289_2746.jpg', '37778920_3637.jpg', '42300144_1933.jpg', '33156826_5786.jpg', '38661440_3306.jpg', '46576014_15452.jpg', '43001487_1669.jpg', '44414728_1114.jpg', '37630958_3685.jpg', '33073955_5832.jpg', '35200986_4829.jpg', '43322645_1518.jpg', '38629848_3321.jpg', '31555017_6497.jpg', '44868009_963.jpg', '43220685_1562.jpg', '46220929_51156.jpg', '46710537_0.jpg', '31657960_6447.jpg', '41708362_2168.jpg', '37507871_3732.jpg', '46078522_323.jpg', '33271325_5741.jpg', '37521174_3727.jpg', '37100661_3921.jpg', '38644780_3313.jpg', '39293570_3023.jpg', '41215152_2343.jpg', '34370235_5184.jpg', '32663446_6030.jpg', '32665803_6029.jpg', '43523640_1427.jpg', '38886001_3206.jpg', '32930914_5909.jpg', '39540540_2929.jpg', '42796589_1764.jpg', '34828257_4974.jpg', '36151167_4369.jpg', '35284110_4785.jpg', '43786759_1317.jpg', '43030741_1647.jpg', '33730859_5521.jpg', '39254105_3047.jpg', '36412331_4241.jpg', '31898535_6344.jpg', '32051725_6295.jpg', '43018755_1661.jpg', '41857365_2097.jpg', '32701559_6015.jpg', '44908501_936.jpg', '32938362_5906.jpg', '33516471_5619.jpg', '43259283_1547.jpg', '30981803_6809.jpg', '44552249_1073.jpg', '41058450_2405.jpg', '35994887_4455.jpg', '37342165_3805.jpg', '37553054_3716.jpg', '42131721_1988.jpg', '39499751_2946.jpg', '35835537_4534.jpg', '30754308_6968.jpg', '43302291_1531.jpg', '37507840_3733.jpg', '43133709_1604.jpg', '33134932_5803.jpg', '31097248_6738.jpg', '38739036_3276.jpg', '37264655_3844.jpg', '44096253_1211.jpg', '39479972_2955.jpg', '41705744_2171.jpg', '45953706_377.jpg', '40736205_2511.jpg', '33766844_5493.jpg', '34644456_5055.jpg', '40568025_2581.jpg', '44175808_1188.jpg', '40884655_2452.jpg', '39106929_3116.jpg', '34717558_5027.jpg', '39290305_3025.jpg', '35468328_4705.jpg', '33117003_5808.jpg', '42353373_1907.jpg', '32241871_6223.jpg', '42980074_1684.jpg', '46532057_20909.jpg', '45414796_617.jpg', '43721984_1343.jpg', '41585360_2220.jpg', '35099958_4872.jpg', '33213360_5768.jpg', '32141611_6257.jpg', '39193664_3087.jpg', '46539755_19892.jpg', '43507802_1435.jpg', '31420150_6569.jpg', '39819669_2804.jpg', '40784599_2495.jpg', '37896485_3593.jpg', '43304525_1527.jpg', '33269298_5743.jpg', '34124519_5301.jpg', '29947324_7355.jpg', '34039146_5358.jpg', '31478425_6539.jpg', '44926970_927.jpg', '37222337_3865.jpg', '37621036_3691.jpg', '32638002_6048.jpg', '43379013_1500.jpg', '35417131_4730.jpg', '41669489_2189.jpg', '30519488_7105.jpg', '40627635_2553.jpg', '34655005_5051.jpg', '34716309_5029.jpg', '33110041_5812.jpg', '34271720_5239.jpg', '37892701_3594.jpg', '31929450_6331.jpg', '40527359_2598.jpg', '31287585_6630.jpg', '42438850_1875.jpg', '37834896_3617.jpg', '41059717_2404.jpg', '43954810_1260.jpg', '36143043_4372.jpg', '33577670_5588.jpg', '46637860_6336.jpg', '33978023_5380.jpg', '40051451_2692.jpg', '45911282_405.jpg', '29937870_7363.jpg', '36107465_4394.jpg', '33737695_5515.jpg', '34150261_5295.jpg', '31237384_6663.jpg', '41483909_2256.jpg', '30780251_6949.jpg', '31294975_6624.jpg', '31390045_6580.jpg', '31797231_6384.jpg', '35436260_4715.jpg', '44613377_1050.jpg', '44300308_1151.jpg', '36476564_4213.jpg', '46354316_39470.jpg', '34374067_5180.jpg', '35819836_4541.jpg', '32987887_5878.jpg', '44743628_1013.jpg', '33082309_5826.jpg', '43103519_1615.jpg', '39981900_2723.jpg', '32519106_6109.jpg', '33214811_5766.jpg', '45604330_542.jpg', '42279032_1938.jpg', '34072669_5332.jpg', '39985049_2719.jpg', '43986390_1247.jpg', '38414500_3413.jpg', '43473011_1445.jpg', '35625086_4631.jpg', '42879096_1732.jpg', '36072467_4416.jpg', '39966094_2735.jpg', '40077266_2677.jpg', '35682584_4605.jpg', '33787476_5477.jpg', '36050939_4426.jpg', '34334523_5202.jpg', '44035818_1234.jpg', '30111194_7282.jpg', '39214344_3076.jpg', '43763068_1331.jpg', '32731148_5989.jpg', '42504303_1855.jpg', '35201610_4827.jpg', '38700711_3294.jpg', '39148578_3105.jpg', '43656554_1367.jpg', '44032240_1235.jpg', '34299325_5219.jpg', '36932545_3990.jpg', '46620893_9054.jpg', '40689160_2530.jpg', '31343414_6600.jpg', '43626242_1377.jpg', '30296833_7195.jpg', '38084488_3524.jpg', '37597233_3698.jpg', '45072222_860.jpg', '32913899_5913.jpg', '34511159_5124.jpg', '33357823_5704.jpg', '35965952_4471.jpg', '46283269_45793.jpg', '34181619_5279.jpg', '33688821_5547.jpg', '42394951_1892.jpg', '33360499_5699.jpg', '37188641_3881.jpg', '44478348_1099.jpg', '40108904_2670.jpg', '29792352_7433.jpg', '41737639_2158.jpg', '43736715_1340.jpg', '45524676_579.jpg', '40736209_2510.jpg', '45580415_550.jpg', '33705077_5538.jpg', '43556315_1412.jpg', '45952558_379.jpg', '33916167_5413.jpg', '44487118_1098.jpg', '30465347_7127.jpg', '35001581_4916.jpg', '31710859_6426.jpg', '30767576_6958.jpg', '30286287_7204.jpg', '44961474_912.jpg', '44340001_1140.jpg', '42275141_1939.jpg', '39562850_2927.jpg', '33749749_5505.jpg', '32098645_6281.jpg', '29752277_7456.jpg', '39013357_3143.jpg', '46575154_15510.jpg', '46639625_6081.jpg', '42902051_1720.jpg', '32103110_6276.jpg', '45210351_783.jpg', '45336549_675.jpg', '38990891_3159.jpg', '30822933_6926.jpg', '31256361_6651.jpg', '35835510_4535.jpg', '38118361_3510.jpg', '43647585_1370.jpg', '39246706_3053.jpg', '34407546_5166.jpg', '44504537_1096.jpg', '44008760_1240.jpg', '46478162_26988.jpg', '39958940_2740.jpg', '43408910_1484.jpg', '34642568_5057.jpg', '32653184_6038.jpg', '40666029_2543.jpg', '40133739_2663.jpg', '37197889_3877.jpg', '34113746_5306.jpg', '45228675_775.jpg', '39930392_2760.jpg', '45670757_515.jpg', '39941435_2747.jpg', '33225476_5763.jpg', '36377405_4260.jpg', '32974501_5888.jpg', '36365795_4264.jpg', '37557496_3710.jpg', '31332406_6606.jpg', '30631312_7026.jpg', '35160417_4850.jpg', '29799658_7429.jpg', '31080569_6750.jpg', '35085862_4879.jpg', '33684559_5551.jpg', '40790167_2494.jpg', '30170028_7264.jpg', '30994264_6802.jpg', '30503559_7110.jpg', '32532843_6103.jpg', '33247285_5750.jpg', '45692017_496.jpg', '43569429_1406.jpg', '34565029_5100.jpg', '33401922_5673.jpg', '29656403_7499.jpg', '31677186_6438.jpg', '34303802_5216.jpg', '32802675_5955.jpg', '35750377_4573.jpg', '44672598_1037.jpg', '37518869_3728.jpg', '45298995_702.jpg', '38722327_3281.jpg', '40086623_2674.jpg', '38790786_3257.jpg', '29714378_7480.jpg', '42726815_1781.jpg', '38405274_3417.jpg', '30921239_6856.jpg', '39267407_3031.jpg', '37431903_3771.jpg', '36106324_4396.jpg', '39683827_2880.jpg', '45103261_847.jpg', '36703143_4099.jpg', '41174267_2361.jpg', '34086321_5325.jpg', '36098018_4404.jpg', '31973695_6314.jpg', '39743615_2841.jpg', '46587270_13894.jpg', '30411610_7153.jpg', '34461931_5141.jpg', '33549846_5610.jpg', '44516922_1090.jpg', '33283476_5734.jpg', '41862180_2095.jpg', '38829177_3233.jpg', '37098685_3925.jpg', '36965231_3981.jpg', '38704017_3293.jpg', '34700327_5036.jpg', '33360807_5697.jpg', '29870033_7400.jpg', '32663407_6031.jpg', '32371277_6169.jpg', '38842765_3228.jpg', '42106134_1997.jpg', '43890905_1282.jpg', '33072343_5834.jpg', '41842521_2102.jpg', '37087080_3930.jpg', '40577619_2576.jpg', '43631835_1376.jpg', '45701272_493.jpg', '44388092_1119.jpg', '38829161_3234.jpg', '31173110_6698.jpg', '30666996_7007.jpg', '32208377_6229.jpg', '40621265_2555.jpg', '36083382_4408.jpg', '33770025_5491.jpg', '44764604_1007.jpg', '42801510_1761.jpg', '37367255_3793.jpg', '31160641_6705.jpg', '30039861_7310.jpg', '31162695_6704.jpg', '33376172_5687.jpg', '43752781_1335.jpg', '39341746_3012.jpg', '32584277_6081.jpg', '32516400_6112.jpg', '42322849_1921.jpg', '31670437_6441.jpg', '30760847_6962.jpg', '39705217_2864.jpg', '41204355_2350.jpg', '41483243_2257.jpg', '36780050_4055.jpg', '46363586_38458.jpg', '38579531_3342.jpg', '42748134_1776.jpg', '39529567_2936.jpg', '36899280_4006.jpg', '46061145_336.jpg', '46122642_301.jpg', '32620998_6067.jpg', '31224280_6672.jpg', '38344423_3433.jpg', '30003760_7323.jpg', '37085627_3931.jpg', '31579162_6483.jpg', '35606262_4642.jpg', '29734460_7464.jpg', '44607864_1051.jpg', '36832251_4034.jpg', '36539925_4182.jpg', '41741075_2156.jpg', '33578490_5587.jpg', '31648216_6451.jpg', '30857439_6904.jpg', '32082012_6283.jpg', '43899933_1279.jpg', '45944584_386.jpg', '38569125_3354.jpg', '43625147_1379.jpg', '38437668_3405.jpg', '38192647_3471.jpg', '34896880_4947.jpg', '34482250_5136.jpg', '41540479_2231.jpg', '30327194_7179.jpg', '41619392_2208.jpg', '33348876_5709.jpg', '40882866_2454.jpg', '31593896_6477.jpg', '31997935_6307.jpg', '38809423_3239.jpg', '42671427_1803.jpg', '38479581_3391.jpg', '43788205_1315.jpg', '30191786_7250.jpg', '32245437_6221.jpg', '30413504_7150.jpg', '29714888_7479.jpg', '36656899_4119.jpg', '33858135_5443.jpg', '29673089_7491.jpg', '34569365_5095.jpg', '41325962_2310.jpg', '31628155_6460.jpg', '37488594_3746.jpg', '42812592_1755.jpg', '40186891_2646.jpg', '42600476_1822.jpg', '34725500_5019.jpg', '43468845_1447.jpg', '31713882_6424.jpg', '31667605_6444.jpg', '41511252_2247.jpg', '40189676_2643.jpg', '32949645_5898.jpg', '34979205_4922.jpg', '45609303_540.jpg', '32476359_6126.jpg', '41204468_2349.jpg', '37669257_3674.jpg', '40186792_2645.jpg', '38611864_3325.jpg', '34354463_5193.jpg', '43561131_1409.jpg', '33627234_5571.jpg', '38399523_3421.jpg', '43811604_1311.jpg', '42623578_1819.jpg', '46018552_352.jpg', '31853108_6360.jpg', '46147235_57258.jpg', '33078260_5829.jpg', '36781819_4053.jpg', '45869187_421.jpg', '32534130_6102.jpg', '32434014_6140.jpg', '38154289_3493.jpg', '45864564_425.jpg', '34634720_5061.jpg', '30983977_6807.jpg', '31320460_6613.jpg', '45221178_779.jpg', '33488480_5636.jpg', '41203988_2351.jpg', '38856603_3221.jpg', '44556828_1072.jpg', '31952692_6327.jpg', '36202926_4333.jpg', '31394685_6575.jpg', '31169459_6701.jpg', '34036857_5360.jpg', '32193871_6236.jpg', '39293503_3024.jpg', '45328155_677.jpg', '36352064_4267.jpg', '33686440_5548.jpg', '35152898_4854.jpg', '39732908_2846.jpg', '37065911_3939.jpg', '37896931_3592.jpg', '44527195_1085.jpg', '46267595_47129.jpg', '31205298_6682.jpg', '31756283_6405.jpg', '46497553_24857.jpg', '43167846_1593.jpg', '43165239_1594.jpg', '31578110_6484.jpg', '43038259_1644.jpg', '33052528_5844.jpg', '31091741_6743.jpg', '39533944_2932.jpg', '30950859_6834.jpg', '32712352_6009.jpg', '44888881_946.jpg', '38694519_3296.jpg', '30417826_7146.jpg', '45023893_879.jpg', '43659792_1366.jpg', '42715743_1788.jpg', '37008441_3956.jpg', '34232383_5257.jpg', '45382582_645.jpg', '32730519_5991.jpg', '31122813_6726.jpg', '31728255_6417.jpg', '36858047_4018.jpg', '32034553_6300.jpg', '39383618_2995.jpg', '34126834_5300.jpg', '41574844_2221.jpg', '33851711_5449.jpg', '46515239_22753.jpg', '36622210_4144.jpg', '30994876_6801.jpg', '29694018_7484.jpg', '42909809_1715.jpg', '35522390_4682.jpg', '40793691_2492.jpg', '45944435_388.jpg', '36851818_4020.jpg', '33898053_5427.jpg', '33786679_5478.jpg', '38574701_3350.jpg', '35972422_4466.jpg', '44129575_1200.jpg', '33015019_5867.jpg', '40769026_2501.jpg', '34170610_5285.jpg', '38852325_3222.jpg', '31547507_6501.jpg', '36714990_4090.jpg', '31793964_6387.jpg', '34700543_5035.jpg', '45840772_433.jpg', '45719915_484.jpg', '45299399_696.jpg', '38280154_3440.jpg', '31848051_6362.jpg', '36370375_4263.jpg', '34390984_5171.jpg', '30037793_7314.jpg', '34817838_4983.jpg', '43144026_1600.jpg', '34729222_5016.jpg', '32599865_6077.jpg', '37961344_3582.jpg', '37700263_3664.jpg', '44594642_1058.jpg', '35704005_4586.jpg', '41351332_2303.jpg', '33189409_5775.jpg', '39973635_2729.jpg', '38432560_3407.jpg', '34623516_5070.jpg', '43419614_1473.jpg', '33075622_5831.jpg', '30848258_6907.jpg', '40573988_2580.jpg', '43222596_1560.jpg', '31507871_6527.jpg', '46617316_9656.jpg', '29982371_7336.jpg', '33484192_5638.jpg', '41594120_2213.jpg', '44809796_983.jpg', '45164704_804.jpg', '45415032_616.jpg', '45080672_851.jpg', '31192181_6692.jpg', '36901914_4004.jpg', '33002222_5873.jpg', '29656536_7497.jpg', '43998942_1243.jpg', '35175036_4837.jpg', '31288990_6629.jpg', '33589677_5582.jpg', '43962353_1258.jpg', '37775389_3639.jpg', '39713921_2859.jpg', '45588088_547.jpg', '33534113_5613.jpg', '43169394_1590.jpg', '43368343_1504.jpg', '34713238_5032.jpg', '37675645_3671.jpg', '37231570_3864.jpg', '43449121_1459.jpg', '31022877_6779.jpg', '35700886_4589.jpg', '34124455_5302.jpg', '32299830_6197.jpg', '38493612_3383.jpg', '35994525_4456.jpg', '34944600_4937.jpg', '39456534_2972.jpg', '45126134_832.jpg', '35350835_4759.jpg', '35676225_4609.jpg', '31290027_6626.jpg', '30561181_7075.jpg', '30602175_7049.jpg', '46749434_0.jpg', '45106412_843.jpg', '30415498_7148.jpg', '30727346_6975.jpg', '38102868_3517.jpg', '38509073_3372.jpg', '31555352_6496.jpg', '31812279_6378.jpg', '32874484_5930.jpg', '38809872_3238.jpg', '41058381_2406.jpg', '41100100_2388.jpg', '39859380_2783.jpg', '37498267_3742.jpg', '31866284_6356.jpg', '32900541_5919.jpg', '35632452_4624.jpg', '36520258_4191.jpg', '37766969_3642.jpg', '39646409_2895.jpg', '39852179_2784.jpg', '30815205_6935.jpg', '37218177_3866.jpg', '42831170_1747.jpg', '29692870_7485.jpg', '38874066_3213.jpg', '32265177_6211.jpg', '38405244_3418.jpg', '33633138_5566.jpg', '45621456_533.jpg', '31137757_6715.jpg', '36746796_4067.jpg', '34503554_5130.jpg', '46214587_51654.jpg', '32189476_6238.jpg', '41046420_2412.jpg', '33773504_5489.jpg', '44429035_1108.jpg', '35129312_4861.jpg', '46733474_6.jpg', '36559559_4176.jpg', '38969332_3164.jpg', '31039373_6764.jpg', '42715222_1790.jpg', '36655496_4121.jpg', '38168097_3484.jpg', '41973865_2050.jpg', '36510856_4197.jpg', '33849470_5451.jpg', '46045584_347.jpg', '39794210_2816.jpg', '40053643_2686.jpg', '30296609_7196.jpg', '37416192_3778.jpg', '33883968_5431.jpg', '37342211_3804.jpg', '39394297_2992.jpg', '42471329_1867.jpg', '35920264_4494.jpg', '45317576_681.jpg', '42823518_1752.jpg', '40821026_2481.jpg', '39229852_3066.jpg', '30748781_6969.jpg', '38018184_3556.jpg', '33680327_5554.jpg', '32551827_6097.jpg', '45773938_457.jpg', '38078170_3529.jpg', '34438358_5150.jpg', '36051019_4425.jpg', '40008409_2709.jpg', '39941378_2749.jpg', '37670529_3673.jpg', '31666005_6445.jpg', '42914226_1705.jpg', '43783114_1320.jpg', '32959436_5895.jpg', '39262163_3040.jpg', '33013838_5868.jpg', '39207418_3079.jpg', '32164960_6251.jpg', '43265175_1545.jpg', '32498346_6120.jpg', '31256367_6650.jpg', '33159889_5784.jpg', '43312865_1522.jpg', '39933266_2755.jpg', '44636398_1042.jpg', '44951846_916.jpg', '31113067_6729.jpg', '32512817_6114.jpg', '42333619_1914.jpg', '31100602_6736.jpg', '43379035_1498.jpg', '36734332_4076.jpg', '34098884_5320.jpg', '44429627_1107.jpg', '45355644_660.jpg', '42867821_1734.jpg', '44196558_1182.jpg', '35509744_4689.jpg', '35463593_4707.jpg', '31449944_6553.jpg', '42115957_1994.jpg', '33357844_5703.jpg', '41102560_2384.jpg', '36658741_4117.jpg', '36975857_3975.jpg', '33188599_5776.jpg', '31386093_6583.jpg', '33928312_5406.jpg', '30251153_7221.jpg', '34807486_4992.jpg', '45310199_686.jpg', '46342573_40530.jpg', '35070049_4885.jpg', '39939870_2751.jpg', '30451219_7136.jpg', '44887517_947.jpg', '36175162_4355.jpg', '34945737_4936.jpg', '32395462_6162.jpg', '35546285_4674.jpg', '40899722_2444.jpg', '37167722_3889.jpg', '32935501_5908.jpg', '30817013_6933.jpg', '35921295_4493.jpg', '35259501_4794.jpg', '46618203_9576.jpg', '45287670_730.jpg', '32167224_6250.jpg', '44882531_953.jpg', '39788428_2818.jpg', '35967795_4470.jpg', '36321419_4283.jpg', '43027900_1651.jpg', '35926171_4489.jpg', '31596091_6476.jpg', '42666402_1804.jpg', '30650153_7016.jpg', '45917964_403.jpg', '35570561_4659.jpg', '37064180_3941.jpg', '39421446_2981.jpg', '40096056_2671.jpg', '30910981_6866.jpg', '42322857_1920.jpg', '36901006_4005.jpg', '29792297_7434.jpg', '33314906_5724.jpg', '38501193_3375.jpg', '29957972_7350.jpg', '30297868_7194.jpg', '35996322_4452.jpg', '31941326_6328.jpg', '46659819_2494.jpg', '38033836_3550.jpg', '33971336_5387.jpg', '39656320_2893.jpg', '43812912_1310.jpg', '35376596_4751.jpg', '44512100_1093.jpg', '43437240_1465.jpg', '43450268_1458.jpg', '43603399_1387.jpg', '37762294_3644.jpg']\n",
      "/content/cats/images/Silver ['44780505_80.jpg', '29717194_553.jpg', '30709163_522.jpg', '29085369_584.jpg', '35238750_345.jpg', '38543378_248.jpg', '32186184_457.jpg', '31530075_483.jpg', '28481494_597.jpg', '29783791_550.jpg', '31902161_477.jpg', '35238746_346.jpg', '16717558_1140.jpg', '15855642_1197.jpg', '44526585_89.jpg', '32232608_454.jpg', '27746465_626.jpg', '14983093_1258.jpg', '45828301_42.jpg', '32090200_463.jpg', '42253474_151.jpg', '46624479_8494.jpg', '39011239_233.jpg', '46297249_44466.jpg', '44691372_81.jpg', '29358039_562.jpg', '30485554_532.jpg', '36551282_303.jpg', '24452614_769.jpg', '35238743_347.jpg', '39851647_209.jpg', '24931029_744.jpg', '35572800_333.jpg', '18450808_1032.jpg', '29720856_552.jpg', '23873508_792.jpg', '32595537_441.jpg', '39987009_207.jpg', '28617989_595.jpg', '21266147_895.jpg', '30650854_525.jpg', '27719979_628.jpg', '43799843_103.jpg', '44967026_73.jpg', '44780532_79.jpg', '15956419_1190.jpg', '18538927_1024.jpg', '45295285_60.jpg', '17880460_1064.jpg', '18944126_1001.jpg', '36579387_302.jpg', '21983391_868.jpg', '29562512_557.jpg', '18456291_1031.jpg', '20072753_952.jpg', '39851621_210.jpg', '29255876_571.jpg', '24978070_741.jpg', '24678912_757.jpg', '21006582_909.jpg', '31045131_506.jpg', '37332505_282.jpg', '37116192_288.jpg', '44544771_87.jpg', '31105961_502.jpg', '44966260_74.jpg', '23833937_794.jpg', '19504500_984.jpg', '29557471_558.jpg', '25731171_709.jpg', '39512227_219.jpg', '23662786_800.jpg', '18538907_1025.jpg', '45145872_65.jpg', '22958302_843.jpg', '15800259_1202.jpg', '36308139_314.jpg', '35398472_342.jpg', '18220118_1044.jpg', '27409720_642.jpg', '28025430_609.jpg', '44328398_94.jpg', '23760748_798.jpg', '18683771_1015.jpg', '46473842_27320.jpg', '35347139_343.jpg', '23093563_834.jpg', '18262354_1043.jpg', '23073344_837.jpg', '29619075_556.jpg', '45662876_49.jpg', '44339097_92.jpg', '25299834_732.jpg', '19757992_971.jpg']\n",
      "/content/cats/images/Chausie ['24082289_69.jpg', '26480044_59.jpg', '43743958_13.jpg', '43762971_12.jpg', '44572808_6.jpg', '27737025_51.jpg', '44501565_8.jpg', '20627267_82.jpg', '33788626_27.jpg', '24086223_67.jpg', '23610360_71.jpg', '36086816_22.jpg', '25379707_65.jpg', '45987606_2.jpg', '23439582_72.jpg', '44204439_10.jpg', '38178188_19.jpg', '20387499_83.jpg', '21341284_78.jpg', '44129077_11.jpg', '28266854_49.jpg', '44204456_9.jpg', '23954233_70.jpg', '22845478_73.jpg']\n"
     ]
    }
   ],
   "source": [
    "for i, (r, d, f) in enumerate(os.walk(os.path.join(home_dir, 'cats/images'))):\n",
    "  print(r, f)\n",
    "  if i == 5:\n",
    "    break"
   ]
  },
  {
   "cell_type": "code",
   "execution_count": 0,
   "metadata": {
    "colab": {
     "base_uri": "https://localhost:8080/",
     "height": 1000
    },
    "colab_type": "code",
    "id": "-PW5hNyfLdl3",
    "outputId": "46ca70e0-aeaf-40bc-eb9f-3db7f02cd77f"
   },
   "outputs": [
    {
     "name": "stdout",
     "output_type": "stream",
     "text": [
      "Copying 167 images into Sphynx - Hairless Cat's' train folder...\n",
      "Copying 42 images into Sphynx - Hairless Cat's' test folder...\n",
      "Copying 1804 images into Tiger's' train folder...\n",
      "Copying 452 images into Tiger's' test folder...\n",
      "Copying 2521 images into Dilute Tortoiseshell's' train folder...\n",
      "Copying 631 images into Dilute Tortoiseshell's' test folder...\n",
      "SKIPPING Silver\n",
      "SKIPPING Chausie\n",
      "SKIPPING Somali\n",
      "SKIPPING Canadian Hairless\n",
      "Copying 464 images into Norwegian Forest Cat's' train folder...\n",
      "Copying 116 images into Norwegian Forest Cat's' test folder...\n",
      "SKIPPING Selkirk Rex\n",
      "Copying 119 images into American Curl's' train folder...\n",
      "Copying 30 images into American Curl's' test folder...\n",
      "Copying 108 images into Applehead Siamese's' train folder...\n",
      "Copying 27 images into Applehead Siamese's' test folder...\n",
      "SKIPPING Javanese\n",
      "SKIPPING Chartreux\n",
      "Copying 203 images into Balinese's' train folder...\n",
      "Copying 51 images into Balinese's' test folder...\n",
      "SKIPPING LaPerm\n",
      "Copying 1040 images into Himalayan's' train folder...\n",
      "Copying 261 images into Himalayan's' test folder...\n",
      "Copying 304 images into Scottish Fold's' train folder...\n",
      "Copying 76 images into Scottish Fold's' test folder...\n",
      "SKIPPING Singapura\n",
      "Copying 1300 images into Snowshoe's' train folder...\n",
      "Copying 325 images into Snowshoe's' test folder...\n",
      "SKIPPING Oriental Tabby\n",
      "Copying 2135 images into Ragdoll's' train folder...\n",
      "Copying 534 images into Ragdoll's' test folder...\n",
      "Copying 2544 images into Tuxedo's' train folder...\n",
      "Copying 637 images into Tuxedo's' test folder...\n",
      "SKIPPING Cymric\n",
      "Copying 151 images into Siberian's' train folder...\n",
      "Copying 38 images into Siberian's' test folder...\n",
      "Copying 1647 images into Manx's' train folder...\n",
      "Copying 412 images into Manx's' test folder...\n",
      "Copying 600 images into Turkish Angora's' train folder...\n",
      "Copying 150 images into Turkish Angora's' test folder...\n",
      "Copying 652 images into Turkish Van's' train folder...\n",
      "Copying 163 images into Turkish Van's' test folder...\n",
      "SKIPPING Korat\n",
      "Copying 453 images into British Shorthair's' train folder...\n",
      "Copying 114 images into British Shorthair's' test folder...\n",
      "Copying 3599 images into Domestic Long Hair's' train folder...\n",
      "Copying 900 images into Domestic Long Hair's' test folder...\n",
      "SKIPPING York Chocolate\n",
      "Copying 1468 images into Bombay's' train folder...\n",
      "Copying 367 images into Bombay's' test folder...\n",
      "Copying 147 images into Havana's' train folder...\n",
      "Copying 37 images into Havana's' test folder...\n",
      "Copying 3214 images into Persian's' train folder...\n",
      "Copying 804 images into Persian's' test folder...\n",
      "Copying 42421 images into Domestic Short Hair's' train folder...\n",
      "Copying 10606 images into Domestic Short Hair's' test folder...\n",
      "Copying 181 images into Birman's' train folder...\n",
      "Copying 46 images into Birman's' test folder...\n",
      "Copying 136 images into Cornish Rex's' train folder...\n",
      "Copying 35 images into Cornish Rex's' test folder...\n",
      "Copying 1134 images into Maine Coon's' train folder...\n",
      "Copying 284 images into Maine Coon's' test folder...\n",
      "Copying 101 images into Japanese Bobtail's' train folder...\n",
      "Copying 26 images into Japanese Bobtail's' test folder...\n",
      "Copying 2310 images into Siamese's' train folder...\n",
      "Copying 578 images into Siamese's' test folder...\n",
      "SKIPPING Burmilla\n",
      "Copying 144 images into Munchkin's' train folder...\n",
      "Copying 37 images into Munchkin's' test folder...\n",
      "Copying 118 images into Nebelung's' train folder...\n",
      "Copying 30 images into Nebelung's' test folder...\n",
      "Copying 204 images into Abyssinian's' train folder...\n",
      "Copying 51 images into Abyssinian's' test folder...\n",
      "SKIPPING Chinchilla\n",
      "Copying 3170 images into Tortoiseshell's' train folder...\n",
      "Copying 793 images into Tortoiseshell's' test folder...\n",
      "Copying 376 images into Exotic Shorthair's' train folder...\n",
      "Copying 95 images into Exotic Shorthair's' test folder...\n",
      "Copying 107 images into Ragamuffin's' train folder...\n",
      "Copying 27 images into Ragamuffin's' test folder...\n",
      "Copying 2584 images into Dilute Calico's' train folder...\n",
      "Copying 646 images into Dilute Calico's' test folder...\n",
      "Copying 275 images into Burmese's' train folder...\n",
      "Copying 69 images into Burmese's' test folder...\n",
      "Copying 947 images into Extra-Toes Cat - Hemingway Polydactyl's' train folder...\n",
      "Copying 237 images into Extra-Toes Cat - Hemingway Polydactyl's' test folder...\n",
      "Copying 2774 images into Calico's' train folder...\n",
      "Copying 694 images into Calico's' test folder...\n",
      "SKIPPING American Wirehair\n",
      "Copying 2716 images into Torbie's' train folder...\n",
      "Copying 680 images into Torbie's' test folder...\n",
      "Copying 2409 images into Tabby's' train folder...\n",
      "Copying 603 images into Tabby's' test folder...\n",
      "Copying 1981 images into Bengal's' train folder...\n",
      "Copying 496 images into Bengal's' test folder...\n",
      "Copying 4385 images into Domestic Medium Hair's' train folder...\n",
      "Copying 1097 images into Domestic Medium Hair's' test folder...\n",
      "SKIPPING Devon Rex\n",
      "Copying 208 images into Tonkinese's' train folder...\n",
      "Copying 52 images into Tonkinese's' test folder...\n",
      "SKIPPING Pixiebob\n",
      "Copying 392 images into Oriental Short Hair's' train folder...\n",
      "Copying 99 images into Oriental Short Hair's' test folder...\n",
      "Copying 792 images into American Bobtail's' train folder...\n",
      "Copying 199 images into American Bobtail's' test folder...\n",
      "Copying 1496 images into Russian Blue's' train folder...\n",
      "Copying 374 images into Russian Blue's' test folder...\n",
      "Copying 4236 images into American Shorthair's' train folder...\n",
      "Copying 1059 images into American Shorthair's' test folder...\n",
      "SKIPPING Oriental Long Hair\n",
      "Copying 244 images into Egyptian Mau's' train folder...\n",
      "Copying 61 images into Egyptian Mau's' test folder...\n",
      "SKIPPING Ocicat\n",
      "Not training on: ['Silver', 'Chausie', 'Somali', 'Canadian Hairless', 'Selkirk Rex', 'Javanese', 'Chartreux', 'LaPerm', 'Singapura', 'Oriental Tabby', 'Cymric', 'Korat', 'York Chocolate', 'Burmilla', 'Chinchilla', 'American Wirehair', 'Devon Rex', 'Pixiebob', 'Oriental Long Hair', 'Ocicat']\n"
     ]
    }
   ],
   "source": [
    "sparse_breeds_list = []\n",
    "\n",
    "for i, (r, d, f) in enumerate(os.walk(os.path.join(home_dir, 'cats/images'))):\n",
    "  label = r.split('/')[-1]\n",
    "\n",
    "  if i == 0:\n",
    "    continue\n",
    "\n",
    "  filenames = f\n",
    "  # shuffle filenames\n",
    "  np.random.shuffle(filenames)\n",
    "  # split files in current folder into train and test sets, in 80:20 ratio\n",
    "  train_file_length = int(len(filenames)*0.8)\n",
    "  \n",
    "  # remove sparse breeds to minimize chances of overfitting\n",
    "  if train_file_length < 100:\n",
    "    print(f\"SKIPPING {label}\")\n",
    "    sparse_breeds_list.append(label)\n",
    "    continue\n",
    "\n",
    "  filenames_array = np.array(filenames)\n",
    "  train_files= filenames_array[:train_file_length]\n",
    "  test_files= filenames_array[train_file_length:]\n",
    "\n",
    "  # get the full path of each image in the train and test splits\n",
    "  train_filename_list = []\n",
    "  test_filename_list = []\n",
    "  for filename in train_files:\n",
    "    train_filename_list.append(os.path.join(home_dir, f'cats/images/{label}/{filename}'))\n",
    "  for filename in test_files:\n",
    "    test_filename_list.append(os.path.join(home_dir, f'cats/images/{label}/{filename}'))\n",
    "\n",
    "  # copy into data folder\n",
    "  print(f\"Copying {len(train_filename_list)} images into {label}'s' train folder...\")\n",
    "  for name in train_filename_list:\n",
    "    shutil.copy(name, os.path.join(home_dir, f'cats_data/train/{label}'))\n",
    "\n",
    "  print(f\"Copying {len(test_filename_list)} images into {label}'s' test folder...\")\n",
    "  for name in test_filename_list:\n",
    "    shutil.copy(name, os.path.join(home_dir, f'cats_data/test/{label}'))\n",
    "\n",
    "print(f'Not training on: {sparse_breeds_list}')"
   ]
  },
  {
   "cell_type": "code",
   "execution_count": 0,
   "metadata": {
    "colab": {},
    "colab_type": "code",
    "id": "n1HZiAwk9ICo"
   },
   "outputs": [],
   "source": [
    "for breed in sparse_breeds_list:\n",
    "    shutil.rmtree(os.path.join(home_dir, f'cats_data/train/{breed}'))\n",
    "    shutil.rmtree(os.path.join(home_dir, f'cats_data/test/{breed}'))"
   ]
  },
  {
   "cell_type": "code",
   "execution_count": 0,
   "metadata": {
    "colab": {},
    "colab_type": "code",
    "id": "jvXfTcQXm-Ce"
   },
   "outputs": [],
   "source": [
    "# remove original 'cats' folder once complete\n",
    "# shutil.rmtree(os.path.join(home_dir, 'cats))"
   ]
  },
  {
   "cell_type": "code",
   "execution_count": 0,
   "metadata": {
    "colab": {
     "base_uri": "https://localhost:8080/",
     "height": 51
    },
    "colab_type": "code",
    "id": "rFrxsM0ZzjTU",
    "outputId": "8ad00dc3-b5ac-41ba-9427-ea4920f75ef9"
   },
   "outputs": [
    {
     "name": "stdout",
     "output_type": "stream",
     "text": [
      "Total number of train images: 100481\n",
      "Total number of test images: 25141\n"
     ]
    }
   ],
   "source": [
    "# Print totals\n",
    "num_train_images = sum(len(f) for r, d, f in os.walk(os.path.join(home_dir, 'cats_data/train')))\n",
    "num_test_images = sum(len(f) for r, d, f in os.walk(os.path.join(home_dir, 'cats_data/test')))\n",
    "\n",
    "print(f\"Total number of train images: {num_train_images}\")\n",
    "print(f\"Total number of test images: {num_test_images}\")"
   ]
  },
  {
   "cell_type": "markdown",
   "metadata": {
    "colab_type": "text",
    "id": "82HiRAU2vzW8"
   },
   "source": [
    "## Transforming the Data\n",
    "\n",
    "When we perform transfer learning, we have to **shape our input data into the shape that the pre-trained model expects**. \n",
    "\n",
    "VGG16 expects **224-dim** square images as input so we resize each cat image to fit these dimensions.\n",
    "\n",
    "We also perform **image augmentation** here to improve model accuracy: *Rotate, shear, horizontal flip, normalization*.\n",
    "\n",
    "Next, point to the data and labels using the **ImageFolder** class, for the training and test folders."
   ]
  },
  {
   "cell_type": "code",
   "execution_count": 0,
   "metadata": {
    "colab": {
     "base_uri": "https://localhost:8080/",
     "height": 51
    },
    "colab_type": "code",
    "id": "DykwF8i6vxx2",
    "outputId": "3767043d-dcc2-4d5e-cfae-ffcf9a042b63"
   },
   "outputs": [
    {
     "name": "stdout",
     "output_type": "stream",
     "text": [
      "Num training images:  100481\n",
      "Num test images:  25141\n"
     ]
    }
   ],
   "source": [
    "# load and transform data using ImageFolder\n",
    "\n",
    "train_dir = os.path.join(home_dir, 'cats_data/train')\n",
    "test_dir = os.path.join(home_dir, 'cats_data/test')\n",
    "\n",
    "# create data transformer to resize the images, and add the same time add image augmentations\n",
    "# Rotate, shear, horizontal flip\n",
    "data_transform = transforms.Compose([transforms.RandomResizedCrop(224),\n",
    "                                      transforms.RandomHorizontalFlip(),\n",
    "                                      transforms.RandomRotation(20),\n",
    "                                      #transforms.RandomAffine(degrees=10, fillcolor=100),\n",
    "                                      transforms.ToTensor(),\n",
    "                                      transforms.Normalize((0.5, 0.5, 0.5), (0.5, 0.5, 0.5))\n",
    "                                      ])\n",
    "\n",
    "# The ImageFolder class should point to the folder containing the sub-folders that represent each class\n",
    "train_data = datasets.ImageFolder(train_dir, transform=data_transform)\n",
    "test_data = datasets.ImageFolder(test_dir, transform=data_transform)\n",
    "\n",
    "print('Num training images: ', len(train_data))\n",
    "print('Num test images: ', len(test_data))"
   ]
  },
  {
   "cell_type": "markdown",
   "metadata": {
    "colab_type": "text",
    "id": "133UaaWO1Bu-"
   },
   "source": [
    "# Create DataLoaders and Visualize the Data"
   ]
  },
  {
   "cell_type": "code",
   "execution_count": 0,
   "metadata": {
    "colab": {},
    "colab_type": "code",
    "id": "dUOASM0f_579"
   },
   "outputs": [],
   "source": [
    "# for handling imbalanced classes\n",
    "def make_weights_for_balanced_classes(images, nclasses):                        \n",
    "    count = [0] * nclasses                                                      \n",
    "    for item in images:                                                         \n",
    "        count[item[1]] += 1                                                     \n",
    "    weight_per_class = [0.] * nclasses                                      \n",
    "    N = float(sum(count))                                                   \n",
    "    for i in range(nclasses):                                                   \n",
    "        weight_per_class[i] = N/float(count[i])                                 \n",
    "    weight = [0] * len(images)                                              \n",
    "    for idx, val in enumerate(images):                                          \n",
    "        weight[idx] = weight_per_class[val[1]]                                  \n",
    "    return weight                       \n",
    "\n",
    "weights = make_weights_for_balanced_classes(train_data.imgs, len(train_data.classes))                                                                \n",
    "weights = torch.DoubleTensor(weights)                                       \n",
    "sampler = torch.utils.data.sampler.WeightedRandomSampler(weights, len(weights)) \n",
    "\n",
    "# define dataloader parameters\n",
    "batch_size=50\n",
    "num_workers=0\n",
    "\n",
    "# prepare data loaders\n",
    "train_loader = torch.utils.data.DataLoader(train_data, \n",
    "                                            sampler=sampler,\n",
    "                                            batch_size=batch_size, \n",
    "                                            num_workers=num_workers)\n",
    "\n",
    "\n",
    "test_loader = torch.utils.data.DataLoader(test_data, \n",
    "                                          batch_size=batch_size,\n",
    "                                          num_workers=num_workers, shuffle=True)"
   ]
  },
  {
   "cell_type": "code",
   "execution_count": 0,
   "metadata": {
    "colab": {
     "base_uri": "https://localhost:8080/",
     "height": 1000
    },
    "colab_type": "code",
    "id": "efrHD5xy1ITJ",
    "outputId": "89491055-f8b7-4e26-9fb0-02f22d2b7fa6"
   },
   "outputs": [
    {
     "name": "stderr",
     "output_type": "stream",
     "text": [
      "Clipping input data to the valid range for imshow with RGB data ([0..1] for floats or [0..255] for integers).\n",
      "Clipping input data to the valid range for imshow with RGB data ([0..1] for floats or [0..255] for integers).\n",
      "Clipping input data to the valid range for imshow with RGB data ([0..1] for floats or [0..255] for integers).\n",
      "Clipping input data to the valid range for imshow with RGB data ([0..1] for floats or [0..255] for integers).\n",
      "Clipping input data to the valid range for imshow with RGB data ([0..1] for floats or [0..255] for integers).\n",
      "Clipping input data to the valid range for imshow with RGB data ([0..1] for floats or [0..255] for integers).\n",
      "Clipping input data to the valid range for imshow with RGB data ([0..1] for floats or [0..255] for integers).\n",
      "Clipping input data to the valid range for imshow with RGB data ([0..1] for floats or [0..255] for integers).\n",
      "Clipping input data to the valid range for imshow with RGB data ([0..1] for floats or [0..255] for integers).\n",
      "Clipping input data to the valid range for imshow with RGB data ([0..1] for floats or [0..255] for integers).\n",
      "Clipping input data to the valid range for imshow with RGB data ([0..1] for floats or [0..255] for integers).\n",
      "Clipping input data to the valid range for imshow with RGB data ([0..1] for floats or [0..255] for integers).\n",
      "Clipping input data to the valid range for imshow with RGB data ([0..1] for floats or [0..255] for integers).\n",
      "Clipping input data to the valid range for imshow with RGB data ([0..1] for floats or [0..255] for integers).\n",
      "Clipping input data to the valid range for imshow with RGB data ([0..1] for floats or [0..255] for integers).\n",
      "Clipping input data to the valid range for imshow with RGB data ([0..1] for floats or [0..255] for integers).\n",
      "Clipping input data to the valid range for imshow with RGB data ([0..1] for floats or [0..255] for integers).\n",
      "Clipping input data to the valid range for imshow with RGB data ([0..1] for floats or [0..255] for integers).\n",
      "Clipping input data to the valid range for imshow with RGB data ([0..1] for floats or [0..255] for integers).\n",
      "Clipping input data to the valid range for imshow with RGB data ([0..1] for floats or [0..255] for integers).\n",
      "Clipping input data to the valid range for imshow with RGB data ([0..1] for floats or [0..255] for integers).\n",
      "Clipping input data to the valid range for imshow with RGB data ([0..1] for floats or [0..255] for integers).\n",
      "Clipping input data to the valid range for imshow with RGB data ([0..1] for floats or [0..255] for integers).\n",
      "Clipping input data to the valid range for imshow with RGB data ([0..1] for floats or [0..255] for integers).\n",
      "Clipping input data to the valid range for imshow with RGB data ([0..1] for floats or [0..255] for integers).\n",
      "Clipping input data to the valid range for imshow with RGB data ([0..1] for floats or [0..255] for integers).\n",
      "Clipping input data to the valid range for imshow with RGB data ([0..1] for floats or [0..255] for integers).\n",
      "Clipping input data to the valid range for imshow with RGB data ([0..1] for floats or [0..255] for integers).\n",
      "Clipping input data to the valid range for imshow with RGB data ([0..1] for floats or [0..255] for integers).\n",
      "Clipping input data to the valid range for imshow with RGB data ([0..1] for floats or [0..255] for integers).\n",
      "Clipping input data to the valid range for imshow with RGB data ([0..1] for floats or [0..255] for integers).\n",
      "Clipping input data to the valid range for imshow with RGB data ([0..1] for floats or [0..255] for integers).\n",
      "Clipping input data to the valid range for imshow with RGB data ([0..1] for floats or [0..255] for integers).\n",
      "Clipping input data to the valid range for imshow with RGB data ([0..1] for floats or [0..255] for integers).\n",
      "Clipping input data to the valid range for imshow with RGB data ([0..1] for floats or [0..255] for integers).\n",
      "Clipping input data to the valid range for imshow with RGB data ([0..1] for floats or [0..255] for integers).\n",
      "Clipping input data to the valid range for imshow with RGB data ([0..1] for floats or [0..255] for integers).\n",
      "Clipping input data to the valid range for imshow with RGB data ([0..1] for floats or [0..255] for integers).\n",
      "Clipping input data to the valid range for imshow with RGB data ([0..1] for floats or [0..255] for integers).\n",
      "Clipping input data to the valid range for imshow with RGB data ([0..1] for floats or [0..255] for integers).\n",
      "Clipping input data to the valid range for imshow with RGB data ([0..1] for floats or [0..255] for integers).\n",
      "Clipping input data to the valid range for imshow with RGB data ([0..1] for floats or [0..255] for integers).\n",
      "Clipping input data to the valid range for imshow with RGB data ([0..1] for floats or [0..255] for integers).\n",
      "Clipping input data to the valid range for imshow with RGB data ([0..1] for floats or [0..255] for integers).\n",
      "Clipping input data to the valid range for imshow with RGB data ([0..1] for floats or [0..255] for integers).\n",
      "Clipping input data to the valid range for imshow with RGB data ([0..1] for floats or [0..255] for integers).\n",
      "Clipping input data to the valid range for imshow with RGB data ([0..1] for floats or [0..255] for integers).\n",
      "Clipping input data to the valid range for imshow with RGB data ([0..1] for floats or [0..255] for integers).\n",
      "Clipping input data to the valid range for imshow with RGB data ([0..1] for floats or [0..255] for integers).\n",
      "Clipping input data to the valid range for imshow with RGB data ([0..1] for floats or [0..255] for integers).\n"
     ]
    },
    {
     "data": {
      "image/png": "[encoded data removed]",
      "text/plain": [
       "<Figure size 1800x288 with 50 Axes>"
      ]
     },
     "metadata": {
      "tags": []
     },
     "output_type": "display_data"
    }
   ],
   "source": [
    "# Visualize some sample data\n",
    "\n",
    "dataiter = iter(train_loader)\n",
    "\n",
    "images, labels = dataiter.next()\n",
    "\n",
    "classes = cats_df['breed'].unique()\n",
    "\n",
    "images = images.numpy() # convert images to numpy for display\n",
    "\n",
    "# plot the images in the batch, along with the corresponding labels\n",
    "fig = plt.figure(figsize=(25, 4))\n",
    "for idx in np.arange(batch_size):\n",
    "  ax = fig.add_subplot(2, batch_size/2, idx+1, xticks=[], yticks=[])\n",
    "  plt.imshow(np.transpose(images[idx], (1, 2, 0)))\n",
    "  ax.set_title(classes[labels[idx]])"
   ]
  },
  {
   "cell_type": "markdown",
   "metadata": {
    "colab_type": "text",
    "id": "dbFmJcm95ccE"
   },
   "source": [
    "---\n",
    "## Define the Model\n",
    "\n",
    "This is a medium-sized dataset, and not seen by the original pre-trained model. There are 2 ways to go about this:\n",
    "\n",
    "### First method\n",
    "\n",
    "To define a model for training we'll follow these steps:\n",
    "1. Load in a pre-trained VGG16 model\n",
    "2. \"Freeze\" all the parameters, so the net acts as a fixed feature extractor\n",
    "3. Remove the last layer\n",
    "4. Replace the last layer with a linear classifier of our own\n",
    "\n",
    "**Freezing simply means that the parameters in the pre-trained model will *not* change during training.** This is so as to prevent overfitting on our medium-sized dataset. \n",
    "\n",
    "By removing only the last layer, we assume that the pre-trained model contains high-level features that can distinguish the different cat breeds.\n",
    "\n",
    "### Second method\n",
    "We assume that the pre-trained model does not contain high-level features that are enough to distinguish between different cat breeds. Hence, we remove all but the starting layers of the model, and add and train a linear (fully-connected) layer at the end. This is so that the new network will only use layers containing the lower-level features.\n",
    "\n",
    "We freeze the weights from the original network to avoid overfitting."
   ]
  },
  {
   "cell_type": "code",
   "execution_count": 0,
   "metadata": {
    "colab": {
     "base_uri": "https://localhost:8080/",
     "height": 848,
     "referenced_widgets": [
      "19848bb6991f440fab3fbe07dc69a6d0",
      "7682df970b8f4e3b8aa7dc0ab06c6862",
      "60a0e9d178d648fd8461871f1f5ee1a3",
      "c9ab0d2a340a4e9eb92ee0574d0eb0e3",
      "d7ebe07516f24c44a4ab0940ff77b489",
      "0c2dab1a20aa48e3a82378d850d6d93c",
      "1effbeba38024fd18719ff90c31e2747",
      "15f22d580cd34e289ddae119a5dea777"
     ]
    },
    "colab_type": "code",
    "id": "eY--kisGroZX",
    "outputId": "65d361fd-998b-4308-ba94-1742e5bf0376"
   },
   "outputs": [
    {
     "name": "stderr",
     "output_type": "stream",
     "text": [
      "Downloading: \"https://download.pytorch.org/models/vgg16-397923af.pth\" to /root/.cache/torch/checkpoints/vgg16-397923af.pth\n"
     ]
    },
    {
     "data": {
      "application/vnd.jupyter.widget-view+json": {
       "model_id": "19848bb6991f440fab3fbe07dc69a6d0",
       "version_major": 2,
       "version_minor": 0
      },
      "text/plain": [
       "HBox(children=(IntProgress(value=0, max=553433881), HTML(value='')))"
      ]
     },
     "metadata": {
      "tags": []
     },
     "output_type": "display_data"
    },
    {
     "name": "stdout",
     "output_type": "stream",
     "text": [
      "\n",
      "VGG(\n",
      "  (features): Sequential(\n",
      "    (0): Conv2d(3, 64, kernel_size=(3, 3), stride=(1, 1), padding=(1, 1))\n",
      "    (1): ReLU(inplace=True)\n",
      "    (2): Conv2d(64, 64, kernel_size=(3, 3), stride=(1, 1), padding=(1, 1))\n",
      "    (3): ReLU(inplace=True)\n",
      "    (4): MaxPool2d(kernel_size=2, stride=2, padding=0, dilation=1, ceil_mode=False)\n",
      "    (5): Conv2d(64, 128, kernel_size=(3, 3), stride=(1, 1), padding=(1, 1))\n",
      "    (6): ReLU(inplace=True)\n",
      "    (7): Conv2d(128, 128, kernel_size=(3, 3), stride=(1, 1), padding=(1, 1))\n",
      "    (8): ReLU(inplace=True)\n",
      "    (9): MaxPool2d(kernel_size=2, stride=2, padding=0, dilation=1, ceil_mode=False)\n",
      "    (10): Conv2d(128, 256, kernel_size=(3, 3), stride=(1, 1), padding=(1, 1))\n",
      "    (11): ReLU(inplace=True)\n",
      "    (12): Conv2d(256, 256, kernel_size=(3, 3), stride=(1, 1), padding=(1, 1))\n",
      "    (13): ReLU(inplace=True)\n",
      "    (14): Conv2d(256, 256, kernel_size=(3, 3), stride=(1, 1), padding=(1, 1))\n",
      "    (15): ReLU(inplace=True)\n",
      "    (16): MaxPool2d(kernel_size=2, stride=2, padding=0, dilation=1, ceil_mode=False)\n",
      "    (17): Conv2d(256, 512, kernel_size=(3, 3), stride=(1, 1), padding=(1, 1))\n",
      "    (18): ReLU(inplace=True)\n",
      "    (19): Conv2d(512, 512, kernel_size=(3, 3), stride=(1, 1), padding=(1, 1))\n",
      "    (20): ReLU(inplace=True)\n",
      "    (21): Conv2d(512, 512, kernel_size=(3, 3), stride=(1, 1), padding=(1, 1))\n",
      "    (22): ReLU(inplace=True)\n",
      "    (23): MaxPool2d(kernel_size=2, stride=2, padding=0, dilation=1, ceil_mode=False)\n",
      "    (24): Conv2d(512, 512, kernel_size=(3, 3), stride=(1, 1), padding=(1, 1))\n",
      "    (25): ReLU(inplace=True)\n",
      "    (26): Conv2d(512, 512, kernel_size=(3, 3), stride=(1, 1), padding=(1, 1))\n",
      "    (27): ReLU(inplace=True)\n",
      "    (28): Conv2d(512, 512, kernel_size=(3, 3), stride=(1, 1), padding=(1, 1))\n",
      "    (29): ReLU(inplace=True)\n",
      "    (30): MaxPool2d(kernel_size=2, stride=2, padding=0, dilation=1, ceil_mode=False)\n",
      "  )\n",
      "  (avgpool): AdaptiveAvgPool2d(output_size=(7, 7))\n",
      "  (classifier): Sequential(\n",
      "    (0): Linear(in_features=25088, out_features=4096, bias=True)\n",
      "    (1): ReLU(inplace=True)\n",
      "    (2): Dropout(p=0.5, inplace=False)\n",
      "    (3): Linear(in_features=4096, out_features=4096, bias=True)\n",
      "    (4): ReLU(inplace=True)\n",
      "    (5): Dropout(p=0.5, inplace=False)\n",
      "    (6): Linear(in_features=4096, out_features=1000, bias=True)\n",
      "  )\n",
      ")\n"
     ]
    }
   ],
   "source": [
    "# load the pre-trained model from pytorch\n",
    "vgg16 = models.vgg16(pretrained=True)\n",
    "\n",
    "# print out the model structure\n",
    "print(vgg16)"
   ]
  },
  {
   "cell_type": "markdown",
   "metadata": {
    "colab_type": "text",
    "id": "mfRCYnuh44uD"
   },
   "source": [
    "# (Method 1) Modify only the final layer, freeze the weights \n",
    "We assume that the pre-trained model's higher-level features are able to distinguish from the different cat breeds, hence we only replace the final FC layer with one that matches the number of classes we are predicting on.\n"
   ]
  },
  {
   "cell_type": "code",
   "execution_count": 0,
   "metadata": {
    "colab": {
     "base_uri": "https://localhost:8080/",
     "height": 34
    },
    "colab_type": "code",
    "id": "FEd-Ry1Broc-",
    "outputId": "a5ae45f5-3e1d-4dc0-9389-3076228f106a"
   },
   "outputs": [
    {
     "data": {
      "text/plain": [
       "47"
      ]
     },
     "execution_count": 21,
     "metadata": {
      "tags": []
     },
     "output_type": "execute_result"
    }
   ],
   "source": [
    "num_classes = len([f for f in os.listdir(os.path.join(home_dir, 'cats_data/train'))])\n",
    "num_classes"
   ]
  },
  {
   "cell_type": "code",
   "execution_count": 0,
   "metadata": {
    "colab": {
     "base_uri": "https://localhost:8080/",
     "height": 34
    },
    "colab_type": "code",
    "id": "EuhPx4fgzjfI",
    "outputId": "e192534d-fde6-4375-8523-7636a72039f1"
   },
   "outputs": [
    {
     "data": {
      "text/plain": [
       "47"
      ]
     },
     "execution_count": 22,
     "metadata": {
      "tags": []
     },
     "output_type": "execute_result"
    }
   ],
   "source": [
    "# check test classes too\n",
    "len([f for f in os.listdir(os.path.join(home_dir, 'cats_data/test'))])"
   ]
  },
  {
   "cell_type": "code",
   "execution_count": 0,
   "metadata": {
    "colab": {
     "base_uri": "https://localhost:8080/",
     "height": 765
    },
    "colab_type": "code",
    "id": "PwRHf4aRzjhY",
    "outputId": "275c8301-ab7f-43b1-f16a-c5c0911f4426"
   },
   "outputs": [
    {
     "name": "stdout",
     "output_type": "stream",
     "text": [
      "VGG(\n",
      "  (features): Sequential(\n",
      "    (0): Conv2d(3, 64, kernel_size=(3, 3), stride=(1, 1), padding=(1, 1))\n",
      "    (1): ReLU(inplace=True)\n",
      "    (2): Conv2d(64, 64, kernel_size=(3, 3), stride=(1, 1), padding=(1, 1))\n",
      "    (3): ReLU(inplace=True)\n",
      "    (4): MaxPool2d(kernel_size=2, stride=2, padding=0, dilation=1, ceil_mode=False)\n",
      "    (5): Conv2d(64, 128, kernel_size=(3, 3), stride=(1, 1), padding=(1, 1))\n",
      "    (6): ReLU(inplace=True)\n",
      "    (7): Conv2d(128, 128, kernel_size=(3, 3), stride=(1, 1), padding=(1, 1))\n",
      "    (8): ReLU(inplace=True)\n",
      "    (9): MaxPool2d(kernel_size=2, stride=2, padding=0, dilation=1, ceil_mode=False)\n",
      "    (10): Conv2d(128, 256, kernel_size=(3, 3), stride=(1, 1), padding=(1, 1))\n",
      "    (11): ReLU(inplace=True)\n",
      "    (12): Conv2d(256, 256, kernel_size=(3, 3), stride=(1, 1), padding=(1, 1))\n",
      "    (13): ReLU(inplace=True)\n",
      "    (14): Conv2d(256, 256, kernel_size=(3, 3), stride=(1, 1), padding=(1, 1))\n",
      "    (15): ReLU(inplace=True)\n",
      "    (16): MaxPool2d(kernel_size=2, stride=2, padding=0, dilation=1, ceil_mode=False)\n",
      "    (17): Conv2d(256, 512, kernel_size=(3, 3), stride=(1, 1), padding=(1, 1))\n",
      "    (18): ReLU(inplace=True)\n",
      "    (19): Conv2d(512, 512, kernel_size=(3, 3), stride=(1, 1), padding=(1, 1))\n",
      "    (20): ReLU(inplace=True)\n",
      "    (21): Conv2d(512, 512, kernel_size=(3, 3), stride=(1, 1), padding=(1, 1))\n",
      "    (22): ReLU(inplace=True)\n",
      "    (23): MaxPool2d(kernel_size=2, stride=2, padding=0, dilation=1, ceil_mode=False)\n",
      "    (24): Conv2d(512, 512, kernel_size=(3, 3), stride=(1, 1), padding=(1, 1))\n",
      "    (25): ReLU(inplace=True)\n",
      "    (26): Conv2d(512, 512, kernel_size=(3, 3), stride=(1, 1), padding=(1, 1))\n",
      "    (27): ReLU(inplace=True)\n",
      "    (28): Conv2d(512, 512, kernel_size=(3, 3), stride=(1, 1), padding=(1, 1))\n",
      "    (29): ReLU(inplace=True)\n",
      "    (30): MaxPool2d(kernel_size=2, stride=2, padding=0, dilation=1, ceil_mode=False)\n",
      "  )\n",
      "  (avgpool): AdaptiveAvgPool2d(output_size=(7, 7))\n",
      "  (classifier): Sequential(\n",
      "    (0): Linear(in_features=25088, out_features=4096, bias=True)\n",
      "    (1): ReLU(inplace=True)\n",
      "    (2): Dropout(p=0.5, inplace=False)\n",
      "    (3): Linear(in_features=4096, out_features=4096, bias=True)\n",
      "    (4): ReLU(inplace=True)\n",
      "    (5): Dropout(p=0.5, inplace=False)\n",
      "  )\n",
      ")\n"
     ]
    }
   ],
   "source": [
    "# Remove the last layer, then add one FC layer that maps n-> 47 cat breeds\n",
    "import torch.nn as nn\n",
    "\n",
    "vgg16.classifier = nn.Sequential(*list(vgg16.classifier.children())[:-1])\n",
    "print(vgg16)"
   ]
  },
  {
   "cell_type": "code",
   "execution_count": 0,
   "metadata": {
    "colab": {},
    "colab_type": "code",
    "id": "Q04cWvd9zjj2"
   },
   "outputs": [],
   "source": [
    "in_features = vgg16.classifier[3].out_features\n",
    "\n",
    "last_fc_layer = nn.Linear(in_features, num_classes)\n",
    "\n",
    "vgg16.classifier = nn.Sequential(*list(vgg16.classifier.children()), last_fc_layer)\n",
    "\n",
    "if train_on_gpu:\n",
    "  vgg16.cuda()"
   ]
  },
  {
   "cell_type": "markdown",
   "metadata": {
    "colab_type": "text",
    "id": "8uVb3Z5cbA90"
   },
   "source": [
    "## Specify Loss Function and Optimizer\n",
    "\n",
    "We will use the cross entropy loss (multiclass classification) and stochastic gradient descent with a small learning rate.\n",
    "\n",
    "The optmizer accepts only the *trainable* parameters as input (i.e. vgg.classifier.parameters())"
   ]
  },
  {
   "cell_type": "code",
   "execution_count": 0,
   "metadata": {
    "colab": {},
    "colab_type": "code",
    "id": "eiHK9x-EzjmT"
   },
   "outputs": [],
   "source": [
    "import torch.optim as optim\n",
    "\n",
    "# loss function\n",
    "criterion = nn.CrossEntropyLoss()\n",
    "\n",
    "# optimizer\n",
    "optimizer = optim.SGD(vgg16.classifier.parameters(), lr=0.001)"
   ]
  },
  {
   "cell_type": "code",
   "execution_count": 0,
   "metadata": {
    "colab": {},
    "colab_type": "code",
    "id": "MS0lXCqFW-aM"
   },
   "outputs": [],
   "source": [
    "# FREEZE THE WEIGHTS\n",
    "for param in vgg16.features.parameters():\n",
    "  param.require_grad = False"
   ]
  },
  {
   "cell_type": "markdown",
   "metadata": {
    "colab_type": "text",
    "id": "1zzafPJibkzO"
   },
   "source": [
    "## Training"
   ]
  },
  {
   "cell_type": "code",
   "execution_count": 0,
   "metadata": {
    "colab": {},
    "colab_type": "code",
    "id": "-48uv0Lwzjog"
   },
   "outputs": [],
   "source": [
    "# # number of epochs to train the model\n",
    "# n_epochs = 1\n",
    "\n",
    "# train_loss_min = np.Inf\n",
    "\n",
    "# for epoch in range(1, n_epochs + 1):\n",
    "\n",
    "#   # reset training loss to 0 for every epoch\n",
    "#   train_loss = 0.0\n",
    "\n",
    "#   for batch, (data, target) in enumerate(train_loader):\n",
    "#     # move tensors to GPU if CUDA is available\n",
    "#     if train_on_gpu:\n",
    "#       data, target = data.cuda(), target.cuda()\n",
    "\n",
    "#     # clear the gradients\n",
    "#     optimizer.zero_grad()\n",
    "\n",
    "#     # forward pass: compute predictions by passing input data into the model\n",
    "#     output = vgg16(data)\n",
    "\n",
    "#     # calculate batch loss\n",
    "#     loss = criterion(output, target)\n",
    "\n",
    "#     # backward pass; compute gradient of the loss wrt model parameters\n",
    "#     loss.backward()\n",
    "\n",
    "#     # perform a single optimization step (update parameters to minimize gradient loss)\n",
    "#     optimizer.step()\n",
    "\n",
    "#     # update training loss (get total loss over all the inputs)\n",
    "#     train_loss += loss.item()\n",
    "\n",
    "#     if batch % batch_size == batch_size - 1: # print training loss in every batch (batch_size) of data\n",
    "#       batch_train_loss = train_loss / batch_size\n",
    "#       print((f'Epoch: {epoch}, Batch {batch + 1},  Training Loss: {batch_train_loss}'))\n",
    "      \n",
    "#       # save model if training loss has decreased\n",
    "#       if batch_train_loss <= train_loss_min:\n",
    "#           print(\"Training loss decreased ({:.6f} --> {:.6f})\".format(train_loss_min, batch_train_loss))\n",
    "#           torch.save(vgg16.state_dict(), 'model_cat_breed_classifier.pt')\n",
    "#           train_loss_min = batch_train_loss\n",
    "      \n",
    "#       # reset training loss to 0 for every batch\n",
    "#       train_loss = 0\n",
    "\n",
    "    "
   ]
  },
  {
   "cell_type": "code",
   "execution_count": 0,
   "metadata": {
    "colab": {},
    "colab_type": "code",
    "id": "oHn1zkkZ0Qke"
   },
   "outputs": [],
   "source": [
    "# # load the model\n",
    "# vgg16.load_state_dict(torch.load(os.path.join(home_dir, 'model_cat_breed_classifier.pt')))"
   ]
  },
  {
   "cell_type": "markdown",
   "metadata": {
    "colab_type": "text",
    "id": "mCXnAT8HdRHm"
   },
   "source": [
    "## Testing"
   ]
  },
  {
   "cell_type": "code",
   "execution_count": 0,
   "metadata": {
    "colab": {},
    "colab_type": "code",
    "id": "QuVLFduvczo2"
   },
   "outputs": [],
   "source": [
    "def test_model(model):\n",
    "\n",
    "  test_loss = 0.0\n",
    "  is_class_correct = list(0. for i in range(num_classes))\n",
    "  class_total = list(0. for i in range(num_classes))\n",
    "\n",
    "  # eval code\n",
    "  model.eval()\n",
    "\n",
    "  # iterate over test data\n",
    "  for data, target in test_loader:\n",
    "    # move tensors to GPU if CUDA is available\n",
    "    if train_on_gpu:\n",
    "      data, target = data.cuda(), target.cuda()\n",
    "\n",
    "    # forward pass\n",
    "    output = model(data)\n",
    "\n",
    "    # calculate loss\n",
    "    loss = criterion(output, target)\n",
    "\n",
    "    # update test loss\n",
    "    test_loss += loss.item()*data.size(0)\n",
    "\n",
    "    # convert outputs to predicted class;   torch.max(input, dim, keepdim=False, out=None) returns (value, index)\n",
    "    _, pred = torch.max(output, 1)\n",
    "    # print(f\"Pred: {pred}\")\n",
    "\n",
    "    # compare predictions (a 1-D tensor) to true labels. \n",
    "    correct_tensor = pred.eq(target.data.view_as(pred))\n",
    "    correct = np.squeeze(correct_tensor.numpy()) if not train_on_gpu else np.squeeze(correct_tensor.cpu().numpy())\n",
    "\n",
    "    # calculate test accuracy of each class; go through each value in the 1D tensor (20 values)\n",
    "    for i in range(batch_size):\n",
    "      if list(target.shape)[0] != batch_size:\n",
    "        continue\n",
    "      label = target.data[i]\n",
    "      # count the number of times each class gets predicted correctly\n",
    "      try:\n",
    "        is_class_correct[label] += correct[i].item()\n",
    "        # increment the number of times each class gets predicted on\n",
    "        class_total[label] += 1\n",
    "      except:\n",
    "        continue\n",
    "\n",
    "  # calculate avg test loss \n",
    "  test_loss = test_loss/len(test_loader.dataset)\n",
    "  print('Test Loss: {:.6f}\\n'.format(test_loss))\n",
    "\n",
    "   # calculate prediction accuracy of each class, by dividing the number of times\n",
    "  # the class gets predicted correctly by the number of samples in each class\n",
    "  for i in range(num_classes):\n",
    "    if class_total[i] > 0:\n",
    "      print('Test Accuracy of %5s: %2d%% (%2d/%2d)' % (\n",
    "          classes[i], 100 * is_class_correct[i] / class_total[i],\n",
    "          np.sum(is_class_correct[i]), np.sum(class_total[i]))\n",
    "      )\n",
    "    else:\n",
    "      print('Test Accuracy of %5s: N/A (no training examples)' % (classes[i]))\n",
    "\n",
    "  print('\\nOverall Test Accuracy: %2d%% (%2d/%2d)' % (\n",
    "    100. * np.sum(is_class_correct) / np.sum(class_total),\n",
    "    np.sum(is_class_correct), np.sum(class_total)\n",
    "  ))\n"
   ]
  },
  {
   "cell_type": "code",
   "execution_count": 0,
   "metadata": {
    "colab": {},
    "colab_type": "code",
    "id": "TDp5226tgfh9"
   },
   "outputs": [],
   "source": [
    "# test_model(vgg16)"
   ]
  },
  {
   "cell_type": "markdown",
   "metadata": {
    "colab_type": "text",
    "id": "SiVtqSuZHoe6"
   },
   "source": [
    "## Visualize Sample Test Results"
   ]
  },
  {
   "cell_type": "code",
   "execution_count": 0,
   "metadata": {
    "colab": {},
    "colab_type": "code",
    "id": "rHCEEjKzHnKa"
   },
   "outputs": [],
   "source": [
    "def visualize(model):\n",
    "  # obtain one batch of test images\n",
    "  dataiter = iter(test_loader)\n",
    "\n",
    "  images, labels = dataiter.next()\n",
    "  images.numpy()\n",
    "\n",
    "  # move model inputs to CUDA if GPU is available\n",
    "  if train_on_gpu:\n",
    "    images = images.cuda()\n",
    "\n",
    "  # get sample outputs\n",
    "  output = model(images)\n",
    "\n",
    "  # convert output probabilities to predicted class\n",
    "  _, preds_tensor = torch.max(output, 1)\n",
    "  preds = np.squeeze(preds_tensor.numpy()) if not train_on_gpu else np.squeeze(preds_tensor.cpu().numpy())\n",
    "\n",
    "  # plot the images in the batch, along with predicted and true labels\n",
    "  fig = plt.figure(figsize=(25, 4))\n",
    "  for idx in np.arange(20):\n",
    "    ax = fig.add_subplot(2, 20/2, idx+1, xticks=[], yticks=[])\n",
    "    plt.imshow(np.transpose(images[idx], (1, 2, 0)))\n",
    "    ax.set_title(\"{} ({})\".format(classes[preds[idx]], classes[labels[idx]]),\n",
    "                  color=(\"green\" if preds[idx]==labels[idx].item() else \"red\"))"
   ]
  },
  {
   "cell_type": "code",
   "execution_count": 0,
   "metadata": {
    "colab": {},
    "colab_type": "code",
    "id": "ModZZItagrxR"
   },
   "outputs": [],
   "source": [
    "# visualize(vgg16)"
   ]
  },
  {
   "cell_type": "markdown",
   "metadata": {
    "colab_type": "text",
    "id": "zEzi3L6PIl4A"
   },
   "source": [
    "# (Method 2) Remove final layers (CONV and FC), add and train an FC layer\n",
    "\n",
    "The next method assumes that the higher-level features extracted from the final CNN layers in the pre-trained model are not able to distinguish between the different cat breeds.\n",
    "\n",
    "A possible solution will be to **remove these final layers**, leaving the pre-trained model with layers that extract lower-level features in hopes that these features have sufficient ability to distinguish between the different cat breeds.\n",
    "\n",
    "**Fully connected layers will be added** at the end to match the number of classes (breeds).\n",
    "\n",
    "Model weights, except the final FC layer, will be **frozen** so as to prevent overfitting."
   ]
  },
  {
   "cell_type": "code",
   "execution_count": 0,
   "metadata": {
    "colab": {
     "base_uri": "https://localhost:8080/",
     "height": 782
    },
    "colab_type": "code",
    "id": "i-W8_8kkIlkp",
    "outputId": "5573323c-c4a8-4904-a9e9-be4b2c7ed3f0"
   },
   "outputs": [
    {
     "name": "stdout",
     "output_type": "stream",
     "text": [
      "VGG(\n",
      "  (features): Sequential(\n",
      "    (0): Conv2d(3, 64, kernel_size=(3, 3), stride=(1, 1), padding=(1, 1))\n",
      "    (1): ReLU(inplace=True)\n",
      "    (2): Conv2d(64, 64, kernel_size=(3, 3), stride=(1, 1), padding=(1, 1))\n",
      "    (3): ReLU(inplace=True)\n",
      "    (4): MaxPool2d(kernel_size=2, stride=2, padding=0, dilation=1, ceil_mode=False)\n",
      "    (5): Conv2d(64, 128, kernel_size=(3, 3), stride=(1, 1), padding=(1, 1))\n",
      "    (6): ReLU(inplace=True)\n",
      "    (7): Conv2d(128, 128, kernel_size=(3, 3), stride=(1, 1), padding=(1, 1))\n",
      "    (8): ReLU(inplace=True)\n",
      "    (9): MaxPool2d(kernel_size=2, stride=2, padding=0, dilation=1, ceil_mode=False)\n",
      "    (10): Conv2d(128, 256, kernel_size=(3, 3), stride=(1, 1), padding=(1, 1))\n",
      "    (11): ReLU(inplace=True)\n",
      "    (12): Conv2d(256, 256, kernel_size=(3, 3), stride=(1, 1), padding=(1, 1))\n",
      "    (13): ReLU(inplace=True)\n",
      "    (14): Conv2d(256, 256, kernel_size=(3, 3), stride=(1, 1), padding=(1, 1))\n",
      "    (15): ReLU(inplace=True)\n",
      "    (16): MaxPool2d(kernel_size=2, stride=2, padding=0, dilation=1, ceil_mode=False)\n",
      "    (17): Conv2d(256, 512, kernel_size=(3, 3), stride=(1, 1), padding=(1, 1))\n",
      "    (18): ReLU(inplace=True)\n",
      "    (19): Conv2d(512, 512, kernel_size=(3, 3), stride=(1, 1), padding=(1, 1))\n",
      "    (20): ReLU(inplace=True)\n",
      "    (21): Conv2d(512, 512, kernel_size=(3, 3), stride=(1, 1), padding=(1, 1))\n",
      "    (22): ReLU(inplace=True)\n",
      "    (23): MaxPool2d(kernel_size=2, stride=2, padding=0, dilation=1, ceil_mode=False)\n",
      "    (24): Conv2d(512, 512, kernel_size=(3, 3), stride=(1, 1), padding=(1, 1))\n",
      "    (25): ReLU(inplace=True)\n",
      "    (26): Conv2d(512, 512, kernel_size=(3, 3), stride=(1, 1), padding=(1, 1))\n",
      "    (27): ReLU(inplace=True)\n",
      "    (28): Conv2d(512, 512, kernel_size=(3, 3), stride=(1, 1), padding=(1, 1))\n",
      "    (29): ReLU(inplace=True)\n",
      "    (30): MaxPool2d(kernel_size=2, stride=2, padding=0, dilation=1, ceil_mode=False)\n",
      "  )\n",
      "  (avgpool): AdaptiveAvgPool2d(output_size=(7, 7))\n",
      "  (classifier): Sequential(\n",
      "    (0): Linear(in_features=25088, out_features=4096, bias=True)\n",
      "    (1): ReLU(inplace=True)\n",
      "    (2): Dropout(p=0.5, inplace=False)\n",
      "    (3): Linear(in_features=4096, out_features=4096, bias=True)\n",
      "    (4): ReLU(inplace=True)\n",
      "    (5): Dropout(p=0.5, inplace=False)\n",
      "    (6): Linear(in_features=4096, out_features=1000, bias=True)\n",
      "  )\n",
      ")\n"
     ]
    }
   ],
   "source": [
    "# load a fresh vgg16 model\n",
    "vgg16_2 = models.vgg16(pretrained=True)\n",
    "\n",
    "# print out the model structure\n",
    "print(vgg16_2)"
   ]
  },
  {
   "cell_type": "code",
   "execution_count": 0,
   "metadata": {
    "colab": {},
    "colab_type": "code",
    "id": "AYpS4OfeZ62J"
   },
   "outputs": [],
   "source": [
    "# # FREEZE training for all 'features' layers\n",
    "# for param in vgg16_2.features.parameters():\n",
    "#   param.requires_grad = False"
   ]
  },
  {
   "cell_type": "code",
   "execution_count": 0,
   "metadata": {
    "colab": {
     "base_uri": "https://localhost:8080/",
     "height": 374
    },
    "colab_type": "code",
    "id": "OZmGyvL3SeGq",
    "outputId": "d95f81aa-4599-4642-b1b4-1ce71822d9af"
   },
   "outputs": [
    {
     "data": {
      "text/plain": [
       "Sequential(\n",
       "  (0): Conv2d(3, 64, kernel_size=(3, 3), stride=(1, 1), padding=(1, 1))\n",
       "  (1): ReLU(inplace=True)\n",
       "  (2): Conv2d(64, 64, kernel_size=(3, 3), stride=(1, 1), padding=(1, 1))\n",
       "  (3): ReLU(inplace=True)\n",
       "  (4): MaxPool2d(kernel_size=2, stride=2, padding=0, dilation=1, ceil_mode=False)\n",
       "  (5): Conv2d(64, 128, kernel_size=(3, 3), stride=(1, 1), padding=(1, 1))\n",
       "  (6): ReLU(inplace=True)\n",
       "  (7): Conv2d(128, 128, kernel_size=(3, 3), stride=(1, 1), padding=(1, 1))\n",
       "  (8): ReLU(inplace=True)\n",
       "  (9): MaxPool2d(kernel_size=2, stride=2, padding=0, dilation=1, ceil_mode=False)\n",
       "  (10): Conv2d(128, 256, kernel_size=(3, 3), stride=(1, 1), padding=(1, 1))\n",
       "  (11): ReLU(inplace=True)\n",
       "  (12): Conv2d(256, 256, kernel_size=(3, 3), stride=(1, 1), padding=(1, 1))\n",
       "  (13): ReLU(inplace=True)\n",
       "  (14): Conv2d(256, 256, kernel_size=(3, 3), stride=(1, 1), padding=(1, 1))\n",
       "  (15): ReLU(inplace=True)\n",
       "  (16): MaxPool2d(kernel_size=2, stride=2, padding=0, dilation=1, ceil_mode=False)\n",
       "  (17): Conv2d(256, 512, kernel_size=(3, 3), stride=(1, 1), padding=(1, 1))\n",
       "  (18): ReLU(inplace=True)\n",
       ")"
      ]
     },
     "execution_count": 34,
     "metadata": {
      "tags": []
     },
     "output_type": "execute_result"
    }
   ],
   "source": [
    "vgg16_2.features = nn.Sequential(*list(vgg16_2.features.children())[:19])\n",
    "# print out the CNN layers\n",
    "vgg16_2.features"
   ]
  },
  {
   "cell_type": "code",
   "execution_count": 0,
   "metadata": {
    "colab": {
     "base_uri": "https://localhost:8080/",
     "height": 629
    },
    "colab_type": "code",
    "id": "vfOgV4EKT6Cr",
    "outputId": "8f45ee53-6614-474e-d58c-85d02ffe7e1a"
   },
   "outputs": [
    {
     "name": "stdout",
     "output_type": "stream",
     "text": [
      "VGG(\n",
      "  (features): Sequential(\n",
      "    (0): Conv2d(3, 64, kernel_size=(3, 3), stride=(1, 1), padding=(1, 1))\n",
      "    (1): ReLU(inplace=True)\n",
      "    (2): Conv2d(64, 64, kernel_size=(3, 3), stride=(1, 1), padding=(1, 1))\n",
      "    (3): ReLU(inplace=True)\n",
      "    (4): MaxPool2d(kernel_size=2, stride=2, padding=0, dilation=1, ceil_mode=False)\n",
      "    (5): Conv2d(64, 128, kernel_size=(3, 3), stride=(1, 1), padding=(1, 1))\n",
      "    (6): ReLU(inplace=True)\n",
      "    (7): Conv2d(128, 128, kernel_size=(3, 3), stride=(1, 1), padding=(1, 1))\n",
      "    (8): ReLU(inplace=True)\n",
      "    (9): MaxPool2d(kernel_size=2, stride=2, padding=0, dilation=1, ceil_mode=False)\n",
      "    (10): Conv2d(128, 256, kernel_size=(3, 3), stride=(1, 1), padding=(1, 1))\n",
      "    (11): ReLU(inplace=True)\n",
      "    (12): Conv2d(256, 256, kernel_size=(3, 3), stride=(1, 1), padding=(1, 1))\n",
      "    (13): ReLU(inplace=True)\n",
      "    (14): Conv2d(256, 256, kernel_size=(3, 3), stride=(1, 1), padding=(1, 1))\n",
      "    (15): ReLU(inplace=True)\n",
      "    (16): MaxPool2d(kernel_size=2, stride=2, padding=0, dilation=1, ceil_mode=False)\n",
      "    (17): Conv2d(256, 512, kernel_size=(3, 3), stride=(1, 1), padding=(1, 1))\n",
      "    (18): ReLU(inplace=True)\n",
      "  )\n",
      "  (avgpool): AdaptiveAvgPool2d(output_size=(7, 7))\n",
      "  (classifier): Sequential(\n",
      "    (0): Linear(in_features=200704, out_features=25088, bias=True)\n",
      "    (1): ReLU(inplace=True)\n",
      "    (2): Dropout(p=0.5, inplace=False)\n",
      "    (3): Linear(in_features=25088, out_features=4096, bias=True)\n",
      "    (4): ReLU(inplace=True)\n",
      "    (5): Dropout(p=0.5, inplace=False)\n",
      "    (6): Linear(in_features=4096, out_features=1000, bias=True)\n",
      "    (7): ReLU(inplace=True)\n",
      "    (8): Dropout(p=0.2, inplace=False)\n",
      "    (9): Linear(in_features=1000, out_features=47, bias=True)\n",
      "  )\n",
      ")\n"
     ]
    }
   ],
   "source": [
    "# modify fc layers\n",
    "vgg16_2.classifier[0].in_features = 200704    # based on slicing off at the 19th feature layer (28 * 28 * 256)\n",
    "vgg16_2.classifier[0].out_features = 25088\n",
    "\n",
    "vgg16_2.classifier[3].in_features = 25088\n",
    "vgg16_2.classifier[3].out_features = 4096\n",
    "\n",
    "vgg16_2.classifier[6].in_features = 4096\n",
    "vgg16_2.classifier[6].out_features = 1000\n",
    "\n",
    "# add relu activation, dropout layer and FC layer\n",
    "vgg16_2.classifier = nn.Sequential(\n",
    "    *list(vgg16_2.classifier.children()),\n",
    "    nn.ReLU(inplace=True),\n",
    "    nn.Dropout(p=0.2),\n",
    "    nn.Linear(1000, num_classes)\n",
    ")\n",
    "\n",
    "print(vgg16_2)"
   ]
  },
  {
   "cell_type": "code",
   "execution_count": 0,
   "metadata": {
    "colab": {},
    "colab_type": "code",
    "id": "QErGlBP6KjHr"
   },
   "outputs": [],
   "source": [
    "if train_on_gpu:\n",
    "  vgg16_2.cuda()"
   ]
  },
  {
   "cell_type": "markdown",
   "metadata": {
    "colab_type": "text",
    "id": "_kZSTRoCdiy7"
   },
   "source": [
    "## Training"
   ]
  },
  {
   "cell_type": "code",
   "execution_count": 0,
   "metadata": {
    "colab": {
     "base_uri": "https://localhost:8080/",
     "height": 952
    },
    "colab_type": "code",
    "id": "W5Hda9DTcGLX",
    "outputId": "0b6877e2-43a4-4889-8205-a6faf9b4a0f9"
   },
   "outputs": [
    {
     "name": "stdout",
     "output_type": "stream",
     "text": [
      "Epoch: 1, Batch 50,  Training Loss: 3.9353389739990234\n",
      "Training loss decreased (inf --> 3.935339)\n",
      "Epoch: 1, Batch 100,  Training Loss: 3.8885169935226442\n",
      "Training loss decreased (3.935339 --> 3.888517)\n",
      "Epoch: 1, Batch 150,  Training Loss: 3.8486268186569212\n",
      "Training loss decreased (3.888517 --> 3.848627)\n",
      "Epoch: 1, Batch 200,  Training Loss: 3.818592448234558\n",
      "Training loss decreased (3.848627 --> 3.818592)\n",
      "Epoch: 1, Batch 250,  Training Loss: 3.7907591104507445\n",
      "Training loss decreased (3.818592 --> 3.790759)\n",
      "Epoch: 1, Batch 300,  Training Loss: 3.7819132709503176\n",
      "Training loss decreased (3.790759 --> 3.781913)\n",
      "Epoch: 1, Batch 350,  Training Loss: 3.7427038240432737\n",
      "Training loss decreased (3.781913 --> 3.742704)\n",
      "Epoch: 1, Batch 400,  Training Loss: 3.7144489383697508\n",
      "Training loss decreased (3.742704 --> 3.714449)\n",
      "Epoch: 1, Batch 450,  Training Loss: 3.6703408193588256\n",
      "Training loss decreased (3.714449 --> 3.670341)\n",
      "Epoch: 1, Batch 500,  Training Loss: 3.648408041000366\n",
      "Training loss decreased (3.670341 --> 3.648408)\n",
      "Epoch: 1, Batch 550,  Training Loss: 3.646983242034912\n",
      "Training loss decreased (3.648408 --> 3.646983)\n",
      "Epoch: 1, Batch 600,  Training Loss: 3.6284978675842283\n",
      "Training loss decreased (3.646983 --> 3.628498)\n",
      "Epoch: 1, Batch 650,  Training Loss: 3.6016362953186034\n",
      "Training loss decreased (3.628498 --> 3.601636)\n",
      "Epoch: 1, Batch 700,  Training Loss: 3.5977560234069825\n",
      "Training loss decreased (3.601636 --> 3.597756)\n",
      "Epoch: 1, Batch 750,  Training Loss: 3.5714091157913206\n",
      "Training loss decreased (3.597756 --> 3.571409)\n",
      "Epoch: 1, Batch 800,  Training Loss: 3.552237801551819\n",
      "Training loss decreased (3.571409 --> 3.552238)\n",
      "Epoch: 1, Batch 850,  Training Loss: 3.533526439666748\n",
      "Training loss decreased (3.552238 --> 3.533526)\n",
      "Epoch: 1, Batch 900,  Training Loss: 3.5202912092208862\n",
      "Training loss decreased (3.533526 --> 3.520291)\n",
      "Epoch: 1, Batch 950,  Training Loss: 3.536617498397827\n",
      "Epoch: 1, Batch 1000,  Training Loss: 3.4607134294509887\n",
      "Training loss decreased (3.520291 --> 3.460713)\n",
      "Epoch: 1, Batch 1050,  Training Loss: 3.486093587875366\n",
      "Epoch: 1, Batch 1100,  Training Loss: 3.4701991844177247\n",
      "Epoch: 1, Batch 1150,  Training Loss: 3.430615601539612\n",
      "Training loss decreased (3.460713 --> 3.430616)\n",
      "Epoch: 1, Batch 1200,  Training Loss: 3.419893889427185\n",
      "Training loss decreased (3.430616 --> 3.419894)\n",
      "Epoch: 1, Batch 1250,  Training Loss: 3.4626264715194703\n",
      "Epoch: 1, Batch 1300,  Training Loss: 3.4320548486709597\n",
      "Epoch: 1, Batch 1350,  Training Loss: 3.387674822807312\n",
      "Training loss decreased (3.419894 --> 3.387675)\n",
      "Epoch: 1, Batch 1400,  Training Loss: 3.3629261445999146\n",
      "Training loss decreased (3.387675 --> 3.362926)\n",
      "Epoch: 1, Batch 1450,  Training Loss: 3.39305543422699\n",
      "Epoch: 1, Batch 1500,  Training Loss: 3.396401982307434\n",
      "Epoch: 1, Batch 1550,  Training Loss: 3.371764373779297\n",
      "Epoch: 1, Batch 1600,  Training Loss: 3.3768003845214842\n"
     ]
    }
   ],
   "source": [
    "# number of epochs to train the model\n",
    "n_epochs = 3\n",
    "\n",
    "train_loss_min = np.Inf\n",
    "\n",
    "for epoch in range(1, n_epochs + 1):\n",
    "\n",
    "  # reset training loss to 0 for every epoch\n",
    "  train_loss = 0.0\n",
    "\n",
    "  for batch, (data, target) in enumerate(train_loader):\n",
    "    # move tensors to GPU if CUDA is available\n",
    "    if train_on_gpu:\n",
    "      data, target = data.cuda(), target.cuda()\n",
    "\n",
    "    # clear the gradients\n",
    "    optimizer.zero_grad()\n",
    "\n",
    "    # forward pass: compute predictions by passing input data into the model\n",
    "    output = vgg16(data)\n",
    "\n",
    "    # calculate batch loss\n",
    "    loss = criterion(output, target)\n",
    "\n",
    "    # backward pass; compute gradient of the loss wrt model parameters\n",
    "    loss.backward()\n",
    "\n",
    "    # perform a single optimization step (update parameters to minimize gradient loss)\n",
    "    optimizer.step()\n",
    "\n",
    "    # update training loss (get total loss over all the inputs)\n",
    "    train_loss += loss.item()\n",
    "\n",
    "    if batch % batch_size == batch_size - 1: # print training loss in every batch (batch_size) of data\n",
    "      batch_train_loss = train_loss / batch_size\n",
    "      print((f'Epoch: {epoch}, Batch {batch + 1},  Training Loss: {batch_train_loss}'))\n",
    "\n",
    "      # save model if training loss has decreased\n",
    "      if batch_train_loss <= train_loss_min:\n",
    "          print(\"Training loss decreased ({:.6f} --> {:.6f})\".format(train_loss_min, batch_train_loss))\n",
    "          torch.save(vgg16.state_dict(), 'model_cat_breed_classifier_2.pt')\n",
    "          train_loss_min = batch_train_loss\n",
    "\n",
    "      # reset training loss to 0 for every batch\n",
    "      train_loss = 0\n",
    "\n",
    "  "
   ]
  },
  {
   "cell_type": "markdown",
   "metadata": {
    "colab_type": "text",
    "id": "h7pgVP9AgyKN"
   },
   "source": [
    "## Testing"
   ]
  },
  {
   "cell_type": "code",
   "execution_count": 0,
   "metadata": {
    "colab": {},
    "colab_type": "code",
    "id": "1ilp8oHUgxqm"
   },
   "outputs": [],
   "source": [
    "test_loss = 0.0\n",
    "is_class_correct = list(0. for i in range(num_classes))\n",
    "class_total = list(0. for i in range(num_classes))\n",
    "\n",
    "# eval code\n",
    "vgg16_2.eval()\n",
    "\n",
    "print(vgg16_2)\n",
    "\n",
    "# iterate over test data\n",
    "for data, target in test_loader:\n",
    "  # move tensors to GPU if CUDA is available\n",
    "  if train_on_gpu:\n",
    "    data, target = data.cuda(), target.cuda()\n",
    "\n",
    "  # forward pass\n",
    "  # print(data.size(0), data.size(1), data.size(2), data.size(3))\n",
    "  output = vgg16_2(data)\n",
    "\n",
    "  # calculate loss\n",
    "  loss = criterion(output, target)\n",
    "\n",
    "  # update test loss\n",
    "  test_loss += loss.item()*data.size(0)\n",
    "\n",
    "  # convert outputs to predicted class;   torch.max(input, dim, keepdim=False, out=None) returns (value, index)\n",
    "  _, pred = torch.max(output, 1)\n",
    "  # print(f\"Pred: {pred}\")\n",
    "\n",
    "  # compare predictions (a 1-D tensor) to true labels. \n",
    "  correct_tensor = pred.eq(target.data.view_as(pred))\n",
    "  correct = np.squeeze(correct_tensor.numpy()) if not train_on_gpu else np.squeeze(correct_tensor.cpu().numpy())\n",
    "\n",
    "  # calculate test accuracy of each class; go through each value in the 1D tensor (20 values)\n",
    "  for i in range(batch_size):\n",
    "    if list(target.shape)[0] != batch_size:\n",
    "      continue\n",
    "    label = target.data[i]\n",
    "    # count the number of times each class gets predicted correctly\n",
    "    try:\n",
    "      is_class_correct[label] += correct[i].item()\n",
    "      # increment the number of times each class gets predicted on\n",
    "      class_total[label] += 1\n",
    "    except:\n",
    "      continue\n",
    "\n",
    "# calculate avg test loss \n",
    "test_loss = test_loss/len(test_loader.dataset)\n",
    "print('Test Loss: {:.6f}\\n'.format(test_loss))\n",
    "\n",
    "# calculate prediction accuracy of each class, by dividing the number of times\n",
    "# the class gets predicted correctly by the number of samples in each class\n",
    "for i in range(num_classes):\n",
    "  if class_total[i] > 0:\n",
    "    print('Test Accuracy of %5s: %2d%% (%2d/%2d)' % (\n",
    "        classes[i], 100 * is_class_correct[i] / class_total[i],\n",
    "        np.sum(is_class_correct[i]), np.sum(class_total[i]))\n",
    "    )\n",
    "  else:\n",
    "    print('Test Accuracy of %5s: N/A (no training examples)' % (classes[i]))\n",
    "\n",
    "print('\\nOverall Test Accuracy: %2d%% (%2d/%2d)' % (\n",
    "  100. * np.sum(is_class_correct) / np.sum(class_total),\n",
    "  np.sum(is_class_correct), np.sum(class_total)\n",
    "))"
   ]
  },
  {
   "cell_type": "markdown",
   "metadata": {
    "colab_type": "text",
    "id": "XnV1oWbXg67Y"
   },
   "source": [
    "## Visualize results"
   ]
  },
  {
   "cell_type": "code",
   "execution_count": 0,
   "metadata": {
    "colab": {},
    "colab_type": "code",
    "id": "Ky_n8XiVg6jN"
   },
   "outputs": [],
   "source": [
    "visualize(vgg16_2)"
   ]
  },
  {
   "cell_type": "code",
   "execution_count": 0,
   "metadata": {
    "colab": {},
    "colab_type": "code",
    "id": "eKePQrfxejnf"
   },
   "outputs": [],
   "source": []
  }
 ],
 "metadata": {
  "accelerator": "GPU",
  "colab": {
   "collapsed_sections": [],
   "name": "PYTORCH_cat_breed_classifier.ipynb",
   "provenance": []
  },
  "kernelspec": {
   "display_name": "Python 3",
   "language": "python",
   "name": "python3"
  },
  "language_info": {
   "codemirror_mode": {
    "name": "ipython",
    "version": 3
   },
   "file_extension": ".py",
   "mimetype": "text/x-python",
   "name": "python",
   "nbconvert_exporter": "python",
   "pygments_lexer": "ipython3",
   "version": "3.7.4"
  },
  "widgets": {
   "application/vnd.jupyter.widget-state+json": {
    "0c2dab1a20aa48e3a82378d850d6d93c": {
     "model_module": "@jupyter-widgets/base",
     "model_name": "LayoutModel",
     "state": {
      "_model_module": "@jupyter-widgets/base",
      "_model_module_version": "1.2.0",
      "_model_name": "LayoutModel",
      "_view_count": null,
      "_view_module": "@jupyter-widgets/base",
      "_view_module_version": "1.2.0",
      "_view_name": "LayoutView",
      "align_content": null,
      "align_items": null,
      "align_self": null,
      "border": null,
      "bottom": null,
      "display": null,
      "flex": null,
      "flex_flow": null,
      "grid_area": null,
      "grid_auto_columns": null,
      "grid_auto_flow": null,
      "grid_auto_rows": null,
      "grid_column": null,
      "grid_gap": null,
      "grid_row": null,
      "grid_template_areas": null,
      "grid_template_columns": null,
      "grid_template_rows": null,
      "height": null,
      "justify_content": null,
      "justify_items": null,
      "left": null,
      "margin": null,
      "max_height": null,
      "max_width": null,
      "min_height": null,
      "min_width": null,
      "object_fit": null,
      "object_position": null,
      "order": null,
      "overflow": null,
      "overflow_x": null,
      "overflow_y": null,
      "padding": null,
      "right": null,
      "top": null,
      "visibility": null,
      "width": null
     }
    },
    "15f22d580cd34e289ddae119a5dea777": {
     "model_module": "@jupyter-widgets/base",
     "model_name": "LayoutModel",
     "state": {
      "_model_module": "@jupyter-widgets/base",
      "_model_module_version": "1.2.0",
      "_model_name": "LayoutModel",
      "_view_count": null,
      "_view_module": "@jupyter-widgets/base",
      "_view_module_version": "1.2.0",
      "_view_name": "LayoutView",
      "align_content": null,
      "align_items": null,
      "align_self": null,
      "border": null,
      "bottom": null,
      "display": null,
      "flex": null,
      "flex_flow": null,
      "grid_area": null,
      "grid_auto_columns": null,
      "grid_auto_flow": null,
      "grid_auto_rows": null,
      "grid_column": null,
      "grid_gap": null,
      "grid_row": null,
      "grid_template_areas": null,
      "grid_template_columns": null,
      "grid_template_rows": null,
      "height": null,
      "justify_content": null,
      "justify_items": null,
      "left": null,
      "margin": null,
      "max_height": null,
      "max_width": null,
      "min_height": null,
      "min_width": null,
      "object_fit": null,
      "object_position": null,
      "order": null,
      "overflow": null,
      "overflow_x": null,
      "overflow_y": null,
      "padding": null,
      "right": null,
      "top": null,
      "visibility": null,
      "width": null
     }
    },
    "19848bb6991f440fab3fbe07dc69a6d0": {
     "model_module": "@jupyter-widgets/controls",
     "model_name": "HBoxModel",
     "state": {
      "_dom_classes": [],
      "_model_module": "@jupyter-widgets/controls",
      "_model_module_version": "1.5.0",
      "_model_name": "HBoxModel",
      "_view_count": null,
      "_view_module": "@jupyter-widgets/controls",
      "_view_module_version": "1.5.0",
      "_view_name": "HBoxView",
      "box_style": "",
      "children": [
       "IPY_MODEL_60a0e9d178d648fd8461871f1f5ee1a3",
       "IPY_MODEL_c9ab0d2a340a4e9eb92ee0574d0eb0e3"
      ],
      "layout": "IPY_MODEL_7682df970b8f4e3b8aa7dc0ab06c6862"
     }
    },
    "1effbeba38024fd18719ff90c31e2747": {
     "model_module": "@jupyter-widgets/controls",
     "model_name": "DescriptionStyleModel",
     "state": {
      "_model_module": "@jupyter-widgets/controls",
      "_model_module_version": "1.5.0",
      "_model_name": "DescriptionStyleModel",
      "_view_count": null,
      "_view_module": "@jupyter-widgets/base",
      "_view_module_version": "1.2.0",
      "_view_name": "StyleView",
      "description_width": ""
     }
    },
    "60a0e9d178d648fd8461871f1f5ee1a3": {
     "model_module": "@jupyter-widgets/controls",
     "model_name": "IntProgressModel",
     "state": {
      "_dom_classes": [],
      "_model_module": "@jupyter-widgets/controls",
      "_model_module_version": "1.5.0",
      "_model_name": "IntProgressModel",
      "_view_count": null,
      "_view_module": "@jupyter-widgets/controls",
      "_view_module_version": "1.5.0",
      "_view_name": "ProgressView",
      "bar_style": "success",
      "description": "",
      "description_tooltip": null,
      "layout": "IPY_MODEL_0c2dab1a20aa48e3a82378d850d6d93c",
      "max": 553433881,
      "min": 0,
      "orientation": "horizontal",
      "style": "IPY_MODEL_d7ebe07516f24c44a4ab0940ff77b489",
      "value": 553433881
     }
    },
    "7682df970b8f4e3b8aa7dc0ab06c6862": {
     "model_module": "@jupyter-widgets/base",
     "model_name": "LayoutModel",
     "state": {
      "_model_module": "@jupyter-widgets/base",
      "_model_module_version": "1.2.0",
      "_model_name": "LayoutModel",
      "_view_count": null,
      "_view_module": "@jupyter-widgets/base",
      "_view_module_version": "1.2.0",
      "_view_name": "LayoutView",
      "align_content": null,
      "align_items": null,
      "align_self": null,
      "border": null,
      "bottom": null,
      "display": null,
      "flex": null,
      "flex_flow": null,
      "grid_area": null,
      "grid_auto_columns": null,
      "grid_auto_flow": null,
      "grid_auto_rows": null,
      "grid_column": null,
      "grid_gap": null,
      "grid_row": null,
      "grid_template_areas": null,
      "grid_template_columns": null,
      "grid_template_rows": null,
      "height": null,
      "justify_content": null,
      "justify_items": null,
      "left": null,
      "margin": null,
      "max_height": null,
      "max_width": null,
      "min_height": null,
      "min_width": null,
      "object_fit": null,
      "object_position": null,
      "order": null,
      "overflow": null,
      "overflow_x": null,
      "overflow_y": null,
      "padding": null,
      "right": null,
      "top": null,
      "visibility": null,
      "width": null
     }
    },
    "c9ab0d2a340a4e9eb92ee0574d0eb0e3": {
     "model_module": "@jupyter-widgets/controls",
     "model_name": "HTMLModel",
     "state": {
      "_dom_classes": [],
      "_model_module": "@jupyter-widgets/controls",
      "_model_module_version": "1.5.0",
      "_model_name": "HTMLModel",
      "_view_count": null,
      "_view_module": "@jupyter-widgets/controls",
      "_view_module_version": "1.5.0",
      "_view_name": "HTMLView",
      "description": "",
      "description_tooltip": null,
      "layout": "IPY_MODEL_15f22d580cd34e289ddae119a5dea777",
      "placeholder": "​",
      "style": "IPY_MODEL_1effbeba38024fd18719ff90c31e2747",
      "value": "100% 528M/528M [00:16&lt;00:00, 33.1MB/s]"
     }
    },
    "d7ebe07516f24c44a4ab0940ff77b489": {
     "model_module": "@jupyter-widgets/controls",
     "model_name": "ProgressStyleModel",
     "state": {
      "_model_module": "@jupyter-widgets/controls",
      "_model_module_version": "1.5.0",
      "_model_name": "ProgressStyleModel",
      "_view_count": null,
      "_view_module": "@jupyter-widgets/base",
      "_view_module_version": "1.2.0",
      "_view_name": "StyleView",
      "bar_color": null,
      "description_width": ""
     }
    }
   }
  }
 },
 "nbformat": 4,
 "nbformat_minor": 1
}
