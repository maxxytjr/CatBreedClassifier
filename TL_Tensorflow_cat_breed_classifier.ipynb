{
 "cells": [
  {
   "cell_type": "code",
   "execution_count": 0,
   "metadata": {
    "colab": {},
    "colab_type": "code",
    "id": "TOJw26rzxvQ0"
   },
   "outputs": [],
   "source": [
    "import pandas as pd\n",
    "import numpy as np\n",
    "import matplotlib.pyplot as plt\n",
    "import seaborn as sns\n",
    "\n",
    "from tensorflow.keras.preprocessing.image import ImageDataGenerator, img_to_array, load_img\n",
    "from tensorflow.keras.models import Sequential\n",
    "from tensorflow.keras.layers import Dropout, Flatten, Dense\n",
    "from tensorflow.keras import applications\n",
    "import math\n",
    "import cv2\n",
    "\n",
    "import os\n",
    "import shutil\n",
    "\n",
    "%matplotlib inline"
   ]
  },
  {
   "cell_type": "markdown",
   "metadata": {
    "colab_type": "text",
    "id": "zQWbqrE7nGVy"
   },
   "source": [
    "# Download, Split and Transform our Data\n",
    "\n",
    "After downloading the data, split the training data into a training and validation set. Then create DataLoaders for each of these sets of data."
   ]
  },
  {
   "cell_type": "code",
   "execution_count": 43,
   "metadata": {
    "colab": {
     "base_uri": "https://localhost:8080/",
     "height": 33
    },
    "colab_type": "code",
    "id": "bMrjajOCDTay",
    "outputId": "53b43a66-e334-4d61-e230-5967593aaf4e"
   },
   "outputs": [
    {
     "name": "stdout",
     "output_type": "stream",
     "text": [
      "cat-breeds-dataset.zip: Skipping, found more recently modified local copy (use --force to force download)\n"
     ]
    }
   ],
   "source": [
    "os.environ['KAGGLE_USERNAME'] = \"###\" # username from the json file\n",
    "os.environ['KAGGLE_KEY'] = \"###\" # key from the json file\n",
    "!kaggle datasets download -d ma7555/cat-breeds-dataset\n"
   ]
  },
  {
   "cell_type": "code",
   "execution_count": 0,
   "metadata": {
    "colab": {},
    "colab_type": "code",
    "id": "tG5peF76DytU"
   },
   "outputs": [],
   "source": [
    "import zipfile\n",
    "\n",
    "home_dir = os.getcwd()\n",
    "\n",
    "if os.path.exists(os.path.join(home_dir, 'cats')):\n",
    "  shutil.rmtree(os.path.join(home_dir, 'cats'))\n",
    "\n",
    "local_zip = '/content/cat-breeds-dataset.zip'\n",
    "\n",
    "zip_ref = zipfile.ZipFile(local_zip, 'r')\n",
    "\n",
    "zip_ref.extractall('/content/cats')\n",
    "zip_ref.close()"
   ]
  },
  {
   "cell_type": "code",
   "execution_count": 45,
   "metadata": {
    "colab": {
     "base_uri": "https://localhost:8080/",
     "height": 33
    },
    "colab_type": "code",
    "id": "8Zi8aDEizWlf",
    "outputId": "45d2008c-b8cd-400e-cd60-4453769c00c8"
   },
   "outputs": [
    {
     "data": {
      "text/plain": [
       "67"
      ]
     },
     "execution_count": 45,
     "metadata": {
      "tags": []
     },
     "output_type": "execute_result"
    }
   ],
   "source": [
    "# get the number of breeds saved as folders in the image dataset\n",
    "num_breed_folders = len(os.listdir(os.path.join(home_dir, 'cats/images')))\n",
    "num_breed_folders"
   ]
  },
  {
   "cell_type": "code",
   "execution_count": 46,
   "metadata": {
    "colab": {
     "base_uri": "https://localhost:8080/",
     "height": 301
    },
    "colab_type": "code",
    "id": "iECC8d1tp7uK",
    "outputId": "8bc236b4-54b1-432e-e179-ccd8df763fac"
   },
   "outputs": [
    {
     "data": {
      "text/html": [
       "<div>\n",
       "<style scoped>\n",
       "    .dataframe tbody tr th:only-of-type {\n",
       "        vertical-align: middle;\n",
       "    }\n",
       "\n",
       "    .dataframe tbody tr th {\n",
       "        vertical-align: top;\n",
       "    }\n",
       "\n",
       "    .dataframe thead th {\n",
       "        text-align: right;\n",
       "    }\n",
       "</style>\n",
       "<table border=\"1\" class=\"dataframe\">\n",
       "  <thead>\n",
       "    <tr style=\"text-align: right;\">\n",
       "      <th></th>\n",
       "      <th>id</th>\n",
       "      <th>url</th>\n",
       "      <th>type</th>\n",
       "      <th>age</th>\n",
       "      <th>gender</th>\n",
       "      <th>size</th>\n",
       "      <th>coat</th>\n",
       "      <th>breed</th>\n",
       "      <th>photos</th>\n",
       "      <th>med_photos</th>\n",
       "    </tr>\n",
       "  </thead>\n",
       "  <tbody>\n",
       "    <tr>\n",
       "      <th>0</th>\n",
       "      <td>46744842</td>\n",
       "      <td>https://www.petfinder.com/cat/arianna-46744842...</td>\n",
       "      <td>Cat</td>\n",
       "      <td>Adult</td>\n",
       "      <td>Female</td>\n",
       "      <td>Medium</td>\n",
       "      <td>NaN</td>\n",
       "      <td>Abyssinian</td>\n",
       "      <td>[{'small': 'https://dl5zpyw5k3jeb.cloudfront.n...</td>\n",
       "      <td>['https://dl5zpyw5k3jeb.cloudfront.net/photos/...</td>\n",
       "    </tr>\n",
       "    <tr>\n",
       "      <th>1</th>\n",
       "      <td>46717321</td>\n",
       "      <td>https://www.petfinder.com/cat/ozzy-46717321/oh...</td>\n",
       "      <td>Cat</td>\n",
       "      <td>Adult</td>\n",
       "      <td>Male</td>\n",
       "      <td>Extra Large</td>\n",
       "      <td>NaN</td>\n",
       "      <td>Abyssinian</td>\n",
       "      <td>[{'small': 'https://dl5zpyw5k3jeb.cloudfront.n...</td>\n",
       "      <td>['https://dl5zpyw5k3jeb.cloudfront.net/photos/...</td>\n",
       "    </tr>\n",
       "    <tr>\n",
       "      <th>2</th>\n",
       "      <td>46626338</td>\n",
       "      <td>https://www.petfinder.com/cat/zena-46626338/ca...</td>\n",
       "      <td>Cat</td>\n",
       "      <td>Senior</td>\n",
       "      <td>Female</td>\n",
       "      <td>Medium</td>\n",
       "      <td>NaN</td>\n",
       "      <td>Abyssinian</td>\n",
       "      <td>[{'small': 'https://dl5zpyw5k3jeb.cloudfront.n...</td>\n",
       "      <td>['https://dl5zpyw5k3jeb.cloudfront.net/photos/...</td>\n",
       "    </tr>\n",
       "    <tr>\n",
       "      <th>3</th>\n",
       "      <td>46620170</td>\n",
       "      <td>https://www.petfinder.com/cat/mika-46620170/ca...</td>\n",
       "      <td>Cat</td>\n",
       "      <td>Baby</td>\n",
       "      <td>Female</td>\n",
       "      <td>Small</td>\n",
       "      <td>Short</td>\n",
       "      <td>Abyssinian</td>\n",
       "      <td>[{'small': 'https://dl5zpyw5k3jeb.cloudfront.n...</td>\n",
       "      <td>['https://dl5zpyw5k3jeb.cloudfront.net/photos/...</td>\n",
       "    </tr>\n",
       "    <tr>\n",
       "      <th>4</th>\n",
       "      <td>46582751</td>\n",
       "      <td>https://www.petfinder.com/cat/ruby-46582751/fl...</td>\n",
       "      <td>Cat</td>\n",
       "      <td>Young</td>\n",
       "      <td>Female</td>\n",
       "      <td>Medium</td>\n",
       "      <td>NaN</td>\n",
       "      <td>Abyssinian</td>\n",
       "      <td>[{'small': 'https://dl5zpyw5k3jeb.cloudfront.n...</td>\n",
       "      <td>['https://dl5zpyw5k3jeb.cloudfront.net/photos/...</td>\n",
       "    </tr>\n",
       "  </tbody>\n",
       "</table>\n",
       "</div>"
      ],
      "text/plain": [
       "         id  ...                                         med_photos\n",
       "0  46744842  ...  ['https://dl5zpyw5k3jeb.cloudfront.net/photos/...\n",
       "1  46717321  ...  ['https://dl5zpyw5k3jeb.cloudfront.net/photos/...\n",
       "2  46626338  ...  ['https://dl5zpyw5k3jeb.cloudfront.net/photos/...\n",
       "3  46620170  ...  ['https://dl5zpyw5k3jeb.cloudfront.net/photos/...\n",
       "4  46582751  ...  ['https://dl5zpyw5k3jeb.cloudfront.net/photos/...\n",
       "\n",
       "[5 rows x 10 columns]"
      ]
     },
     "execution_count": 46,
     "metadata": {
      "tags": []
     },
     "output_type": "execute_result"
    }
   ],
   "source": [
    "# inspect CSV data\n",
    "cats_df = pd.read_csv(os.path.join(home_dir, 'cats/data/cats.csv'))\n",
    "# remove 'Unnamed: 0' column\n",
    "cats_df.drop(['Unnamed: 0'], axis=1, inplace=True)\n",
    "cats_df.head()"
   ]
  },
  {
   "cell_type": "code",
   "execution_count": 47,
   "metadata": {
    "colab": {
     "base_uri": "https://localhost:8080/",
     "height": 33
    },
    "colab_type": "code",
    "id": "AfGJWzdpzWvt",
    "outputId": "777a2bf9-03e5-476f-c06e-0f461b271f55"
   },
   "outputs": [
    {
     "data": {
      "text/plain": [
       "126607"
      ]
     },
     "execution_count": 47,
     "metadata": {
      "tags": []
     },
     "output_type": "execute_result"
    }
   ],
   "source": [
    "# get the total number of image files\n",
    "num_images = sum(len(f) for r, d, f in os.walk(os.path.join(home_dir, 'cats/images')))\n",
    "num_images"
   ]
  },
  {
   "cell_type": "code",
   "execution_count": 48,
   "metadata": {
    "colab": {
     "base_uri": "https://localhost:8080/",
     "height": 197
    },
    "colab_type": "code",
    "id": "nxY9eHrRzW9x",
    "outputId": "9da59896-30e7-45a5-de21-d5d424368106"
   },
   "outputs": [
    {
     "data": {
      "text/html": [
       "<div>\n",
       "<style scoped>\n",
       "    .dataframe tbody tr th:only-of-type {\n",
       "        vertical-align: middle;\n",
       "    }\n",
       "\n",
       "    .dataframe tbody tr th {\n",
       "        vertical-align: top;\n",
       "    }\n",
       "\n",
       "    .dataframe thead th {\n",
       "        text-align: right;\n",
       "    }\n",
       "</style>\n",
       "<table border=\"1\" class=\"dataframe\">\n",
       "  <thead>\n",
       "    <tr style=\"text-align: right;\">\n",
       "      <th></th>\n",
       "      <th>Breed</th>\n",
       "      <th>Count</th>\n",
       "    </tr>\n",
       "  </thead>\n",
       "  <tbody>\n",
       "    <tr>\n",
       "      <th>0</th>\n",
       "      <td>Bengal</td>\n",
       "      <td>2477</td>\n",
       "    </tr>\n",
       "    <tr>\n",
       "      <th>1</th>\n",
       "      <td>Russian Blue</td>\n",
       "      <td>1870</td>\n",
       "    </tr>\n",
       "    <tr>\n",
       "      <th>2</th>\n",
       "      <td>American Curl</td>\n",
       "      <td>149</td>\n",
       "    </tr>\n",
       "    <tr>\n",
       "      <th>3</th>\n",
       "      <td>Maine Coon</td>\n",
       "      <td>1418</td>\n",
       "    </tr>\n",
       "    <tr>\n",
       "      <th>4</th>\n",
       "      <td>Bombay</td>\n",
       "      <td>1835</td>\n",
       "    </tr>\n",
       "  </tbody>\n",
       "</table>\n",
       "</div>"
      ],
      "text/plain": [
       "           Breed  Count\n",
       "0         Bengal   2477\n",
       "1   Russian Blue   1870\n",
       "2  American Curl    149\n",
       "3     Maine Coon   1418\n",
       "4         Bombay   1835"
      ]
     },
     "execution_count": 48,
     "metadata": {
      "tags": []
     },
     "output_type": "execute_result"
    }
   ],
   "source": [
    "num_images_list = []\n",
    "breed_list = []\n",
    "# check the total number of images \n",
    "for i, (r, d, f) in enumerate(os.walk(os.path.join(home_dir, 'cats/images'))):\n",
    "  if i == 0:\n",
    "    continue\n",
    "  breed = r.split('/')[-1]\n",
    "  num_images_list.append(len(f))\n",
    "  breed_list.append(breed)\n",
    "\n",
    "\n",
    "# create dataframe of breeds and their respective counts\n",
    "count_df = pd.DataFrame(list(zip(breed_list, num_images_list)), columns=['Breed', 'Count'])\n",
    "count_df.head()"
   ]
  },
  {
   "cell_type": "code",
   "execution_count": 49,
   "metadata": {
    "colab": {
     "base_uri": "https://localhost:8080/",
     "height": 287
    },
    "colab_type": "code",
    "id": "1C_sFMKXcT2L",
    "outputId": "213d72b6-1401-4cbd-a17d-e1194c39cd7e"
   },
   "outputs": [
    {
     "data": {
      "text/html": [
       "<div>\n",
       "<style scoped>\n",
       "    .dataframe tbody tr th:only-of-type {\n",
       "        vertical-align: middle;\n",
       "    }\n",
       "\n",
       "    .dataframe tbody tr th {\n",
       "        vertical-align: top;\n",
       "    }\n",
       "\n",
       "    .dataframe thead th {\n",
       "        text-align: right;\n",
       "    }\n",
       "</style>\n",
       "<table border=\"1\" class=\"dataframe\">\n",
       "  <thead>\n",
       "    <tr style=\"text-align: right;\">\n",
       "      <th></th>\n",
       "      <th>Count</th>\n",
       "    </tr>\n",
       "  </thead>\n",
       "  <tbody>\n",
       "    <tr>\n",
       "      <th>count</th>\n",
       "      <td>67.000000</td>\n",
       "    </tr>\n",
       "    <tr>\n",
       "      <th>mean</th>\n",
       "      <td>1889.656716</td>\n",
       "    </tr>\n",
       "    <tr>\n",
       "      <th>std</th>\n",
       "      <td>6508.437984</td>\n",
       "    </tr>\n",
       "    <tr>\n",
       "      <th>min</th>\n",
       "      <td>1.000000</td>\n",
       "    </tr>\n",
       "    <tr>\n",
       "      <th>25%</th>\n",
       "      <td>106.000000</td>\n",
       "    </tr>\n",
       "    <tr>\n",
       "      <th>50%</th>\n",
       "      <td>260.000000</td>\n",
       "    </tr>\n",
       "    <tr>\n",
       "      <th>75%</th>\n",
       "      <td>1964.500000</td>\n",
       "    </tr>\n",
       "    <tr>\n",
       "      <th>max</th>\n",
       "      <td>53027.000000</td>\n",
       "    </tr>\n",
       "  </tbody>\n",
       "</table>\n",
       "</div>"
      ],
      "text/plain": [
       "              Count\n",
       "count     67.000000\n",
       "mean    1889.656716\n",
       "std     6508.437984\n",
       "min        1.000000\n",
       "25%      106.000000\n",
       "50%      260.000000\n",
       "75%     1964.500000\n",
       "max    53027.000000"
      ]
     },
     "execution_count": 49,
     "metadata": {
      "tags": []
     },
     "output_type": "execute_result"
    }
   ],
   "source": [
    "count_df.describe()"
   ]
  },
  {
   "cell_type": "code",
   "execution_count": 50,
   "metadata": {
    "colab": {
     "base_uri": "https://localhost:8080/",
     "height": 354
    },
    "colab_type": "code",
    "id": "VjE_Uc6jcdvf",
    "outputId": "f3fa0f45-aed0-4493-9cf6-e47a98877a0d"
   },
   "outputs": [
    {
     "data": {
      "image/png": "[encoded data removed]",
      "text/plain": [
       "<Figure size 432x288 with 1 Axes>"
      ]
     },
     "metadata": {
      "tags": []
     },
     "output_type": "display_data"
    }
   ],
   "source": [
    "index = count_df.Breed\n",
    "plt.bar(index, count_df.Count)\n",
    "plt.xticks(index, fontsize=5, rotation=90)\n",
    "plt.show()"
   ]
  },
  {
   "cell_type": "code",
   "execution_count": 0,
   "metadata": {
    "colab": {},
    "colab_type": "code",
    "id": "yt32q9zryrFd"
   },
   "outputs": [],
   "source": [
    "img_width, img_height = 224, 224\n",
    "\n",
    "# number of epochs to train top model\n",
    "epochs = 20\n",
    "\n",
    "# batch size used by flow_from_directory and predict_generator\n",
    "batch_size = 20"
   ]
  },
  {
   "cell_type": "markdown",
   "metadata": {
    "colab_type": "text",
    "id": "pNl-RwnQxMs6"
   },
   "source": [
    "# Remove classes\n",
    "Remove classes that have image quantities less than the 25th percentile or more than the 65th percentile."
   ]
  },
  {
   "cell_type": "code",
   "execution_count": 52,
   "metadata": {
    "colab": {
     "base_uri": "https://localhost:8080/",
     "height": 70
    },
    "colab_type": "code",
    "id": "XZar8ONLyLRG",
    "outputId": "a236cb20-f584-4018-e8ea-2523176d79f9"
   },
   "outputs": [
    {
     "name": "stdout",
     "output_type": "stream",
     "text": [
      "[('Russian Blue', 1870), ('Maine Coon', 1418), ('Bombay', 1835), ('Exotic Shorthair', 471), ('Abyssinian', 255), ('Norwegian Forest Cat', 580), ('Oriental Short Hair', 491), ('American Bobtail', 991), ('Burmese', 344), ('Extra-Toes Cat - Hemingway Polydactyl', 1184), ('Himalayan', 1301), ('Scottish Fold', 380), ('Snowshoe', 1625), ('British Shorthair', 567), ('Birman', 227), ('Turkish Van', 815), ('Tonkinese', 260), ('Turkish Angora', 750), ('Sphynx - Hairless Cat', 209), ('Balinese', 254), ('Egyptian Mau', 305)]\n"
     ]
    },
    {
     "data": {
      "text/plain": [
       "768.1904761904761"
      ]
     },
     "execution_count": 52,
     "metadata": {
      "tags": []
     },
     "output_type": "execute_result"
    }
   ],
   "source": [
    "train_breeds_list = []\n",
    "\n",
    "for i in range(len(count_df)):\n",
    "  if count_df.iloc[i, 1] < 2000 and count_df.iloc[i, 1] > 200:\n",
    "    train_breeds_list.append((count_df.iloc[i, 0], count_df.iloc[i, 1]))\n",
    "\n",
    "print(train_breeds_list)\n",
    "\n",
    "train_breeds_df = pd.DataFrame(data=train_breeds_list, columns=['Breed', 'Count'])\n",
    "\n",
    "train_breeds_df['Count'].mean()"
   ]
  },
  {
   "cell_type": "code",
   "execution_count": 53,
   "metadata": {
    "colab": {
     "base_uri": "https://localhost:8080/",
     "height": 287
    },
    "colab_type": "code",
    "id": "0N_q4p3qe_vc",
    "outputId": "b7717d9d-a348-484d-ead0-676a1beef10f"
   },
   "outputs": [
    {
     "data": {
      "text/html": [
       "<div>\n",
       "<style scoped>\n",
       "    .dataframe tbody tr th:only-of-type {\n",
       "        vertical-align: middle;\n",
       "    }\n",
       "\n",
       "    .dataframe tbody tr th {\n",
       "        vertical-align: top;\n",
       "    }\n",
       "\n",
       "    .dataframe thead th {\n",
       "        text-align: right;\n",
       "    }\n",
       "</style>\n",
       "<table border=\"1\" class=\"dataframe\">\n",
       "  <thead>\n",
       "    <tr style=\"text-align: right;\">\n",
       "      <th></th>\n",
       "      <th>Count</th>\n",
       "    </tr>\n",
       "  </thead>\n",
       "  <tbody>\n",
       "    <tr>\n",
       "      <th>count</th>\n",
       "      <td>21.000000</td>\n",
       "    </tr>\n",
       "    <tr>\n",
       "      <th>mean</th>\n",
       "      <td>768.190476</td>\n",
       "    </tr>\n",
       "    <tr>\n",
       "      <th>std</th>\n",
       "      <td>556.561373</td>\n",
       "    </tr>\n",
       "    <tr>\n",
       "      <th>min</th>\n",
       "      <td>209.000000</td>\n",
       "    </tr>\n",
       "    <tr>\n",
       "      <th>25%</th>\n",
       "      <td>305.000000</td>\n",
       "    </tr>\n",
       "    <tr>\n",
       "      <th>50%</th>\n",
       "      <td>567.000000</td>\n",
       "    </tr>\n",
       "    <tr>\n",
       "      <th>75%</th>\n",
       "      <td>1184.000000</td>\n",
       "    </tr>\n",
       "    <tr>\n",
       "      <th>max</th>\n",
       "      <td>1870.000000</td>\n",
       "    </tr>\n",
       "  </tbody>\n",
       "</table>\n",
       "</div>"
      ],
      "text/plain": [
       "             Count\n",
       "count    21.000000\n",
       "mean    768.190476\n",
       "std     556.561373\n",
       "min     209.000000\n",
       "25%     305.000000\n",
       "50%     567.000000\n",
       "75%    1184.000000\n",
       "max    1870.000000"
      ]
     },
     "execution_count": 53,
     "metadata": {
      "tags": []
     },
     "output_type": "execute_result"
    }
   ],
   "source": [
    "# inspect the dataframe\n",
    "train_breeds_df.describe()"
   ]
  },
  {
   "cell_type": "code",
   "execution_count": 54,
   "metadata": {
    "colab": {
     "base_uri": "https://localhost:8080/",
     "height": 354
    },
    "colab_type": "code",
    "id": "N2_NIttqfAAw",
    "outputId": "08fd924b-8d4f-40dd-a31a-532220f4a1da"
   },
   "outputs": [
    {
     "data": {
      "image/png": "[encoded data removed]",
      "text/plain": [
       "<Figure size 432x288 with 1 Axes>"
      ]
     },
     "metadata": {
      "tags": []
     },
     "output_type": "display_data"
    }
   ],
   "source": [
    "plt.bar(train_breeds_df['Breed'], train_breeds_df['Count'])\n",
    "plt.xticks(train_breeds_df['Breed'], fontsize=5, rotation=90)\n",
    "plt.show()"
   ]
  },
  {
   "cell_type": "code",
   "execution_count": 55,
   "metadata": {
    "colab": {
     "base_uri": "https://localhost:8080/",
     "height": 167
    },
    "colab_type": "code",
    "id": "SeHd5VZ5fAJF",
    "outputId": "eba61c7a-44e2-40ef-959b-196983fa973c"
   },
   "outputs": [
    {
     "data": {
      "text/html": [
       "<div>\n",
       "<style scoped>\n",
       "    .dataframe tbody tr th:only-of-type {\n",
       "        vertical-align: middle;\n",
       "    }\n",
       "\n",
       "    .dataframe tbody tr th {\n",
       "        vertical-align: top;\n",
       "    }\n",
       "\n",
       "    .dataframe thead th {\n",
       "        text-align: right;\n",
       "    }\n",
       "</style>\n",
       "<table border=\"1\" class=\"dataframe\">\n",
       "  <thead>\n",
       "    <tr style=\"text-align: right;\">\n",
       "      <th></th>\n",
       "      <th>Breed</th>\n",
       "    </tr>\n",
       "  </thead>\n",
       "  <tbody>\n",
       "    <tr>\n",
       "      <th>count</th>\n",
       "      <td>21</td>\n",
       "    </tr>\n",
       "    <tr>\n",
       "      <th>unique</th>\n",
       "      <td>21</td>\n",
       "    </tr>\n",
       "    <tr>\n",
       "      <th>top</th>\n",
       "      <td>Abyssinian</td>\n",
       "    </tr>\n",
       "    <tr>\n",
       "      <th>freq</th>\n",
       "      <td>1</td>\n",
       "    </tr>\n",
       "  </tbody>\n",
       "</table>\n",
       "</div>"
      ],
      "text/plain": [
       "             Breed\n",
       "count           21\n",
       "unique          21\n",
       "top     Abyssinian\n",
       "freq             1"
      ]
     },
     "execution_count": 55,
     "metadata": {
      "tags": []
     },
     "output_type": "execute_result"
    }
   ],
   "source": [
    "train_breeds_df.select_dtypes(include=['object']).describe()"
   ]
  },
  {
   "cell_type": "code",
   "execution_count": 56,
   "metadata": {
    "colab": {
     "base_uri": "https://localhost:8080/",
     "height": 383
    },
    "colab_type": "code",
    "id": "MbpIWuCifARH",
    "outputId": "4a9f8517-d3d5-4b3c-8e93-62c0da4d1dca"
   },
   "outputs": [
    {
     "data": {
      "text/plain": [
       "0                              Russian Blue\n",
       "1                                Maine Coon\n",
       "2                                    Bombay\n",
       "3                          Exotic Shorthair\n",
       "4                                Abyssinian\n",
       "5                      Norwegian Forest Cat\n",
       "6                       Oriental Short Hair\n",
       "7                          American Bobtail\n",
       "8                                   Burmese\n",
       "9     Extra-Toes Cat - Hemingway Polydactyl\n",
       "10                                Himalayan\n",
       "11                            Scottish Fold\n",
       "12                                 Snowshoe\n",
       "13                        British Shorthair\n",
       "14                                   Birman\n",
       "15                              Turkish Van\n",
       "16                                Tonkinese\n",
       "17                           Turkish Angora\n",
       "18                    Sphynx - Hairless Cat\n",
       "19                                 Balinese\n",
       "20                             Egyptian Mau\n",
       "Name: Breed, dtype: object"
      ]
     },
     "execution_count": 56,
     "metadata": {
      "tags": []
     },
     "output_type": "execute_result"
    }
   ],
   "source": [
    "train_breeds_df['Breed']"
   ]
  },
  {
   "cell_type": "markdown",
   "metadata": {
    "colab_type": "text",
    "id": "vVxvMsT3gB-d"
   },
   "source": [
    "## Minority class upsampling\n",
    "\n",
    "The spread of the data in terms of image quantities is better than before. However we still cannot ignore the obvious imbalances as the values range from about 200 to 1900. \n",
    "\n",
    "To handle this, we artificially create copies of the images, with some augmentation, in classes that represent the 50th percentile and below.\n",
    "\n"
   ]
  },
  {
   "cell_type": "code",
   "execution_count": 0,
   "metadata": {
    "colab": {},
    "colab_type": "code",
    "id": "VtwMVSLFfAZc"
   },
   "outputs": [],
   "source": [
    "perc_25_list = train_breeds_df[train_breeds_df['Count'] <= 305].Breed\n",
    "perc_50_list = train_breeds_df[(train_breeds_df['Count'] > 305) & (train_breeds_df['Count'] <= 567)].Breed\n",
    "perc_65_list = train_breeds_df[(train_breeds_df['Count'] > 567) & (train_breeds_df['Count'] <= 800)].Breed"
   ]
  },
  {
   "cell_type": "code",
   "execution_count": 58,
   "metadata": {
    "colab": {
     "base_uri": "https://localhost:8080/",
     "height": 283
    },
    "colab_type": "code",
    "id": "EHPgkNZkfAiZ",
    "outputId": "ded34146-a5da-4e62-e87e-1e1dfc2eae8d"
   },
   "outputs": [
    {
     "name": "stdout",
     "output_type": "stream",
     "text": [
      "4                Abyssinian\n",
      "14                   Birman\n",
      "16                Tonkinese\n",
      "18    Sphynx - Hairless Cat\n",
      "19                 Balinese\n",
      "20             Egyptian Mau\n",
      "Name: Breed, dtype: object\n",
      "3        Exotic Shorthair\n",
      "6     Oriental Short Hair\n",
      "8                 Burmese\n",
      "11          Scottish Fold\n",
      "13      British Shorthair\n",
      "Name: Breed, dtype: object\n",
      "5     Norwegian Forest Cat\n",
      "17          Turkish Angora\n",
      "Name: Breed, dtype: object\n"
     ]
    }
   ],
   "source": [
    "print(perc_25_list)\n",
    "print(perc_50_list)\n",
    "print(perc_65_list)"
   ]
  },
  {
   "cell_type": "markdown",
   "metadata": {
    "colab_type": "text",
    "id": "in9pBUpiiAl5"
   },
   "source": [
    "Copy and augment images from 25th percentile 2 times, 1 time for those between the 25th and 50th percentile, and 1 time for those between the 50th and 65th percentile."
   ]
  },
  {
   "cell_type": "code",
   "execution_count": 0,
   "metadata": {
    "colab": {},
    "colab_type": "code",
    "id": "PQWn8Tg9iM2y"
   },
   "outputs": [],
   "source": [
    "from PIL import Image\n",
    "from PIL import ImageFilter\n",
    "\n",
    "if os.path.exists(os.path.join(home_dir, 'cats_data')):\n",
    "  shutil.rmtree(os.path.join(home_dir, 'cats_data'))\n",
    "\n",
    "# make directories for train, val and test\n",
    "root_dir = os.path.join(home_dir, 'cats_data')\n",
    "os.makedirs(root_dir)\n",
    "\n",
    "# make train, val and test dirs\n",
    "train_dir = os.path.join(root_dir, 'train')\n",
    "validation_dir = os.path.join(root_dir, 'validation')\n",
    "test_dir = os.path.join(root_dir, 'test')\n",
    "\n",
    "os.makedirs(train_dir)\n",
    "os.makedirs(validation_dir)\n",
    "os.makedirs(test_dir)\n",
    "\n",
    "# make folders representing each breed in each train and test dir\n",
    "for label in train_breeds_df['Breed'].unique():\n",
    "  os.makedirs(os.path.join(train_dir, label))\n",
    "  os.makedirs(os.path.join(validation_dir, label))\n",
    "  os.makedirs(os.path.join(test_dir, label))"
   ]
  },
  {
   "cell_type": "code",
   "execution_count": 60,
   "metadata": {
    "colab": {
     "base_uri": "https://localhost:8080/",
     "height": 627
    },
    "colab_type": "code",
    "id": "vkbGVk84iM5i",
    "outputId": "d74df66d-e20e-4de0-cd18-84df213db7d3"
   },
   "outputs": [
    {
     "name": "stdout",
     "output_type": "stream",
     "text": [
      "Number of images in Abyssinian folder: 1530\n",
      "Number of images in Abyssinian folder: 2805\n",
      "Number of images in Birman folder: 1362\n",
      "Number of images in Birman folder: 2497\n",
      "Number of images in Tonkinese folder: 1560\n",
      "Number of images in Tonkinese folder: 2860\n",
      "Number of images in Sphynx - Hairless Cat folder: 1254\n",
      "Number of images in Sphynx - Hairless Cat folder: 2299\n",
      "Number of images in Balinese folder: 1524\n",
      "Number of images in Balinese folder: 2794\n",
      "Number of images in Egyptian Mau folder: 1830\n",
      "Number of images in Egyptian Mau folder: 3355\n",
      "Number of images in Exotic Shorthair folder: 2826\n",
      "Number of images in Oriental Short Hair folder: 2946\n",
      "Number of images in Burmese folder: 2064\n",
      "Number of images in Scottish Fold folder: 2280\n",
      "Number of images in British Shorthair folder: 3402\n",
      "Number of images in Norwegian Forest Cat folder: 3480\n",
      "Number of images in Turkish Angora folder: 4500\n"
     ]
    },
    {
     "data": {
      "image/png": "[encoded data removed]",
      "text/plain": [
       "<Figure size 432x288 with 1 Axes>"
      ]
     },
     "metadata": {
      "tags": []
     },
     "output_type": "display_data"
    }
   ],
   "source": [
    "num_images_list = []\n",
    "\n",
    "# for 25th percentile and below\n",
    "for breed in perc_25_list:\n",
    "  folder_dir = os.path.join(home_dir, f'cats/images/{breed}')\n",
    "  filelist = os.listdir(folder_dir)\n",
    "  for count in range(0, 2):\n",
    "    for imagefile in filelist:\n",
    "      file_dir = os.path.join(folder_dir, imagefile)\n",
    "      img = Image.open(file_dir)\n",
    "      img = img.convert(\"RGB\")\n",
    "      r, g, b = img.split()\n",
    "\n",
    "      r = r.convert(\"RGB\")\n",
    "      g = g.convert(\"RGB\")\n",
    "      b = b.convert(\"RGB\")\n",
    "      img_blur = img.filter(ImageFilter.GaussianBlur)\n",
    "      img_unsharp = img.filter(ImageFilter.UnsharpMask)\n",
    "      \n",
    "      r.save(os.path.join(folder_dir, (str(count) + 'r_' + imagefile)))\n",
    "      g.save(os.path.join(folder_dir, (str(count) + 'g_' + imagefile)))\n",
    "      b.save(os.path.join(folder_dir, (str(count) + 'b_' + imagefile)))\n",
    "      img_blur.save(os.path.join(folder_dir, (str(count) + 'blur_' + imagefile)))\n",
    "      img_unsharp.save(os.path.join(folder_dir, (str(count) + 'un_' + imagefile)))\n",
    "\n",
    "    num_images = len(os.listdir(folder_dir))\n",
    "    print(f\"Number of images in {breed} folder: {num_images}\")\n",
    "\n",
    "  num_images_list.append((breed, num_images))\n",
    "\n",
    "\n",
    "\n",
    "# for 25th-50th percentile\n",
    "for breed in perc_50_list:\n",
    "  folder_dir = os.path.join(home_dir, f'cats/images/{breed}')\n",
    "  filelist = os.listdir(folder_dir)\n",
    "  for count in range(0, 1):\n",
    "    for imagefile in filelist:\n",
    "      file_dir = os.path.join(folder_dir, imagefile)\n",
    "      img = Image.open(file_dir)\n",
    "      img = img.convert(\"RGB\")\n",
    "      r, g, b = img.split()\n",
    "\n",
    "      r = r.convert(\"RGB\")\n",
    "      g = g.convert(\"RGB\")\n",
    "      b = b.convert(\"RGB\")\n",
    "      img_blur = img.filter(ImageFilter.GaussianBlur)\n",
    "      img_unsharp = img.filter(ImageFilter.UnsharpMask)\n",
    "\n",
    "      r.save(os.path.join(folder_dir, (str(count) + 'r_' + imagefile)))\n",
    "      g.save(os.path.join(folder_dir, (str(count) + 'g_' + imagefile)))\n",
    "      b.save(os.path.join(folder_dir, (str(count) + 'b_' + imagefile)))\n",
    "      img_blur.save(os.path.join(folder_dir, (str(count) + 'blur_' + imagefile)))\n",
    "      img_unsharp.save(os.path.join(folder_dir, (str(count) + 'un_' + imagefile)))\n",
    "\n",
    "    num_images = len(os.listdir(folder_dir))\n",
    "    print(f\"Number of images in {breed} folder: {num_images}\")\n",
    "\n",
    "  num_images_list.append((breed, num_images))\n",
    "\n",
    "\n",
    "# for 50th-65th percentile\n",
    "for breed in perc_65_list:\n",
    "  folder_dir = os.path.join(home_dir, f'cats/images/{breed}')\n",
    "  filelist = os.listdir(folder_dir)\n",
    "  for count in range(0, 1):\n",
    "    for imagefile in filelist:\n",
    "      file_dir = os.path.join(folder_dir, imagefile)\n",
    "      img = Image.open(file_dir)\n",
    "      img = img.convert(\"RGB\")\n",
    "      r, g, b = img.split()\n",
    "\n",
    "      r = r.convert(\"RGB\")\n",
    "      g = g.convert(\"RGB\")\n",
    "      b = b.convert(\"RGB\")\n",
    "      img_blur = img.filter(ImageFilter.GaussianBlur)\n",
    "      img_unsharp = img.filter(ImageFilter.UnsharpMask)\n",
    "\n",
    "      r.save(os.path.join(folder_dir, (str(count) + 'r_' + imagefile)))\n",
    "      g.save(os.path.join(folder_dir, (str(count) + 'g_' + imagefile)))\n",
    "      b.save(os.path.join(folder_dir, (str(count) + 'b_' + imagefile)))\n",
    "      img_blur.save(os.path.join(folder_dir, (str(count) + 'blur_' + imagefile)))\n",
    "      img_unsharp.save(os.path.join(folder_dir, (str(count) + 'un_' + imagefile)))\n",
    "\n",
    "    num_images = len(os.listdir(folder_dir))\n",
    "    print(f\"Number of images in {breed} folder: {num_images}\")\n",
    "\n",
    "  num_images_list.append((breed, num_images))\n",
    "\n",
    "\n",
    "\n",
    "count_df = pd.DataFrame(data=num_images_list, columns=['Breed', 'Count'])\n",
    "\n",
    "plt.bar(count_df['Breed'], count_df['Count'])\n",
    "plt.xticks(count_df['Breed'], fontsize=5, rotation=90)\n",
    "plt.show()"
   ]
  },
  {
   "cell_type": "code",
   "execution_count": 61,
   "metadata": {
    "colab": {
     "base_uri": "https://localhost:8080/",
     "height": 310
    },
    "colab_type": "code",
    "id": "PRkwzrd4iM-a",
    "outputId": "84577396-b699-40a4-b2e3-2a608159aa1f"
   },
   "outputs": [
    {
     "data": {
      "image/png": "[encoded data removed]",
      "text/plain": [
       "<Figure size 432x288 with 1 Axes>"
      ]
     },
     "metadata": {
      "tags": []
     },
     "output_type": "display_data"
    }
   ],
   "source": [
    "train_breeds_df = train_breeds_df.sort_values(by=['Breed'])\n",
    "count_df = count_df.sort_values(by=['Breed'])\n",
    "\n",
    "train_breeds_df.update(count_df)\n",
    "\n",
    "plt.bar(train_breeds_df['Breed'], train_breeds_df['Count'])\n",
    "plt.xticks(train_breeds_df['Breed'], fontsize=5, rotation=90)\n",
    "plt.show()"
   ]
  },
  {
   "cell_type": "markdown",
   "metadata": {
    "colab_type": "text",
    "id": "LRCqygFAR39j"
   },
   "source": [
    "# Split Data into Train, Validation and Test Folders"
   ]
  },
  {
   "cell_type": "code",
   "execution_count": 0,
   "metadata": {
    "colab": {},
    "colab_type": "code",
    "id": "754-ZJJbR1OM"
   },
   "outputs": [],
   "source": [
    "if os.path.exists(os.path.join(home_dir, 'cats_data')):\n",
    "  shutil.rmtree(os.path.join(home_dir, 'cats_data'))\n",
    "\n",
    "# make directories for train, val and test\n",
    "root_dir = os.path.join(home_dir, 'cats_data')\n",
    "os.makedirs(root_dir)\n",
    "\n",
    "# make train, val and test dirs\n",
    "train_dir = os.path.join(root_dir, 'train')\n",
    "validation_dir = os.path.join(root_dir, 'validation')\n",
    "test_dir = os.path.join(root_dir, 'test')\n",
    "\n",
    "os.makedirs(train_dir)\n",
    "os.makedirs(validation_dir)\n",
    "os.makedirs(test_dir)\n",
    "\n",
    "# make folders representing each breed in each train and test dir\n",
    "for breed in train_breeds_df['Breed'].unique():\n",
    "  os.makedirs(os.path.join(train_dir, breed))\n",
    "  os.makedirs(os.path.join(validation_dir, breed))\n",
    "  os.makedirs(os.path.join(test_dir, breed))"
   ]
  },
  {
   "cell_type": "code",
   "execution_count": 63,
   "metadata": {
    "colab": {
     "base_uri": "https://localhost:8080/",
     "height": 1000
    },
    "colab_type": "code",
    "id": "IEil5jZviM8N",
    "outputId": "d2b991c5-14f0-47c5-f664-ae301b899db3"
   },
   "outputs": [
    {
     "name": "stdout",
     "output_type": "stream",
     "text": [
      "Copying 1978 images into Exotic Shorthair's' train folder...\n",
      "Copying 565 images into Exotic Shorthair's' validation folder...\n",
      "Copying 282 images into Exotic Shorthair's' test folder...\n",
      "Copying 1963 images into Abyssinian's' train folder...\n",
      "Copying 561 images into Abyssinian's' validation folder...\n",
      "Copying 280 images into Abyssinian's' test folder...\n",
      "Copying 2436 images into Norwegian Forest Cat's' train folder...\n",
      "Copying 696 images into Norwegian Forest Cat's' validation folder...\n",
      "Copying 348 images into Norwegian Forest Cat's' test folder...\n",
      "Copying 2062 images into Oriental Short Hair's' train folder...\n",
      "Copying 589 images into Oriental Short Hair's' validation folder...\n",
      "Copying 294 images into Oriental Short Hair's' test folder...\n",
      "Copying 1444 images into Burmese's' train folder...\n",
      "Copying 412 images into Burmese's' validation folder...\n",
      "Copying 206 images into Burmese's' test folder...\n",
      "Copying 1596 images into Scottish Fold's' train folder...\n",
      "Copying 456 images into Scottish Fold's' validation folder...\n",
      "Copying 228 images into Scottish Fold's' test folder...\n",
      "Copying 2381 images into British Shorthair's' train folder...\n",
      "Copying 680 images into British Shorthair's' validation folder...\n",
      "Copying 340 images into British Shorthair's' test folder...\n",
      "Copying 2381 images into British Shorthair's' train folder...\n",
      "Copying 680 images into British Shorthair's' validation folder...\n",
      "Copying 340 images into British Shorthair's' test folder...\n",
      "Copying 1747 images into Birman's' train folder...\n",
      "Copying 499 images into Birman's' validation folder...\n",
      "Copying 249 images into Birman's' test folder...\n",
      "Copying 1747 images into Birman's' train folder...\n",
      "Copying 499 images into Birman's' validation folder...\n",
      "Copying 249 images into Birman's' test folder...\n",
      "Copying 570 images into Turkish Van's' train folder...\n",
      "Copying 163 images into Turkish Van's' validation folder...\n",
      "Copying 81 images into Turkish Van's' test folder...\n",
      "Copying 2001 images into Tonkinese's' train folder...\n",
      "Copying 572 images into Tonkinese's' validation folder...\n",
      "Copying 286 images into Tonkinese's' test folder...\n",
      "Copying 2001 images into Tonkinese's' train folder...\n",
      "Copying 572 images into Tonkinese's' validation folder...\n",
      "Copying 286 images into Tonkinese's' test folder...\n",
      "Copying 3150 images into Turkish Angora's' train folder...\n",
      "Copying 900 images into Turkish Angora's' validation folder...\n",
      "Copying 450 images into Turkish Angora's' test folder...\n",
      "Copying 3150 images into Turkish Angora's' train folder...\n",
      "Copying 900 images into Turkish Angora's' validation folder...\n",
      "Copying 450 images into Turkish Angora's' test folder...\n",
      "Copying 1609 images into Sphynx - Hairless Cat's' train folder...\n",
      "Copying 459 images into Sphynx - Hairless Cat's' validation folder...\n",
      "Copying 229 images into Sphynx - Hairless Cat's' test folder...\n",
      "Copying 1609 images into Sphynx - Hairless Cat's' train folder...\n",
      "Copying 459 images into Sphynx - Hairless Cat's' validation folder...\n",
      "Copying 229 images into Sphynx - Hairless Cat's' test folder...\n",
      "Copying 1955 images into Balinese's' train folder...\n",
      "Copying 558 images into Balinese's' validation folder...\n",
      "Copying 279 images into Balinese's' test folder...\n",
      "Copying 1955 images into Balinese's' train folder...\n",
      "Copying 558 images into Balinese's' validation folder...\n",
      "Copying 279 images into Balinese's' test folder...\n",
      "Copying 2348 images into Egyptian Mau's' train folder...\n",
      "Copying 671 images into Egyptian Mau's' validation folder...\n",
      "Copying 335 images into Egyptian Mau's' test folder...\n",
      "Copying 2348 images into Egyptian Mau's' train folder...\n",
      "Copying 671 images into Egyptian Mau's' validation folder...\n",
      "Copying 335 images into Egyptian Mau's' test folder...\n"
     ]
    }
   ],
   "source": [
    "np.random.seed(42)\n",
    "\n",
    "for i, (r, d, f) in enumerate(os.walk(os.path.join(home_dir, 'cats/images'))):\n",
    "  label = r.split('/')[-1]\n",
    "\n",
    "  if i == 0:\n",
    "    continue\n",
    "\n",
    "  for breed in train_breeds_df['Breed']:\n",
    "    if label == breed:\n",
    "      filenames = f\n",
    "      # shuffle filenames\n",
    "      np.random.shuffle(filenames)\n",
    "      # train on a smaller portion of the dataset (hardware concerns)\n",
    "      file_length = len(filenames)\n",
    "\n",
    "      train_file_length = int(file_length * 0.7)\n",
    "      validation_file_length = int(file_length * 0.2)\n",
    "      test_file_length = int(file_length * 0.1)\n",
    "      \n",
    "      filenames_array = np.array(filenames)\n",
    "      train_files= filenames_array[:train_file_length]\n",
    "      validation_files = filenames_array[train_file_length: (train_file_length + validation_file_length)]\n",
    "      test_files= filenames_array[(train_file_length + validation_file_length):(train_file_length + validation_file_length + test_file_length)]\n",
    "\n",
    "      # get the full path of each image in the train and test splits\n",
    "      train_filename_list = []\n",
    "      validation_filename_list = []\n",
    "      test_filename_list = []\n",
    "\n",
    "      for filename in train_files:\n",
    "        train_filename_list.append(os.path.join(home_dir, f'cats/images/{label}/{filename}'))\n",
    "      for filename in validation_files:\n",
    "        validation_filename_list.append(os.path.join(home_dir, f'cats/images/{label}/{filename}'))\n",
    "      for filename in test_files:\n",
    "        test_filename_list.append(os.path.join(home_dir, f'cats/images/{label}/{filename}'))\n",
    "\n",
    "      # copy into cats_data folder\n",
    "      print(f\"Copying {len(train_filename_list)} images into {label}'s' train folder...\")\n",
    "      for name in train_filename_list:\n",
    "        shutil.copy(name, os.path.join(home_dir, f'cats_data/train/{label}'))\n",
    "\n",
    "      print(f\"Copying {len(validation_filename_list)} images into {label}'s' validation folder...\")\n",
    "      for name in validation_filename_list:\n",
    "        shutil.copy(name, os.path.join(home_dir, f'cats_data/validation/{label}'))\n",
    "\n",
    "      print(f\"Copying {len(test_filename_list)} images into {label}'s' test folder...\")\n",
    "      for name in test_filename_list:\n",
    "        shutil.copy(name, os.path.join(home_dir, f'cats_data/test/{label}'))\n",
    "\n",
    "    else:\n",
    "      continue"
   ]
  },
  {
   "cell_type": "markdown",
   "metadata": {
    "colab_type": "text",
    "id": "yv452d88pLWB"
   },
   "source": [
    "# Improving the Model (Image Augmentation)\n",
    "We will augment the images to provide more samples for the model to train on.\n",
    "\n",
    "Augmentation simply changes your images during model training, using transforms such as horizontal flips. Thus, we get a cheap way of extending the dataset beyond what we already have.\n"
   ]
  },
  {
   "cell_type": "code",
   "execution_count": 64,
   "metadata": {
    "colab": {
     "base_uri": "https://localhost:8080/",
     "height": 50
    },
    "colab_type": "code",
    "id": "-BMYhYGDg9hN",
    "outputId": "123bbf12-a0ff-433d-99bc-a5cd44d7a280"
   },
   "outputs": [
    {
     "name": "stdout",
     "output_type": "stream",
     "text": [
      "Found 31774 images belonging to 14 classes.\n",
      "Found 11271 images belonging to 14 classes.\n"
     ]
    }
   ],
   "source": [
    "batch_size = 50\n",
    "\n",
    "train_datagen = ImageDataGenerator(\n",
    "    rescale=1./255,\n",
    "    rotation_range=40,\n",
    "    width_shift_range=0.2,\n",
    "    height_shift_range=0.2,\n",
    "    shear_range=0.2,\n",
    "    zoom_range=0.2,\n",
    "    horizontal_flip=True,\n",
    "    fill_mode='nearest'\n",
    ")\n",
    "\n",
    "train_generator = train_datagen.flow_from_directory(\n",
    "    train_dir,\n",
    "    target_size=(img_width, img_height),\n",
    "    batch_size=batch_size,\n",
    "    class_mode='categorical',\n",
    "    shuffle=False\n",
    ")\n",
    "\n",
    "num_train_samples = len(train_generator.filenames)\n",
    "num_iterations_train = int(math.ceil(num_train_samples/batch_size))\n",
    "\n",
    "num_classes = len(train_generator.class_indices)\n",
    "\n",
    "\n",
    "# we do the same for the validation data\n",
    "val_datagen = ImageDataGenerator(\n",
    "    rescale=1./255,\n",
    "    rotation_range=40,\n",
    "    width_shift_range=0.2,\n",
    "    height_shift_range=0.2,\n",
    "    shear_range=0.2,\n",
    "    zoom_range=0.2,\n",
    "    horizontal_flip=True,\n",
    "    fill_mode='nearest'\n",
    ")\n",
    "\n",
    "val_generator = val_datagen.flow_from_directory(\n",
    "    validation_dir,\n",
    "    target_size=(img_width, img_height),\n",
    "    batch_size=batch_size,\n",
    "    class_mode='categorical',\n",
    "    shuffle=False\n",
    ")\n",
    "\n",
    "num_val_samples = len(val_generator.filenames)\n",
    "\n",
    "num_iterations_val = int(math.ceil(num_val_samples/batch_size))"
   ]
  },
  {
   "cell_type": "markdown",
   "metadata": {
    "colab_type": "text",
    "id": "kIiF-vANXwKN"
   },
   "source": [
    "## Transfer Learning\n",
    "Here, we load in the VGG16 model, freeze the weights of the convolutional layers, slice off the top layers, and add our own FC layers and train on them."
   ]
  },
  {
   "cell_type": "code",
   "execution_count": 0,
   "metadata": {
    "colab": {},
    "colab_type": "code",
    "id": "imaET236g9nI"
   },
   "outputs": [],
   "source": [
    "model = applications.VGG16(include_top=False,\n",
    "                           input_shape=(img_width, img_height, 3),\n",
    "                           weights='imagenet')"
   ]
  },
  {
   "cell_type": "code",
   "execution_count": 0,
   "metadata": {
    "colab": {},
    "colab_type": "code",
    "id": "_XyhMbKMBkfm"
   },
   "outputs": [],
   "source": [
    "# freeze the layer weights to prevent training effect in convolutional layers\n",
    "\n",
    "for layer in model.layers:\n",
    "  layer.trainable = False"
   ]
  },
  {
   "cell_type": "code",
   "execution_count": 67,
   "metadata": {
    "colab": {
     "base_uri": "https://localhost:8080/",
     "height": 783
    },
    "colab_type": "code",
    "id": "QxHajKnCg9pl",
    "outputId": "79408a21-61d4-4724-9bf3-7dc5cd882d7d"
   },
   "outputs": [
    {
     "name": "stdout",
     "output_type": "stream",
     "text": [
      "Model: \"vgg16\"\n",
      "_________________________________________________________________\n",
      "Layer (type)                 Output Shape              Param #   \n",
      "=================================================================\n",
      "input_3 (InputLayer)         [(None, 224, 224, 3)]     0         \n",
      "_________________________________________________________________\n",
      "block1_conv1 (Conv2D)        (None, 224, 224, 64)      1792      \n",
      "_________________________________________________________________\n",
      "block1_conv2 (Conv2D)        (None, 224, 224, 64)      36928     \n",
      "_________________________________________________________________\n",
      "block1_pool (MaxPooling2D)   (None, 112, 112, 64)      0         \n",
      "_________________________________________________________________\n",
      "block2_conv1 (Conv2D)        (None, 112, 112, 128)     73856     \n",
      "_________________________________________________________________\n",
      "block2_conv2 (Conv2D)        (None, 112, 112, 128)     147584    \n",
      "_________________________________________________________________\n",
      "block2_pool (MaxPooling2D)   (None, 56, 56, 128)       0         \n",
      "_________________________________________________________________\n",
      "block3_conv1 (Conv2D)        (None, 56, 56, 256)       295168    \n",
      "_________________________________________________________________\n",
      "block3_conv2 (Conv2D)        (None, 56, 56, 256)       590080    \n",
      "_________________________________________________________________\n",
      "block3_conv3 (Conv2D)        (None, 56, 56, 256)       590080    \n",
      "_________________________________________________________________\n",
      "block3_pool (MaxPooling2D)   (None, 28, 28, 256)       0         \n",
      "_________________________________________________________________\n",
      "block4_conv1 (Conv2D)        (None, 28, 28, 512)       1180160   \n",
      "_________________________________________________________________\n",
      "block4_conv2 (Conv2D)        (None, 28, 28, 512)       2359808   \n",
      "_________________________________________________________________\n",
      "block4_conv3 (Conv2D)        (None, 28, 28, 512)       2359808   \n",
      "_________________________________________________________________\n",
      "block4_pool (MaxPooling2D)   (None, 14, 14, 512)       0         \n",
      "_________________________________________________________________\n",
      "block5_conv1 (Conv2D)        (None, 14, 14, 512)       2359808   \n",
      "_________________________________________________________________\n",
      "block5_conv2 (Conv2D)        (None, 14, 14, 512)       2359808   \n",
      "_________________________________________________________________\n",
      "block5_conv3 (Conv2D)        (None, 14, 14, 512)       2359808   \n",
      "_________________________________________________________________\n",
      "block5_pool (MaxPooling2D)   (None, 7, 7, 512)         0         \n",
      "=================================================================\n",
      "Total params: 14,714,688\n",
      "Trainable params: 0\n",
      "Non-trainable params: 14,714,688\n",
      "_________________________________________________________________\n"
     ]
    }
   ],
   "source": [
    "model.summary()"
   ]
  },
  {
   "cell_type": "code",
   "execution_count": 0,
   "metadata": {
    "colab": {},
    "colab_type": "code",
    "id": "0e3mIr0vg9sl"
   },
   "outputs": [],
   "source": [
    "from tensorflow.keras import Model\n",
    "\n",
    "# 7 x 7 x 512 = 25088\n",
    "last_layer = model.get_layer('block5_pool')\n",
    "last_output = last_layer.output\n",
    "\n",
    "x = Flatten()(last_output)\n",
    "x = Dense(4096, activation='relu')(x)\n",
    "x = Dense(1024, activation='relu')(x)\n",
    "x = Dense(num_classes, activation='softmax')(x)\n",
    "\n",
    "model = Model(model.input, x)\n",
    "model.compile(optimizer = 'rmsprop',\n",
    "              loss = 'categorical_crossentropy',\n",
    "              metrics = ['acc'])"
   ]
  },
  {
   "cell_type": "markdown",
   "metadata": {
    "colab_type": "text",
    "id": "tzCPAPo0ZNeP"
   },
   "source": [
    "# Train the model\n",
    "Training the model with 20 epochs. The result will serve as a baseline model to benchmark on."
   ]
  },
  {
   "cell_type": "code",
   "execution_count": 69,
   "metadata": {
    "colab": {
     "base_uri": "https://localhost:8080/",
     "height": 317
    },
    "colab_type": "code",
    "id": "CSVv44Yfg9vr",
    "outputId": "b247bcf3-723e-40b4-90ab-23317fbd4a25"
   },
   "outputs": [
    {
     "name": "stdout",
     "output_type": "stream",
     "text": [
      "Epoch 1/20\n",
      "635/636 [============================>.] - ETA: 0s - loss: 4.7351 - acc: 0.1101Epoch 1/20\n",
      "636/636 [==============================] - 584s 919ms/step - loss: 4.7318 - acc: 0.1100 - val_loss: 2.5918 - val_acc: 0.1435\n",
      "Epoch 2/20\n",
      "635/636 [============================>.] - ETA: 0s - loss: 2.7189 - acc: 0.1195Epoch 1/20\n",
      "636/636 [==============================] - 554s 870ms/step - loss: 2.7190 - acc: 0.1193 - val_loss: 2.5467 - val_acc: 0.1435\n",
      "Epoch 3/20\n",
      "635/636 [============================>.] - ETA: 0s - loss: 2.6398 - acc: 0.1269Epoch 1/20\n",
      "636/636 [==============================] - 545s 856ms/step - loss: 2.6397 - acc: 0.1267 - val_loss: 2.5437 - val_acc: 0.1435\n",
      "Epoch 4/20\n",
      "635/636 [============================>.] - ETA: 0s - loss: 2.6049 - acc: 0.1285Epoch 1/20\n",
      "636/636 [==============================] - 550s 865ms/step - loss: 2.6054 - acc: 0.1283 - val_loss: 2.5465 - val_acc: 0.1435\n",
      "Epoch 5/20\n",
      "635/636 [============================>.] - ETA: 0s - loss: 2.6127 - acc: 0.1285Epoch 1/20\n",
      "636/636 [==============================] - 555s 873ms/step - loss: 2.6125 - acc: 0.1283 - val_loss: 2.5422 - val_acc: 0.1435\n",
      "Epoch 6/20\n",
      "635/636 [============================>.] - ETA: 0s - loss: 2.6101 - acc: 0.1285Epoch 1/20\n",
      "636/636 [==============================] - 548s 861ms/step - loss: 2.6103 - acc: 0.1283 - val_loss: 2.5410 - val_acc: 0.1435\n"
     ]
    }
   ],
   "source": [
    "from tensorflow.keras.callbacks import EarlyStopping\n",
    "\n",
    "early_stop = EarlyStopping(monitor='val_acc', min_delta=0, patience=5)\n",
    "\n",
    "history = model.fit_generator(train_generator,\n",
    "                              validation_data=val_generator,\n",
    "                              steps_per_epoch = num_iterations_train,\n",
    "                              epochs=20,\n",
    "                              validation_steps = num_iterations_val,\n",
    "                              callbacks=[early_stop],\n",
    "                              verbose=1)"
   ]
  },
  {
   "cell_type": "markdown",
   "metadata": {
    "colab_type": "text",
    "id": "8HVC6EhEs0C_"
   },
   "source": [
    "# Visualization"
   ]
  },
  {
   "cell_type": "code",
   "execution_count": 72,
   "metadata": {
    "colab": {
     "base_uri": "https://localhost:8080/",
     "height": 295
    },
    "colab_type": "code",
    "id": "QSSwqpdNszxA",
    "outputId": "85e0cf02-091e-4e4e-cec2-6081388dc4c0"
   },
   "outputs": [
    {
     "data": {
      "image/png": "[encoded data removed]",
      "text/plain": [
       "<Figure size 432x288 with 2 Axes>"
      ]
     },
     "metadata": {
      "tags": []
     },
     "output_type": "display_data"
    }
   ],
   "source": [
    " # summarize history for accuracy  \n",
    "   \n",
    "plt.subplot(211)  \n",
    "plt.plot(history.history['acc'])  \n",
    "plt.plot(history.history['val_acc'])  \n",
    "plt.title('model accuracy')  \n",
    "plt.ylabel('accuracy')  \n",
    "plt.xlabel('epoch')  \n",
    "plt.legend(['train', 'test'], loc='upper left')  \n",
    "  \n",
    "# summarize history for loss  \n",
    "  \n",
    "plt.subplot(212)  \n",
    "plt.plot(history.history['loss'])  \n",
    "plt.plot(history.history['val_loss'])  \n",
    "plt.title('model loss')  \n",
    "plt.ylabel('loss')  \n",
    "plt.xlabel('epoch')  \n",
    "plt.legend(['train', 'test'], loc='upper left')  \n",
    "plt.show() "
   ]
  },
  {
   "cell_type": "code",
   "execution_count": 0,
   "metadata": {
    "colab": {},
    "colab_type": "code",
    "id": "Le6dGFGynltJ"
   },
   "outputs": [],
   "source": []
  }
 ],
 "metadata": {
  "accelerator": "GPU",
  "colab": {
   "collapsed_sections": [],
   "machine_shape": "hm",
   "name": "TL_Tensorflow_cat_breed_classifier.ipynb",
   "provenance": []
  },
  "kernelspec": {
   "display_name": "Python 3",
   "language": "python",
   "name": "python3"
  },
  "language_info": {
   "codemirror_mode": {
    "name": "ipython",
    "version": 3
   },
   "file_extension": ".py",
   "mimetype": "text/x-python",
   "name": "python",
   "nbconvert_exporter": "python",
   "pygments_lexer": "ipython3",
   "version": "3.7.4"
  }
 },
 "nbformat": 4,
 "nbformat_minor": 1
}
